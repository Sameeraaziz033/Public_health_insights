{
 "cells": [
  {
   "cell_type": "markdown",
   "id": "a625f4cb-9104-4ed7-982f-9f58a79eac37",
   "metadata": {},
   "source": [
    "# Tuples"
   ]
  },
  {
   "cell_type": "markdown",
   "id": "7ed07274-16f9-4e91-b91d-814a141aa787",
   "metadata": {},
   "source": [
    "## Tuples are immutable"
   ]
  },
  {
   "cell_type": "code",
   "execution_count": 1,
   "id": "4f87523a-7929-4022-a52e-6bd91d19a7b5",
   "metadata": {},
   "outputs": [
    {
     "data": {
      "text/plain": [
       "(3, 4, 5, 6)"
      ]
     },
     "execution_count": 1,
     "metadata": {},
     "output_type": "execute_result"
    }
   ],
   "source": [
    "t = 3, 4, 5, 6\n",
    "t"
   ]
  },
  {
   "cell_type": "code",
   "execution_count": 2,
   "id": "472c8e9b-5251-47f8-9684-383bb22500b9",
   "metadata": {},
   "outputs": [
    {
     "data": {
      "text/plain": [
       "tuple"
      ]
     },
     "execution_count": 2,
     "metadata": {},
     "output_type": "execute_result"
    }
   ],
   "source": [
    "type(t)"
   ]
  },
  {
   "cell_type": "code",
   "execution_count": 3,
   "id": "74bc0230-34b3-48a5-8413-d71db54ffa7b",
   "metadata": {},
   "outputs": [
    {
     "data": {
      "text/plain": [
       "tuple"
      ]
     },
     "execution_count": 3,
     "metadata": {},
     "output_type": "execute_result"
    }
   ],
   "source": [
    "t = (3, 4, 5, 6)\n",
    "type(t)"
   ]
  },
  {
   "cell_type": "code",
   "execution_count": 4,
   "id": "90985068-3c12-4534-8c63-85a285d5b9ac",
   "metadata": {},
   "outputs": [
    {
     "data": {
      "text/plain": [
       "int"
      ]
     },
     "execution_count": 4,
     "metadata": {},
     "output_type": "execute_result"
    }
   ],
   "source": [
    "tuple_one = (10)\n",
    "type(tuple_one)"
   ]
  },
  {
   "cell_type": "code",
   "execution_count": 5,
   "id": "eb5c0b68-7e6e-47be-9f0e-5550a4cd4a7d",
   "metadata": {},
   "outputs": [
    {
     "data": {
      "text/plain": [
       "tuple"
      ]
     },
     "execution_count": 5,
     "metadata": {},
     "output_type": "execute_result"
    }
   ],
   "source": [
    "tuple_one = (10,)\n",
    "type(tuple_one)"
   ]
  },
  {
   "cell_type": "code",
   "execution_count": 6,
   "id": "04b970b4-4a19-4038-9a65-e935ea4a70f3",
   "metadata": {},
   "outputs": [],
   "source": [
    "empty = tuple()"
   ]
  },
  {
   "cell_type": "code",
   "execution_count": 7,
   "id": "60b948c3-6410-4dff-84d5-e8793d9c5672",
   "metadata": {},
   "outputs": [
    {
     "data": {
      "text/plain": [
       "(3, 4, 5, 6)"
      ]
     },
     "execution_count": 7,
     "metadata": {},
     "output_type": "execute_result"
    }
   ],
   "source": [
    "t "
   ]
  },
  {
   "cell_type": "code",
   "execution_count": 8,
   "id": "bafa488f-bbd9-4c0d-bfee-90b1559e8ce0",
   "metadata": {},
   "outputs": [
    {
     "data": {
      "text/plain": [
       "3"
      ]
     },
     "execution_count": 8,
     "metadata": {},
     "output_type": "execute_result"
    }
   ],
   "source": [
    "t[0]"
   ]
  },
  {
   "cell_type": "code",
   "execution_count": 9,
   "id": "00c1ad9c-fe92-4528-8cfa-ebecac873066",
   "metadata": {},
   "outputs": [
    {
     "ename": "TypeError",
     "evalue": "'tuple' object does not support item assignment",
     "output_type": "error",
     "traceback": [
      "\u001b[1;31m---------------------------------------------------------------------------\u001b[0m",
      "\u001b[1;31mTypeError\u001b[0m                                 Traceback (most recent call last)",
      "Cell \u001b[1;32mIn[9], line 1\u001b[0m\n\u001b[1;32m----> 1\u001b[0m \u001b[43mt\u001b[49m\u001b[43m[\u001b[49m\u001b[38;5;241;43m0\u001b[39;49m\u001b[43m]\u001b[49m \u001b[38;5;241m=\u001b[39m \u001b[38;5;241m300\u001b[39m\n",
      "\u001b[1;31mTypeError\u001b[0m: 'tuple' object does not support item assignment"
     ]
    }
   ],
   "source": [
    "t[0] = 300"
   ]
  },
  {
   "cell_type": "markdown",
   "id": "55fca2d6-1061-4d57-a4fe-2fda552d3755",
   "metadata": {},
   "source": [
    "## Tuple Assignment"
   ]
  },
  {
   "cell_type": "code",
   "execution_count": 11,
   "id": "771d01b8-3a4e-415e-887a-5a428e1068ca",
   "metadata": {},
   "outputs": [
    {
     "data": {
      "text/plain": [
       "20"
      ]
     },
     "execution_count": 11,
     "metadata": {},
     "output_type": "execute_result"
    }
   ],
   "source": [
    "t = (10, 20)\n",
    "\n",
    "price, hours = t\n",
    "hours"
   ]
  },
  {
   "cell_type": "code",
   "execution_count": 12,
   "id": "625b663c-ba36-4eda-a784-915fccee45fd",
   "metadata": {},
   "outputs": [
    {
     "data": {
      "text/plain": [
       "10"
      ]
     },
     "execution_count": 12,
     "metadata": {},
     "output_type": "execute_result"
    }
   ],
   "source": [
    "price, hours = 10, 20\n",
    "price"
   ]
  },
  {
   "cell_type": "markdown",
   "id": "d74b0ddc-3319-4acc-9e15-a3b20dae3ff9",
   "metadata": {},
   "source": [
    "## Tuples with Dictionaries"
   ]
  },
  {
   "cell_type": "code",
   "execution_count": 13,
   "id": "7953093d-dbad-4c44-bf8a-2c55c7a042fa",
   "metadata": {},
   "outputs": [
    {
     "data": {
      "text/plain": [
       "{'one': 'واحد', 'two': 'إثنين'}"
      ]
     },
     "execution_count": 13,
     "metadata": {},
     "output_type": "execute_result"
    }
   ],
   "source": [
    "dic = {\"one\":\"واحد\",\n",
    "       \"two\":\"إثنين\",\n",
    "       \n",
    "      }\n",
    "dic"
   ]
  },
  {
   "cell_type": "code",
   "execution_count": 14,
   "id": "88557586-8599-451e-9280-7253af245229",
   "metadata": {},
   "outputs": [
    {
     "data": {
      "text/plain": [
       "dict_items([('one', 'واحد'), ('two', 'إثنين')])"
      ]
     },
     "execution_count": 14,
     "metadata": {},
     "output_type": "execute_result"
    }
   ],
   "source": [
    "dic.items()"
   ]
  },
  {
   "cell_type": "code",
   "execution_count": 15,
   "id": "64a4e846-111e-4627-9493-3b9507a5c6a2",
   "metadata": {},
   "outputs": [
    {
     "data": {
      "text/plain": [
       "{('Manama', 'BH'): 100000, ('Dubai', 'AUE'): 200111}"
      ]
     },
     "execution_count": 15,
     "metadata": {},
     "output_type": "execute_result"
    }
   ],
   "source": [
    "city_dic = {('Manama', 'BH'):100000,\n",
    "           ('Dubai', 'AUE'):200111}\n",
    "city_dic"
   ]
  },
  {
   "cell_type": "code",
   "execution_count": 17,
   "id": "26fc6956-c9e3-4411-b0e2-d22fc8309da8",
   "metadata": {},
   "outputs": [
    {
     "data": {
      "text/plain": [
       "100000"
      ]
     },
     "execution_count": 17,
     "metadata": {},
     "output_type": "execute_result"
    }
   ],
   "source": [
    "city_dic[('Manama', 'BH')]"
   ]
  },
  {
   "cell_type": "code",
   "execution_count": null,
   "id": "8ee89502-0732-4754-ba0c-d0c17c0bf6e9",
   "metadata": {},
   "outputs": [],
   "source": []
  }
 ],
 "metadata": {
  "kernelspec": {
   "display_name": "Python [conda env:base] *",
   "language": "python",
   "name": "conda-base-py"
  },
  "language_info": {
   "codemirror_mode": {
    "name": "ipython",
    "version": 3
   },
   "file_extension": ".py",
   "mimetype": "text/x-python",
   "name": "python",
   "nbconvert_exporter": "python",
   "pygments_lexer": "ipython3",
   "version": "3.13.5"
  }
 },
 "nbformat": 4,
 "nbformat_minor": 5
}
