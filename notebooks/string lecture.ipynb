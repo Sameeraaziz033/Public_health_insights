{
 "cells": [
  {
   "cell_type": "markdown",
   "id": "a67d815f-4d4f-4b17-b51a-db093d4c2f52",
   "metadata": {},
   "source": [
    "# String"
   ]
  },
  {
   "cell_type": "markdown",
   "id": "d3db9157-d300-4735-a0be-9a12e4fedcf5",
   "metadata": {},
   "source": [
    "## String is a Sequence"
   ]
  },
  {
   "cell_type": "code",
   "execution_count": 1,
   "id": "0db4e911-afee-4586-9660-51fcb7c24232",
   "metadata": {},
   "outputs": [
    {
     "data": {
      "text/plain": [
       "'Mohamed@#'"
      ]
     },
     "execution_count": 1,
     "metadata": {},
     "output_type": "execute_result"
    }
   ],
   "source": [
    "name = \"Mohamed@#1234\"\n",
    "name"
   ]
  },
  {
   "cell_type": "code",
   "execution_count": 3,
   "id": "98d2aa90-3002-4cc2-b6b5-67a5f8d824d8",
   "metadata": {},
   "outputs": [
    {
     "data": {
      "text/plain": [
       "'Mohamed'"
      ]
     },
     "execution_count": 3,
     "metadata": {},
     "output_type": "execute_result"
    }
   ],
   "source": [
    "name = 'Mohamed'\n",
    "name"
   ]
  },
  {
   "cell_type": "code",
   "execution_count": 4,
   "id": "3b644721-42f2-4ec7-8814-538b339dfd77",
   "metadata": {},
   "outputs": [
    {
     "data": {
      "text/plain": [
       "str"
      ]
     },
     "execution_count": 4,
     "metadata": {},
     "output_type": "execute_result"
    }
   ],
   "source": [
    "type(name)"
   ]
  },
  {
   "cell_type": "markdown",
   "id": "77bb2463-6bd6-4ad7-96da-834bee1f2f56",
   "metadata": {},
   "source": [
    "![](https://encrypted-tbn0.gstatic.com/images?q=tbn:ANd9GcRGonAyqglhDe99S5_czyhHYxwu4k9CozREbA&s)"
   ]
  },
  {
   "cell_type": "code",
   "execution_count": 5,
   "id": "1492e63f-994c-47c7-a58b-fd07d41fd301",
   "metadata": {},
   "outputs": [],
   "source": [
    "prog = \"Python\""
   ]
  },
  {
   "cell_type": "code",
   "execution_count": 9,
   "id": "fae54f5e-d3be-4588-a948-20a31e9e38b7",
   "metadata": {},
   "outputs": [
    {
     "ename": "IndexError",
     "evalue": "string index out of range",
     "output_type": "error",
     "traceback": [
      "\u001b[1;31m---------------------------------------------------------------------------\u001b[0m",
      "\u001b[1;31mIndexError\u001b[0m                                Traceback (most recent call last)",
      "Cell \u001b[1;32mIn[9], line 1\u001b[0m\n\u001b[1;32m----> 1\u001b[0m \u001b[43mprog\u001b[49m\u001b[43m[\u001b[49m\u001b[38;5;241;43m6\u001b[39;49m\u001b[43m]\u001b[49m\n",
      "\u001b[1;31mIndexError\u001b[0m: string index out of range"
     ]
    }
   ],
   "source": [
    "prog[6]"
   ]
  },
  {
   "cell_type": "code",
   "execution_count": 6,
   "id": "0d40d240-2755-4f1f-963d-07aa9ec80b31",
   "metadata": {},
   "outputs": [
    {
     "data": {
      "text/plain": [
       "'y'"
      ]
     },
     "execution_count": 6,
     "metadata": {},
     "output_type": "execute_result"
    }
   ],
   "source": [
    "prog[1]"
   ]
  },
  {
   "cell_type": "code",
   "execution_count": 8,
   "id": "b7614e14-2e2e-4b37-a22a-3fa616f01dec",
   "metadata": {},
   "outputs": [
    {
     "data": {
      "text/plain": [
       "'P'"
      ]
     },
     "execution_count": 8,
     "metadata": {},
     "output_type": "execute_result"
    }
   ],
   "source": [
    "prog[0]"
   ]
  },
  {
   "cell_type": "code",
   "execution_count": 10,
   "id": "620207ec-cd2e-45d9-b269-2012b0df78ea",
   "metadata": {},
   "outputs": [
    {
     "ename": "TypeError",
     "evalue": "string indices must be integers",
     "output_type": "error",
     "traceback": [
      "\u001b[1;31m---------------------------------------------------------------------------\u001b[0m",
      "\u001b[1;31mTypeError\u001b[0m                                 Traceback (most recent call last)",
      "Cell \u001b[1;32mIn[10], line 1\u001b[0m\n\u001b[1;32m----> 1\u001b[0m \u001b[43mprog\u001b[49m\u001b[43m[\u001b[49m\u001b[38;5;241;43m1.5\u001b[39;49m\u001b[43m]\u001b[49m\n",
      "\u001b[1;31mTypeError\u001b[0m: string indices must be integers"
     ]
    }
   ],
   "source": [
    "prog[1.5]"
   ]
  },
  {
   "cell_type": "markdown",
   "id": "0329b5a7-6953-41b7-b7da-7daddc03bc0b",
   "metadata": {},
   "source": [
    "## Getting the length of string using `len`"
   ]
  },
  {
   "cell_type": "code",
   "execution_count": 11,
   "id": "8051fa9d-f909-4a4a-9184-a188280d014c",
   "metadata": {},
   "outputs": [
    {
     "data": {
      "text/plain": [
       "'Python'"
      ]
     },
     "execution_count": 11,
     "metadata": {},
     "output_type": "execute_result"
    }
   ],
   "source": [
    "prog"
   ]
  },
  {
   "cell_type": "code",
   "execution_count": 12,
   "id": "8aa298b7-b6d3-422a-a1d1-3a9f7fd56cf2",
   "metadata": {},
   "outputs": [
    {
     "data": {
      "text/plain": [
       "6"
      ]
     },
     "execution_count": 12,
     "metadata": {},
     "output_type": "execute_result"
    }
   ],
   "source": [
    "len(prog)"
   ]
  },
  {
   "cell_type": "code",
   "execution_count": 13,
   "id": "07fac24c-de9a-483a-8520-42eff431e6ee",
   "metadata": {},
   "outputs": [
    {
     "data": {
      "text/plain": [
       "10"
      ]
     },
     "execution_count": 13,
     "metadata": {},
     "output_type": "execute_result"
    }
   ],
   "source": [
    "name = 'Aya       '\n",
    "len(name)"
   ]
  },
  {
   "cell_type": "code",
   "execution_count": 14,
   "id": "6a65b38f-ed67-4a8b-aae6-fb24196a4b93",
   "metadata": {},
   "outputs": [
    {
     "data": {
      "text/plain": [
       "4"
      ]
     },
     "execution_count": 14,
     "metadata": {},
     "output_type": "execute_result"
    }
   ],
   "source": [
    "name = \"زينب\"\n",
    "len(name)"
   ]
  },
  {
   "cell_type": "code",
   "execution_count": 15,
   "id": "f4a6a7b4-7994-4874-9b27-8f65ef69c15a",
   "metadata": {},
   "outputs": [
    {
     "data": {
      "text/plain": [
       "5"
      ]
     },
     "execution_count": 15,
     "metadata": {},
     "output_type": "execute_result"
    }
   ],
   "source": [
    "name = \"زَينب\"\n",
    "len(name)"
   ]
  },
  {
   "cell_type": "code",
   "execution_count": 16,
   "id": "0378ebc0-46f6-4733-9bce-5b384ed061c5",
   "metadata": {},
   "outputs": [
    {
     "data": {
      "text/plain": [
       "29"
      ]
     },
     "execution_count": 16,
     "metadata": {},
     "output_type": "execute_result"
    }
   ],
   "source": [
    "name = \"زَيــــــــــــــــــــــــنب\"\n",
    "len(name)"
   ]
  },
  {
   "cell_type": "markdown",
   "id": "73f63e44-1e39-441d-bd83-d6e194c60729",
   "metadata": {},
   "source": [
    "## Traversing String"
   ]
  },
  {
   "cell_type": "code",
   "execution_count": 21,
   "id": "6acb8ad0-b110-49e0-b0c0-5751264871fa",
   "metadata": {},
   "outputs": [
    {
     "name": "stdout",
     "output_type": "stream",
     "text": [
      "ز\n",
      "َ\n",
      "ي\n",
      "ن\n",
      "ب\n"
     ]
    }
   ],
   "source": [
    "name = \"زَينب\"\n",
    "\n",
    "for letter in name:\n",
    "    print(letter)"
   ]
  },
  {
   "cell_type": "code",
   "execution_count": 26,
   "id": "8a33e771-f1c1-42c5-bbeb-5991ffcc52b4",
   "metadata": {},
   "outputs": [
    {
     "name": "stdout",
     "output_type": "stream",
     "text": [
      "ز\n",
      "َ\n",
      "ي\n",
      "ن\n",
      "ب\n"
     ]
    }
   ],
   "source": [
    "name = \"زَينب\"\n",
    "\n",
    "print(name[0])\n",
    "print(name[1])\n",
    "print(name[2])\n",
    "print(name[3])\n",
    "print(name[4])"
   ]
  },
  {
   "cell_type": "code",
   "execution_count": 27,
   "id": "29dea8f6-3319-4427-8741-ee0a180e66bc",
   "metadata": {},
   "outputs": [
    {
     "data": {
      "text/plain": [
       "5"
      ]
     },
     "execution_count": 27,
     "metadata": {},
     "output_type": "execute_result"
    }
   ],
   "source": [
    "len(name)"
   ]
  },
  {
   "cell_type": "code",
   "execution_count": 29,
   "id": "76c7b829-7102-42be-a190-b126cdde64d5",
   "metadata": {},
   "outputs": [
    {
     "name": "stdout",
     "output_type": "stream",
     "text": [
      "0\n",
      "1\n",
      "2\n",
      "3\n",
      "4\n"
     ]
    }
   ],
   "source": [
    "i = 0\n",
    "while i < 5:\n",
    "    print(i)\n",
    "    i += 1"
   ]
  },
  {
   "cell_type": "code",
   "execution_count": 28,
   "id": "c608fd23-5883-48ef-8f2a-a268e1d8461d",
   "metadata": {},
   "outputs": [
    {
     "name": "stdout",
     "output_type": "stream",
     "text": [
      "ز\n",
      "َ\n",
      "ي\n",
      "ن\n",
      "ب\n"
     ]
    }
   ],
   "source": [
    "i = 0\n",
    "while i < len(name):\n",
    "    print(name[i])\n",
    "    i += 1"
   ]
  },
  {
   "cell_type": "code",
   "execution_count": null,
   "id": "f2209ed7-a5b3-40b9-b600-701981092164",
   "metadata": {},
   "outputs": [
    {
     "name": "stdout",
     "output_type": "stream",
     "text": [
      "زَينب"
     ]
    }
   ],
   "source": [
    "i = 0\n",
    "while i < len(name):\n",
    "    print(name[i], end='')\n",
    "    i += 1"
   ]
  },
  {
   "cell_type": "code",
   "execution_count": 32,
   "id": "1ed07f9c-779f-40aa-81c8-2763e0cc6760",
   "metadata": {},
   "outputs": [
    {
     "data": {
      "text/plain": [
       "'زَينب'"
      ]
     },
     "execution_count": 32,
     "metadata": {},
     "output_type": "execute_result"
    }
   ],
   "source": [
    "name"
   ]
  },
  {
   "cell_type": "code",
   "execution_count": 31,
   "id": "603614dd-40a3-41b7-ac0e-a000a043e0fa",
   "metadata": {
    "scrolled": true
   },
   "outputs": [
    {
     "name": "stdout",
     "output_type": "stream",
     "text": [
      "ز\n",
      "َ\n",
      "ي\n",
      "ن\n",
      "ب\n"
     ]
    }
   ],
   "source": [
    "i = 0\n",
    "while i < len(name):print(name[i]);i += 1"
   ]
  },
  {
   "cell_type": "code",
   "execution_count": 35,
   "id": "c08eb3ba-498a-4732-8fbf-a8121eb2ff01",
   "metadata": {},
   "outputs": [
    {
     "name": "stdout",
     "output_type": "stream",
     "text": [
      "ب\n",
      "ن\n",
      "ي\n",
      "َ\n",
      "ز\n"
     ]
    }
   ],
   "source": [
    "name = \"زَينب\"\n",
    "print(name[4])\n",
    "print(name[3])\n",
    "print(name[2])\n",
    "print(name[1])\n",
    "print(name[0])"
   ]
  },
  {
   "cell_type": "markdown",
   "id": "ef8068d0-40b9-417a-b6ff-7a2e99b6da49",
   "metadata": {},
   "source": [
    "## String Slicing"
   ]
  },
  {
   "cell_type": "markdown",
   "id": "c4d6f610-aa74-45d6-b4be-49348c19ad4d",
   "metadata": {},
   "source": [
    "![](https://d8it4huxumps7.cloudfront.net/uploads/images/658291edeeef7_python_string_replace2.jpg)"
   ]
  },
  {
   "cell_type": "code",
   "execution_count": 42,
   "id": "6bbd94f2-e878-4bbb-b6ac-57b0ad7259b0",
   "metadata": {},
   "outputs": [],
   "source": [
    "name = 'aya'"
   ]
  },
  {
   "cell_type": "code",
   "execution_count": 43,
   "id": "0e057ba8-6428-4cb5-9416-549e0d2c2ff0",
   "metadata": {},
   "outputs": [
    {
     "data": {
      "text/plain": [
       "'a'"
      ]
     },
     "execution_count": 43,
     "metadata": {},
     "output_type": "execute_result"
    }
   ],
   "source": [
    "name[2]"
   ]
  },
  {
   "cell_type": "code",
   "execution_count": 44,
   "id": "fa799ed8-d7dd-451c-aead-96f60a7404ac",
   "metadata": {},
   "outputs": [
    {
     "data": {
      "text/plain": [
       "2"
      ]
     },
     "execution_count": 44,
     "metadata": {},
     "output_type": "execute_result"
    }
   ],
   "source": [
    "len(name)-1"
   ]
  },
  {
   "cell_type": "code",
   "execution_count": 48,
   "id": "5d4e8263-09b5-4c91-9224-1b62690c67f2",
   "metadata": {
    "jupyter": {
     "source_hidden": true
    }
   },
   "outputs": [
    {
     "data": {
      "text/plain": [
       "'h'"
      ]
     },
     "execution_count": 48,
     "metadata": {},
     "output_type": "execute_result"
    }
   ],
   "source": [
    "name = 'ayah'\n",
    "name[len(name)-1] # name[4-1] -> name[3]"
   ]
  },
  {
   "cell_type": "code",
   "execution_count": 49,
   "id": "c3ba84c3-8cdc-4f3b-82f8-a06c7c9a648d",
   "metadata": {},
   "outputs": [
    {
     "data": {
      "text/plain": [
       "'y'"
      ]
     },
     "execution_count": 49,
     "metadata": {},
     "output_type": "execute_result"
    }
   ],
   "source": [
    "sen = \"Python is easy\"\n",
    "sen[-1]"
   ]
  },
  {
   "cell_type": "raw",
   "id": "94dbf41e-61c6-42f9-a5ef-e9cad099f9fe",
   "metadata": {},
   "source": [
    "sen[start : end+1 : step]"
   ]
  },
  {
   "cell_type": "code",
   "execution_count": 51,
   "id": "d1b6b5db-3701-4098-893a-8deababc837c",
   "metadata": {},
   "outputs": [
    {
     "data": {
      "text/plain": [
       "'is'"
      ]
     },
     "execution_count": 51,
     "metadata": {},
     "output_type": "execute_result"
    }
   ],
   "source": [
    "sen[7:8+1]"
   ]
  },
  {
   "cell_type": "code",
   "execution_count": 52,
   "id": "257cce44-2a66-4bd3-aa8f-666337221b51",
   "metadata": {},
   "outputs": [
    {
     "data": {
      "text/plain": [
       "'is'"
      ]
     },
     "execution_count": 52,
     "metadata": {},
     "output_type": "execute_result"
    }
   ],
   "source": [
    "sen[7:9]"
   ]
  },
  {
   "cell_type": "code",
   "execution_count": 54,
   "id": "b521e6c7-71b4-4b6b-b92d-372839e28301",
   "metadata": {},
   "outputs": [
    {
     "data": {
      "text/plain": [
       "'Python'"
      ]
     },
     "execution_count": 54,
     "metadata": {},
     "output_type": "execute_result"
    }
   ],
   "source": [
    "sen[0:6]"
   ]
  },
  {
   "cell_type": "code",
   "execution_count": 56,
   "id": "ff2459ad-934e-4324-8b74-fc1ba858e6d7",
   "metadata": {},
   "outputs": [
    {
     "data": {
      "text/plain": [
       "''"
      ]
     },
     "execution_count": 56,
     "metadata": {},
     "output_type": "execute_result"
    }
   ],
   "source": [
    "sen[0:0]"
   ]
  },
  {
   "cell_type": "code",
   "execution_count": 57,
   "id": "a44a82fc-0def-4362-a76d-ba77e90d7214",
   "metadata": {},
   "outputs": [
    {
     "data": {
      "text/plain": [
       "''"
      ]
     },
     "execution_count": 57,
     "metadata": {},
     "output_type": "execute_result"
    }
   ],
   "source": [
    "sen[5:3]"
   ]
  },
  {
   "cell_type": "code",
   "execution_count": 55,
   "id": "88b78b16-c0a6-48cf-a925-0627d203d640",
   "metadata": {},
   "outputs": [
    {
     "data": {
      "text/plain": [
       "''"
      ]
     },
     "execution_count": 55,
     "metadata": {},
     "output_type": "execute_result"
    }
   ],
   "source": [
    "sen[-9:-15]"
   ]
  },
  {
   "cell_type": "code",
   "execution_count": 59,
   "id": "bb4df604-b8f8-4d79-95f0-4247dbe7b28e",
   "metadata": {},
   "outputs": [
    {
     "data": {
      "text/plain": [
       "'Python'"
      ]
     },
     "execution_count": 59,
     "metadata": {},
     "output_type": "execute_result"
    }
   ],
   "source": [
    "sen[-14:-8]"
   ]
  },
  {
   "cell_type": "code",
   "execution_count": 61,
   "id": "96f6f14b-d70d-4af7-8be4-77be72bdff26",
   "metadata": {},
   "outputs": [
    {
     "data": {
      "text/plain": [
       "'Pto'"
      ]
     },
     "execution_count": 61,
     "metadata": {},
     "output_type": "execute_result"
    }
   ],
   "source": [
    "sen[0:6:2]"
   ]
  },
  {
   "cell_type": "raw",
   "id": "dc550b30-cfe5-4b9c-aac2-594efba6a15e",
   "metadata": {},
   "source": [
    "sen[start=0 : end+1=END_OF_STR : step=1]"
   ]
  },
  {
   "cell_type": "code",
   "execution_count": 62,
   "id": "443a01c7-0250-4daa-894d-961b92d55584",
   "metadata": {},
   "outputs": [
    {
     "data": {
      "text/plain": [
       "'aya'"
      ]
     },
     "execution_count": 62,
     "metadata": {},
     "output_type": "execute_result"
    }
   ],
   "source": [
    "name = 'ayah'\n",
    "name[0:3]"
   ]
  },
  {
   "cell_type": "code",
   "execution_count": 63,
   "id": "901958ca-a390-44c5-afb7-44d0c567c152",
   "metadata": {},
   "outputs": [
    {
     "data": {
      "text/plain": [
       "'aya'"
      ]
     },
     "execution_count": 63,
     "metadata": {},
     "output_type": "execute_result"
    }
   ],
   "source": [
    "name[:3]"
   ]
  },
  {
   "cell_type": "code",
   "execution_count": 64,
   "id": "4ef2e30f-9db4-4322-a922-719e3e77100d",
   "metadata": {},
   "outputs": [
    {
     "data": {
      "text/plain": [
       "'ayah'"
      ]
     },
     "execution_count": 64,
     "metadata": {},
     "output_type": "execute_result"
    }
   ],
   "source": [
    "name = 'ayah'\n",
    "\n",
    "name[0::1]"
   ]
  },
  {
   "cell_type": "code",
   "execution_count": 65,
   "id": "fb6017c4-aa05-4dfb-a159-47a288901172",
   "metadata": {},
   "outputs": [
    {
     "data": {
      "text/plain": [
       "'ayah'"
      ]
     },
     "execution_count": 65,
     "metadata": {},
     "output_type": "execute_result"
    }
   ],
   "source": [
    "name = 'ayah'\n",
    "name[::]"
   ]
  },
  {
   "cell_type": "code",
   "execution_count": 66,
   "id": "b2b33902-8e27-4c22-b274-8700678c20d8",
   "metadata": {},
   "outputs": [
    {
     "data": {
      "text/plain": [
       "'ayah'"
      ]
     },
     "execution_count": 66,
     "metadata": {},
     "output_type": "execute_result"
    }
   ],
   "source": [
    "name[::1]"
   ]
  },
  {
   "cell_type": "code",
   "execution_count": 73,
   "id": "13c07373-715f-47be-8e26-0c325aa0af59",
   "metadata": {},
   "outputs": [
    {
     "data": {
      "text/plain": [
       "'haya'"
      ]
     },
     "execution_count": 73,
     "metadata": {},
     "output_type": "execute_result"
    }
   ],
   "source": [
    "name[::-1] # reverse the name"
   ]
  },
  {
   "cell_type": "markdown",
   "id": "041e13b2-3fbc-4d6d-955d-cf0004b8ae0c",
   "metadata": {},
   "source": [
    "## String are Immutable"
   ]
  },
  {
   "cell_type": "code",
   "execution_count": 74,
   "id": "398f565a-6941-4c0d-a750-206ae698c322",
   "metadata": {},
   "outputs": [],
   "source": [
    "name = \"ayah\""
   ]
  },
  {
   "cell_type": "code",
   "execution_count": 75,
   "id": "c064e709-9ff0-4361-a7ae-5044cd082d59",
   "metadata": {},
   "outputs": [
    {
     "data": {
      "text/plain": [
       "'a'"
      ]
     },
     "execution_count": 75,
     "metadata": {},
     "output_type": "execute_result"
    }
   ],
   "source": [
    "name[0]"
   ]
  },
  {
   "cell_type": "code",
   "execution_count": 76,
   "id": "ea6e0512-aa14-4371-8288-ee10bdef0948",
   "metadata": {
    "scrolled": true
   },
   "outputs": [
    {
     "ename": "TypeError",
     "evalue": "'str' object does not support item assignment",
     "output_type": "error",
     "traceback": [
      "\u001b[1;31m---------------------------------------------------------------------------\u001b[0m",
      "\u001b[1;31mTypeError\u001b[0m                                 Traceback (most recent call last)",
      "Cell \u001b[1;32mIn[76], line 1\u001b[0m\n\u001b[1;32m----> 1\u001b[0m \u001b[43mname\u001b[49m\u001b[43m[\u001b[49m\u001b[38;5;241;43m0\u001b[39;49m\u001b[43m]\u001b[49m \u001b[38;5;241m=\u001b[39m \u001b[38;5;124m'\u001b[39m\u001b[38;5;124mA\u001b[39m\u001b[38;5;124m'\u001b[39m\n",
      "\u001b[1;31mTypeError\u001b[0m: 'str' object does not support item assignment"
     ]
    }
   ],
   "source": [
    "name[0] = 'A'"
   ]
  },
  {
   "cell_type": "markdown",
   "id": "2c32e42b-39e8-41b6-bbba-7737f4c3326c",
   "metadata": {},
   "source": [
    "## Looping & Counting"
   ]
  },
  {
   "cell_type": "code",
   "execution_count": 85,
   "id": "cd1b2520-efd5-4a33-90a4-56f7fcd531c3",
   "metadata": {},
   "outputs": [
    {
     "name": "stdout",
     "output_type": "stream",
     "text": [
      "2\n"
     ]
    }
   ],
   "source": [
    "name = \"ayah\"\n",
    "count = 0\n",
    "\n",
    "for ch in name:\n",
    "    if ch == 'a':\n",
    "        count +=1\n",
    "print(count)"
   ]
  },
  {
   "cell_type": "markdown",
   "id": "f3ad37c4-c973-42bc-be33-30b969ea90f0",
   "metadata": {},
   "source": [
    "## The `in` Operator"
   ]
  },
  {
   "cell_type": "code",
   "execution_count": 86,
   "id": "5a03cb25-1d9d-4700-a9a3-edf8f56fd3f7",
   "metadata": {},
   "outputs": [
    {
     "data": {
      "text/plain": [
       "True"
      ]
     },
     "execution_count": 86,
     "metadata": {},
     "output_type": "execute_result"
    }
   ],
   "source": [
    "'y' in 'Ayah'"
   ]
  },
  {
   "cell_type": "code",
   "execution_count": 87,
   "id": "1cd8fe46-fcf3-408d-9d8a-14d9b03c86b3",
   "metadata": {},
   "outputs": [
    {
     "data": {
      "text/plain": [
       "False"
      ]
     },
     "execution_count": 87,
     "metadata": {},
     "output_type": "execute_result"
    }
   ],
   "source": [
    "'z' in 'Ayah'"
   ]
  },
  {
   "cell_type": "code",
   "execution_count": 92,
   "id": "c3ee0044-173b-4b5c-bba7-5b5570235e57",
   "metadata": {},
   "outputs": [
    {
     "data": {
      "text/plain": [
       "True"
      ]
     },
     "execution_count": 92,
     "metadata": {},
     "output_type": "execute_result"
    }
   ],
   "source": [
    "'yah' in 'ayah'"
   ]
  },
  {
   "cell_type": "code",
   "execution_count": 93,
   "id": "70ea51bc-fac4-438a-8a0e-c3d916a0b256",
   "metadata": {},
   "outputs": [
    {
     "data": {
      "text/plain": [
       "True"
      ]
     },
     "execution_count": 93,
     "metadata": {},
     "output_type": "execute_result"
    }
   ],
   "source": [
    "'ayah' in 'ayah'"
   ]
  },
  {
   "cell_type": "code",
   "execution_count": 95,
   "id": "fec7402a-f5d7-4aad-bb3c-c716c563e17e",
   "metadata": {},
   "outputs": [
    {
     "data": {
      "text/plain": [
       "False"
      ]
     },
     "execution_count": 95,
     "metadata": {},
     "output_type": "execute_result"
    }
   ],
   "source": [
    "'A' in 'ayah'"
   ]
  },
  {
   "cell_type": "code",
   "execution_count": 91,
   "id": "d282443a-6ae2-4c84-adc1-58654b72d2db",
   "metadata": {},
   "outputs": [
    {
     "data": {
      "text/plain": [
       "False"
      ]
     },
     "execution_count": 91,
     "metadata": {},
     "output_type": "execute_result"
    }
   ],
   "source": [
    "'hay' in 'Ayah'"
   ]
  },
  {
   "cell_type": "code",
   "execution_count": 90,
   "id": "36694411-e05e-4cd1-b2a5-154df21a3300",
   "metadata": {},
   "outputs": [
    {
     "data": {
      "text/plain": [
       "True"
      ]
     },
     "execution_count": 90,
     "metadata": {},
     "output_type": "execute_result"
    }
   ],
   "source": [
    "('y' in 'Ayah') and ('h' in 'Ayah')"
   ]
  },
  {
   "cell_type": "markdown",
   "id": "730f0b45-a67c-441c-831f-c5677b958b53",
   "metadata": {},
   "source": [
    "## String Methods"
   ]
  },
  {
   "cell_type": "code",
   "execution_count": 96,
   "id": "213df991-f96e-460c-b64f-956e03f7aa55",
   "metadata": {},
   "outputs": [
    {
     "data": {
      "text/plain": [
       "6"
      ]
     },
     "execution_count": 96,
     "metadata": {},
     "output_type": "execute_result"
    }
   ],
   "source": [
    "3 + 3 "
   ]
  },
  {
   "cell_type": "code",
   "execution_count": 97,
   "id": "6a1d5f1d-629b-4cf3-a38c-a18a643963fa",
   "metadata": {},
   "outputs": [
    {
     "data": {
      "text/plain": [
       "'33'"
      ]
     },
     "execution_count": 97,
     "metadata": {},
     "output_type": "execute_result"
    }
   ],
   "source": [
    "'3'+'3'"
   ]
  },
  {
   "cell_type": "code",
   "execution_count": 106,
   "id": "403e8439-cde5-411f-b05f-5e87ebf7db99",
   "metadata": {},
   "outputs": [],
   "source": [
    "name = 'Ayah ayman'"
   ]
  },
  {
   "cell_type": "code",
   "execution_count": 107,
   "id": "24965bf7-72b5-4030-a17d-165ed7a3a2f8",
   "metadata": {},
   "outputs": [
    {
     "data": {
      "text/plain": [
       "'AYAH AYMAN'"
      ]
     },
     "execution_count": 107,
     "metadata": {},
     "output_type": "execute_result"
    }
   ],
   "source": [
    "name.upper()"
   ]
  },
  {
   "cell_type": "code",
   "execution_count": 108,
   "id": "0fc5b8ac-0d80-43cc-9ba9-27862f5a0d0a",
   "metadata": {},
   "outputs": [
    {
     "data": {
      "text/plain": [
       "'ayah ayman'"
      ]
     },
     "execution_count": 108,
     "metadata": {},
     "output_type": "execute_result"
    }
   ],
   "source": [
    "name.lower()"
   ]
  },
  {
   "cell_type": "code",
   "execution_count": 109,
   "id": "20f46419-f6d9-484b-a79b-e53bf4280046",
   "metadata": {},
   "outputs": [
    {
     "data": {
      "text/plain": [
       "'Ayah ayman'"
      ]
     },
     "execution_count": 109,
     "metadata": {},
     "output_type": "execute_result"
    }
   ],
   "source": [
    "name.capitalize()"
   ]
  },
  {
   "cell_type": "code",
   "execution_count": 110,
   "id": "a185f422-d3f6-489b-a53f-b8d578ac7f8b",
   "metadata": {},
   "outputs": [
    {
     "data": {
      "text/plain": [
       "'Ayah Ayman'"
      ]
     },
     "execution_count": 110,
     "metadata": {},
     "output_type": "execute_result"
    }
   ],
   "source": [
    "name.title()"
   ]
  },
  {
   "cell_type": "code",
   "execution_count": 105,
   "id": "9c119052-3486-4513-8a06-89d31462e3ca",
   "metadata": {},
   "outputs": [
    {
     "data": {
      "text/plain": [
       "2"
      ]
     },
     "execution_count": 105,
     "metadata": {},
     "output_type": "execute_result"
    }
   ],
   "source": [
    "name.count('a')"
   ]
  },
  {
   "cell_type": "code",
   "execution_count": 111,
   "id": "6ea033cd-2e74-49a9-8a4b-040204a64cc9",
   "metadata": {},
   "outputs": [
    {
     "data": {
      "text/plain": [
       "'Ayah ayman'"
      ]
     },
     "execution_count": 111,
     "metadata": {},
     "output_type": "execute_result"
    }
   ],
   "source": [
    "name"
   ]
  },
  {
   "cell_type": "code",
   "execution_count": 112,
   "id": "4756fae1-3cb7-487b-afab-f03da2204f92",
   "metadata": {},
   "outputs": [
    {
     "data": {
      "text/plain": [
       "'aYAH AYMAN'"
      ]
     },
     "execution_count": 112,
     "metadata": {},
     "output_type": "execute_result"
    }
   ],
   "source": [
    "name.swapcase()"
   ]
  },
  {
   "cell_type": "code",
   "execution_count": 117,
   "id": "9af985b2-139b-468d-a425-9a6626dbba81",
   "metadata": {},
   "outputs": [],
   "source": [
    "name = '         Ayah      ayman           '"
   ]
  },
  {
   "cell_type": "code",
   "execution_count": 121,
   "id": "9ca15ba3-d311-4cf5-8078-82eec520a4c6",
   "metadata": {},
   "outputs": [
    {
     "data": {
      "text/plain": [
       "'_________Ayah______ayman___________'"
      ]
     },
     "execution_count": 121,
     "metadata": {},
     "output_type": "execute_result"
    }
   ],
   "source": [
    "name.replace(\" \", \"_\")"
   ]
  },
  {
   "cell_type": "code",
   "execution_count": 120,
   "id": "e1e2927f-9373-4c0e-8d76-d9d3d648bd91",
   "metadata": {},
   "outputs": [
    {
     "data": {
      "text/plain": [
       "'Ayahayman'"
      ]
     },
     "execution_count": 120,
     "metadata": {},
     "output_type": "execute_result"
    }
   ],
   "source": [
    "name.replace(\" \", \"\")"
   ]
  },
  {
   "cell_type": "code",
   "execution_count": 118,
   "id": "d642ad52-4f11-43a0-9f62-833dbca553c2",
   "metadata": {},
   "outputs": [
    {
     "data": {
      "text/plain": [
       "'Ayah      ayman'"
      ]
     },
     "execution_count": 118,
     "metadata": {},
     "output_type": "execute_result"
    }
   ],
   "source": [
    "name.strip()"
   ]
  },
  {
   "cell_type": "code",
   "execution_count": 115,
   "id": "d76a8660-3243-4b91-b7fe-306f2c4640f2",
   "metadata": {},
   "outputs": [
    {
     "data": {
      "text/plain": [
       "'         Ayah ayman'"
      ]
     },
     "execution_count": 115,
     "metadata": {},
     "output_type": "execute_result"
    }
   ],
   "source": [
    "name.rstrip()"
   ]
  },
  {
   "cell_type": "code",
   "execution_count": 114,
   "id": "df5f7ea1-4212-4ac7-a5c9-a8504748600f",
   "metadata": {},
   "outputs": [
    {
     "data": {
      "text/plain": [
       "'Ayah ayman           '"
      ]
     },
     "execution_count": 114,
     "metadata": {},
     "output_type": "execute_result"
    }
   ],
   "source": [
    "name.lstrip()"
   ]
  },
  {
   "cell_type": "code",
   "execution_count": 124,
   "id": "bb93ed98-fd2e-4e1c-b11b-96f5080a30f7",
   "metadata": {},
   "outputs": [
    {
     "data": {
      "text/plain": [
       "['Ayah', 'Ayman']"
      ]
     },
     "execution_count": 124,
     "metadata": {},
     "output_type": "execute_result"
    }
   ],
   "source": [
    "name = \"Ayah Ayman\"\n",
    "name.split()"
   ]
  },
  {
   "cell_type": "code",
   "execution_count": 123,
   "id": "555c1c27-5dcf-49c0-be13-59af4ac837d5",
   "metadata": {},
   "outputs": [
    {
     "data": {
      "text/plain": [
       "['b', 'n', 'n', '']"
      ]
     },
     "execution_count": 123,
     "metadata": {},
     "output_type": "execute_result"
    }
   ],
   "source": [
    "fruit = \"banana\"\n",
    "fruit.split('a')"
   ]
  },
  {
   "cell_type": "code",
   "execution_count": 128,
   "id": "8579dfcf-4e0f-4279-ba68-41321b0a5863",
   "metadata": {},
   "outputs": [
    {
     "data": {
      "text/plain": [
       "3"
      ]
     },
     "execution_count": 128,
     "metadata": {},
     "output_type": "execute_result"
    }
   ],
   "source": [
    "fruit.count('a')"
   ]
  },
  {
   "cell_type": "code",
   "execution_count": 127,
   "id": "2b099b66-ea48-4117-aa8c-d72e60b5ee1c",
   "metadata": {},
   "outputs": [
    {
     "data": {
      "text/plain": [
       "'banana'"
      ]
     },
     "execution_count": 127,
     "metadata": {},
     "output_type": "execute_result"
    }
   ],
   "source": [
    "fruit"
   ]
  },
  {
   "cell_type": "code",
   "execution_count": 130,
   "id": "d00e3ff3-a306-4d5a-851a-4bac122fec0f",
   "metadata": {},
   "outputs": [
    {
     "data": {
      "text/plain": [
       "1"
      ]
     },
     "execution_count": 130,
     "metadata": {},
     "output_type": "execute_result"
    }
   ],
   "source": [
    "fruit.index('a')"
   ]
  },
  {
   "cell_type": "code",
   "execution_count": 126,
   "id": "54cacef8-6f35-4073-86e9-71161618c7c6",
   "metadata": {},
   "outputs": [
    {
     "data": {
      "text/plain": [
       "1"
      ]
     },
     "execution_count": 126,
     "metadata": {},
     "output_type": "execute_result"
    }
   ],
   "source": [
    "fruit.find('a')"
   ]
  },
  {
   "cell_type": "code",
   "execution_count": 131,
   "id": "1119dbce-d5d5-4695-b516-e20556528557",
   "metadata": {},
   "outputs": [
    {
     "data": {
      "text/plain": [
       "-1"
      ]
     },
     "execution_count": 131,
     "metadata": {},
     "output_type": "execute_result"
    }
   ],
   "source": [
    "fruit.find('z')"
   ]
  },
  {
   "cell_type": "code",
   "execution_count": 132,
   "id": "b074bc0d-3b14-45c1-a04f-2f03d0fe1f33",
   "metadata": {},
   "outputs": [
    {
     "ename": "ValueError",
     "evalue": "substring not found",
     "output_type": "error",
     "traceback": [
      "\u001b[1;31m---------------------------------------------------------------------------\u001b[0m",
      "\u001b[1;31mValueError\u001b[0m                                Traceback (most recent call last)",
      "Cell \u001b[1;32mIn[132], line 1\u001b[0m\n\u001b[1;32m----> 1\u001b[0m \u001b[43mfruit\u001b[49m\u001b[38;5;241;43m.\u001b[39;49m\u001b[43mindex\u001b[49m\u001b[43m(\u001b[49m\u001b[38;5;124;43m'\u001b[39;49m\u001b[38;5;124;43mz\u001b[39;49m\u001b[38;5;124;43m'\u001b[39;49m\u001b[43m)\u001b[49m\n",
      "\u001b[1;31mValueError\u001b[0m: substring not found"
     ]
    }
   ],
   "source": [
    "fruit.index('z')"
   ]
  },
  {
   "cell_type": "code",
   "execution_count": 129,
   "id": "29bc41a8-4589-4a4f-8d62-b6212a73a4d6",
   "metadata": {},
   "outputs": [
    {
     "data": {
      "text/plain": [
       "3"
      ]
     },
     "execution_count": 129,
     "metadata": {},
     "output_type": "execute_result"
    }
   ],
   "source": [
    "fruit.find('a', 2)"
   ]
  },
  {
   "cell_type": "code",
   "execution_count": 135,
   "id": "110f4491-a664-430d-96fe-12b3084c6fb7",
   "metadata": {},
   "outputs": [
    {
     "data": {
      "text/plain": [
       "True"
      ]
     },
     "execution_count": 135,
     "metadata": {},
     "output_type": "execute_result"
    }
   ],
   "source": [
    "file_name = \"image.png\"\n",
    "file_name.endswith('.png')"
   ]
  },
  {
   "cell_type": "code",
   "execution_count": 138,
   "id": "e2f7dea1-1a93-41ec-b679-f3bd54741dd7",
   "metadata": {},
   "outputs": [
    {
     "data": {
      "text/plain": [
       "True"
      ]
     },
     "execution_count": 138,
     "metadata": {},
     "output_type": "execute_result"
    }
   ],
   "source": [
    "'fdhgfd'.isalpha()"
   ]
  },
  {
   "cell_type": "code",
   "execution_count": 139,
   "id": "292a2354-56ce-4a1f-85af-23e513d0cc06",
   "metadata": {},
   "outputs": [
    {
     "data": {
      "text/plain": [
       "False"
      ]
     },
     "execution_count": 139,
     "metadata": {},
     "output_type": "execute_result"
    }
   ],
   "source": [
    "'fdhgfd$#y64536'.isalpha()"
   ]
  },
  {
   "cell_type": "code",
   "execution_count": 99,
   "id": "e5607385-a070-46ae-a057-e1214da26365",
   "metadata": {},
   "outputs": [
    {
     "data": {
      "text/plain": [
       "['__add__',\n",
       " '__class__',\n",
       " '__contains__',\n",
       " '__delattr__',\n",
       " '__dir__',\n",
       " '__doc__',\n",
       " '__eq__',\n",
       " '__format__',\n",
       " '__ge__',\n",
       " '__getattribute__',\n",
       " '__getitem__',\n",
       " '__getnewargs__',\n",
       " '__gt__',\n",
       " '__hash__',\n",
       " '__init__',\n",
       " '__init_subclass__',\n",
       " '__iter__',\n",
       " '__le__',\n",
       " '__len__',\n",
       " '__lt__',\n",
       " '__mod__',\n",
       " '__mul__',\n",
       " '__ne__',\n",
       " '__new__',\n",
       " '__reduce__',\n",
       " '__reduce_ex__',\n",
       " '__repr__',\n",
       " '__rmod__',\n",
       " '__rmul__',\n",
       " '__setattr__',\n",
       " '__sizeof__',\n",
       " '__str__',\n",
       " '__subclasshook__',\n",
       " 'capitalize',\n",
       " 'casefold',\n",
       " 'center',\n",
       " 'count',\n",
       " 'encode',\n",
       " 'endswith',\n",
       " 'expandtabs',\n",
       " 'find',\n",
       " 'format',\n",
       " 'format_map',\n",
       " 'index',\n",
       " 'isalnum',\n",
       " 'isalpha',\n",
       " 'isascii',\n",
       " 'isdecimal',\n",
       " 'isdigit',\n",
       " 'isidentifier',\n",
       " 'islower',\n",
       " 'isnumeric',\n",
       " 'isprintable',\n",
       " 'isspace',\n",
       " 'istitle',\n",
       " 'isupper',\n",
       " 'join',\n",
       " 'ljust',\n",
       " 'lower',\n",
       " 'lstrip',\n",
       " 'maketrans',\n",
       " 'partition',\n",
       " 'removeprefix',\n",
       " 'removesuffix',\n",
       " 'replace',\n",
       " 'rfind',\n",
       " 'rindex',\n",
       " 'rjust',\n",
       " 'rpartition',\n",
       " 'rsplit',\n",
       " 'rstrip',\n",
       " 'split',\n",
       " 'splitlines',\n",
       " 'startswith',\n",
       " 'strip',\n",
       " 'swapcase',\n",
       " 'title',\n",
       " 'translate',\n",
       " 'upper',\n",
       " 'zfill']"
      ]
     },
     "execution_count": 99,
     "metadata": {},
     "output_type": "execute_result"
    }
   ],
   "source": [
    "dir(name)"
   ]
  },
  {
   "cell_type": "code",
   "execution_count": null,
   "id": "82a4fdcc-d2bf-4f70-8686-8473efb3a01f",
   "metadata": {},
   "outputs": [],
   "source": []
  },
  {
   "cell_type": "markdown",
   "id": "c76a6d0b-e1d9-4e2b-af47-76c7565040f0",
   "metadata": {},
   "source": [
    "## Formating String"
   ]
  },
  {
   "cell_type": "code",
   "execution_count": 147,
   "id": "a42f6079-6250-49ee-a8fa-3a5646b36bb6",
   "metadata": {},
   "outputs": [
    {
     "name": "stdout",
     "output_type": "stream",
     "text": [
      "My name is Rabab I am 20 years old\n"
     ]
    }
   ],
   "source": [
    "name = \"Rabab\"\n",
    "age = 20\n",
    "\n",
    "print(\"My name is\", name, \"I am\", age, \"years old\")"
   ]
  },
  {
   "cell_type": "code",
   "execution_count": 153,
   "id": "f846ff1d-6790-4a4b-98f3-1a3cf656e981",
   "metadata": {},
   "outputs": [
    {
     "name": "stdout",
     "output_type": "stream",
     "text": [
      "My name is RababI am 20 years old\n"
     ]
    }
   ],
   "source": [
    "print(\"My name is \"+ name + \"I am \" + str(age) + \" years old\")"
   ]
  },
  {
   "cell_type": "code",
   "execution_count": 145,
   "id": "3b616e8d-c9f9-4b6c-ad20-1da5d563d554",
   "metadata": {},
   "outputs": [
    {
     "data": {
      "text/plain": [
       "'My name is Rabab I am 20 years old'"
      ]
     },
     "execution_count": 148,
     "metadata": {},
     "output_type": "execute_result"
    }
   ],
   "source": [
    "f\"My name is {name} I am {age} years old\""
   ]
  },
  {
   "cell_type": "markdown",
   "id": "4199117b-d02b-427d-b407-daa8bb9442e4",
   "metadata": {},
   "source": [
    "## Parsing String"
   ]
  },
  {
   "cell_type": "code",
   "execution_count": 159,
   "id": "f02f0106-d901-4711-8315-b63c485820ad",
   "metadata": {},
   "outputs": [],
   "source": [
    "text = \"From x@gassemb.ly to sales@gmail.com this is the message\""
   ]
  },
  {
   "cell_type": "code",
   "execution_count": 160,
   "id": "77a1acfa-3ee0-405d-875a-f30ff09a5a51",
   "metadata": {},
   "outputs": [
    {
     "data": {
      "text/plain": [
       "['x@gassemb.ly', 'sales@gmail.com']"
      ]
     },
     "execution_count": 160,
     "metadata": {},
     "output_type": "execute_result"
    }
   ],
   "source": [
    "# regular expression\n",
    "import re\n",
    "\n",
    "pattern = '\\S+@\\S+'\n",
    "re.findall(pattern, text)"
   ]
  },
  {
   "cell_type": "code",
   "execution_count": 169,
   "id": "3b887084-5999-4ecc-ba1e-812b182d1755",
   "metadata": {},
   "outputs": [
    {
     "data": {
      "text/plain": [
       "'Ahli United Bank\\n\\nTel: (+973) 1 722 1700\\n\\nWeb: www.ahliunited.com\\n\\nArab Banking Corporation\\n\\nTel: (+973) 1 754 3000\\n\\nWeb: www.arabbanking.com\\n\\nAl-Salam Bank\\n\\nTel: (+973) 1 756 0000\\n\\nWeb: www.alsalambahrain.com\\n\\nBahrain Islamic Bank\\n\\nTel: (+973) 1 751 5151\\n'"
      ]
     },
     "execution_count": 169,
     "metadata": {},
     "output_type": "execute_result"
    }
   ],
   "source": [
    "# https://www.meed.com/selected-bahrain-telephone-numbers/\n",
    "\n",
    "text = '''Ahli United Bank\n",
    "\n",
    "Tel: (+973) 1 722 1700\n",
    "\n",
    "Web: www.ahliunited.com\n",
    "\n",
    "Arab Banking Corporation\n",
    "\n",
    "Tel: (+973) 1 754 3000\n",
    "\n",
    "Web: www.arabbanking.com\n",
    "\n",
    "Al-Salam Bank\n",
    "\n",
    "Tel: (+973) 1 756 0000\n",
    "\n",
    "Web: www.alsalambahrain.com\n",
    "\n",
    "Bahrain Islamic Bank\n",
    "\n",
    "Tel: (+973) 1 751 5151\n",
    "'''\n",
    "text"
   ]
  },
  {
   "cell_type": "code",
   "execution_count": 168,
   "id": "7f181a2b-e588-495d-8f20-7205781462f3",
   "metadata": {},
   "outputs": [
    {
     "data": {
      "text/plain": [
       "['(+973) 1 722 1700\\n\\n',\n",
       " '(+973) 1 754 3000\\n\\n',\n",
       " '(+973) 1 756 0000\\n\\n',\n",
       " '(+973) 1 751 5151\\n']"
      ]
     },
     "execution_count": 168,
     "metadata": {},
     "output_type": "execute_result"
    }
   ],
   "source": [
    "pattern = \"\\(\\+973\\)[^a-zA-Z]+\"\n",
    "re.findall(pattern, text)"
   ]
  },
  {
   "cell_type": "code",
   "execution_count": null,
   "id": "2660db81-f148-41a4-b585-d1575cab7fb6",
   "metadata": {},
   "outputs": [],
   "source": []
  }
 ],
 "metadata": {
  "kernelspec": {
   "display_name": "Python [conda env:base] *",
   "language": "python",
   "name": "conda-base-py"
  },
  "language_info": {
   "codemirror_mode": {
    "name": "ipython",
    "version": 3
   },
   "file_extension": ".py",
   "mimetype": "text/x-python",
   "name": "python",
   "nbconvert_exporter": "python",
   "pygments_lexer": "ipython3",
   "version": "3.13.5"
  }
 },
 "nbformat": 4,
 "nbformat_minor": 5
}
