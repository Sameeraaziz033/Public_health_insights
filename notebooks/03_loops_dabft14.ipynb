{
 "cells": [
  {
   "cell_type": "markdown",
   "id": "e500b909-0243-4746-b186-8a54c09bd123",
   "metadata": {},
   "source": [
    "# Iterations"
   ]
  },
  {
   "cell_type": "markdown",
   "id": "04e605cb-5ac2-4f90-aa70-73c107576ab4",
   "metadata": {},
   "source": [
    "Q&A"
   ]
  },
  {
   "cell_type": "code",
   "execution_count": 1,
   "id": "f667deca-0b4f-43cb-bfae-1fa6647fe4aa",
   "metadata": {},
   "outputs": [
    {
     "name": "stdout",
     "output_type": "stream",
     "text": [
      "Good Afternoon, Zaina\n",
      "Good Afternoon, Zainab\n",
      "Good Afternoon, Zainab\n",
      "Good Afternoon, Zainab\n",
      "Good Afternoon, Fatima\n",
      "Good Afternoon, Fatima\n",
      "Good Afternoon, Rawan\n",
      "Good Afternoon, Mohamed\n",
      "Good Afternoon, Noor\n",
      "Good Afternoon, Noor\n",
      "Good Afternoon, Rabab\n"
     ]
    }
   ],
   "source": [
    "print(\"Good afternoon, Zaina\")\n",
    "print(\"Good afternoon, Zainab\")\n",
    "print(\"Good afternoon, Zainab\")\n",
    "print(\"Good afternoon, Zainab\")\n",
    "print(\"Good afternoon, Fatima\")\n",
    "print(\"Good afternoon, Fatima\")\n",
    "print(\"Good afternoon, Rawan\")\n",
    "print(\"Good afternoon, Mohamed\")\n",
    "print(\"Good afternoon, Noor\")\n",
    "print(\"Good afternoon, Noor\")\n",
    "print(\"Good afternoon, Rabab\")"
   ]
  },
  {
   "cell_type": "markdown",
   "id": "c445fd1f-e2f9-4494-9fe9-b6ca7d515031",
   "metadata": {},
   "source": [
    "## Define loops using `for`"
   ]
  },
  {
   "cell_type": "raw",
   "id": "2da8bc1a-a6e1-4398-b340-7d8d5c04df04",
   "metadata": {},
   "source": [
    "Repeat this:\n",
    "    print(\"Good Afternoon,\", name)"
   ]
  },
  {
   "cell_type": "code",
   "execution_count": 3,
   "id": "451c3ffa-b091-4b3a-8798-7aa0bbd0beac",
   "metadata": {},
   "outputs": [
    {
     "name": "stdout",
     "output_type": "stream",
     "text": [
      "Good Afternoon Zainab\n",
      "Good Afternoon Zaina\n"
     ]
    }
   ],
   "source": [
    "for name in ['Zainab', 'Zaina']:\n",
    "    print('Good Afternoon', name)\n"
   ]
  },
  {
   "cell_type": "code",
   "execution_count": 6,
   "id": "a316dafb-8903-4ab3-adfa-04f45b836820",
   "metadata": {},
   "outputs": [
    {
     "name": "stdout",
     "output_type": "stream",
     "text": [
      "Good Afternoon, Zainab\n",
      "Done\n",
      "Good Afternoon, Zaina\n",
      "Done\n"
     ]
    }
   ],
   "source": [
    "for name in ['Zainab', 'Zaina']:\n",
    "    print('Good Afternoon,', name)\n",
    "    print(\"Done\")"
   ]
  },
  {
   "cell_type": "code",
   "execution_count": 8,
   "id": "f1487f04-e54d-40d0-b363-ae12e0865f21",
   "metadata": {},
   "outputs": [
    {
     "name": "stdout",
     "output_type": "stream",
     "text": [
      "Good afternoon, Zainab\n",
      "Good afternoon, Zaina\n",
      "Done\n"
     ]
    }
   ],
   "source": [
    "for name in ['Zainab', 'Zaina']:\n",
    "    print('Good afternoon,', name)\n",
    "print(\"Done\")"
   ]
  },
  {
   "cell_type": "code",
   "execution_count": 10,
   "id": "06af5839-fff1-416a-95c9-0512798787c2",
   "metadata": {},
   "outputs": [
    {
     "name": "stdout",
     "output_type": "stream",
     "text": [
      "Good afternoon, Zainab\n",
      "Good afternoon, Zaina\n",
      "Good afternoon, Ali\n",
      "Done\n"
     ]
    }
   ],
   "source": [
    "student_names = ['Zainab', 'Zaina', 'Ali']\n",
    "\n",
    "for name in student_names:\n",
    "    print('Good afternoon,', name)\n",
    "print(\"Done\")"
   ]
  },
  {
   "cell_type": "code",
   "execution_count": 11,
   "id": "5e171159-3adf-4541-ab5c-02060023626e",
   "metadata": {},
   "outputs": [
    {
     "name": "stdout",
     "output_type": "stream",
     "text": [
      "Good afternoon, Zainab\n",
      "---\n",
      "Good afternoon, Zaina\n",
      "---\n",
      "Good afternoon, Ali\n",
      "---\n",
      "Done\n"
     ]
    }
   ],
   "source": [
    "student_names = ['Zainab', 'Zaina', 'Ali']\n",
    "\n",
    "for name in student_names:\n",
    "    print('Good afternoon,', name)\n",
    "    print(\"---\")\n",
    "print(\"Done\")"
   ]
  },
  {
   "cell_type": "code",
   "execution_count": 12,
   "id": "3e3003e3-be50-4de2-890e-e5b2ec0989a3",
   "metadata": {},
   "outputs": [
    {
     "name": "stdout",
     "output_type": "stream",
     "text": [
      "Good Afternoon ['Zainab', 'Zaina', 'Ali']\n"
     ]
    }
   ],
   "source": [
    "print(\"Good Afternoon\", student_names)"
   ]
  },
  {
   "cell_type": "code",
   "execution_count": 14,
   "id": "9ebe59f5-d92a-4b04-8e3c-c848d75c4e69",
   "metadata": {},
   "outputs": [
    {
     "name": "stdout",
     "output_type": "stream",
     "text": [
      "Good afternoon, Zainab\n",
      "---\n",
      "Good afternoon, Zaina\n",
      "---\n",
      "Good afternoon, Ali\n",
      "---\n",
      "Done\n"
     ]
    }
   ],
   "source": [
    "student_names = ['Zainab', 'Zaina', 'Ali']\n",
    "\n",
    "for st in student_names:\n",
    "    print('Good afternoon,', st)\n",
    "    print(\"---\")\n",
    "print(\"Done\")"
   ]
  },
  {
   "cell_type": "markdown",
   "id": "09aed9cd-5512-4434-8071-cafd31fd610f",
   "metadata": {},
   "source": [
    "### "
   ]
  },
  {
   "cell_type": "markdown",
   "id": "641571f2-d128-4b62-859e-3ab03de3f516",
   "metadata": {},
   "source": [
    "Print from 1 to 20"
   ]
  },
  {
   "cell_type": "code",
   "execution_count": 15,
   "id": "0234852d-8572-4588-a9f5-401fcb39bae6",
   "metadata": {},
   "outputs": [
    {
     "name": "stdout",
     "output_type": "stream",
     "text": [
      "[1, 2, 3, 4, 5, 6, 7, 8, 9, 10, 11, 12, 13, 14, 15, 16, 17, 18, 19, 20]\n",
      "[1, 2, 3, 4, 5, 6, 7, 8, 9, 10, 11, 12, 13, 14, 15, 16, 17, 18, 19, 20]\n",
      "[1, 2, 3, 4, 5, 6, 7, 8, 9, 10, 11, 12, 13, 14, 15, 16, 17, 18, 19, 20]\n",
      "[1, 2, 3, 4, 5, 6, 7, 8, 9, 10, 11, 12, 13, 14, 15, 16, 17, 18, 19, 20]\n",
      "[1, 2, 3, 4, 5, 6, 7, 8, 9, 10, 11, 12, 13, 14, 15, 16, 17, 18, 19, 20]\n",
      "[1, 2, 3, 4, 5, 6, 7, 8, 9, 10, 11, 12, 13, 14, 15, 16, 17, 18, 19, 20]\n",
      "[1, 2, 3, 4, 5, 6, 7, 8, 9, 10, 11, 12, 13, 14, 15, 16, 17, 18, 19, 20]\n",
      "[1, 2, 3, 4, 5, 6, 7, 8, 9, 10, 11, 12, 13, 14, 15, 16, 17, 18, 19, 20]\n",
      "[1, 2, 3, 4, 5, 6, 7, 8, 9, 10, 11, 12, 13, 14, 15, 16, 17, 18, 19, 20]\n",
      "[1, 2, 3, 4, 5, 6, 7, 8, 9, 10, 11, 12, 13, 14, 15, 16, 17, 18, 19, 20]\n",
      "[1, 2, 3, 4, 5, 6, 7, 8, 9, 10, 11, 12, 13, 14, 15, 16, 17, 18, 19, 20]\n",
      "[1, 2, 3, 4, 5, 6, 7, 8, 9, 10, 11, 12, 13, 14, 15, 16, 17, 18, 19, 20]\n",
      "[1, 2, 3, 4, 5, 6, 7, 8, 9, 10, 11, 12, 13, 14, 15, 16, 17, 18, 19, 20]\n",
      "[1, 2, 3, 4, 5, 6, 7, 8, 9, 10, 11, 12, 13, 14, 15, 16, 17, 18, 19, 20]\n",
      "[1, 2, 3, 4, 5, 6, 7, 8, 9, 10, 11, 12, 13, 14, 15, 16, 17, 18, 19, 20]\n",
      "[1, 2, 3, 4, 5, 6, 7, 8, 9, 10, 11, 12, 13, 14, 15, 16, 17, 18, 19, 20]\n",
      "[1, 2, 3, 4, 5, 6, 7, 8, 9, 10, 11, 12, 13, 14, 15, 16, 17, 18, 19, 20]\n",
      "[1, 2, 3, 4, 5, 6, 7, 8, 9, 10, 11, 12, 13, 14, 15, 16, 17, 18, 19, 20]\n",
      "[1, 2, 3, 4, 5, 6, 7, 8, 9, 10, 11, 12, 13, 14, 15, 16, 17, 18, 19, 20]\n",
      "[1, 2, 3, 4, 5, 6, 7, 8, 9, 10, 11, 12, 13, 14, 15, 16, 17, 18, 19, 20]\n"
     ]
    }
   ],
   "source": [
    "numbers = [1, 2, 3, 4, 5, 6, 7, 8, 9, 10, 11, 12, 13, 14, 15, 16, 17, 18, 19, 20]\n",
    "\n",
    "for num in numbers:\n",
    "    print(numbers)"
   ]
  },
  {
   "cell_type": "code",
   "execution_count": 16,
   "id": "1f049469-5a25-4328-9427-491d8fce04bb",
   "metadata": {
    "collapsed": true,
    "jupyter": {
     "outputs_hidden": true
    },
    "tags": []
   },
   "outputs": [
    {
     "name": "stdout",
     "output_type": "stream",
     "text": [
      "1\n",
      "2\n",
      "3\n",
      "4\n",
      "5\n",
      "6\n",
      "7\n",
      "8\n",
      "9\n",
      "10\n",
      "11\n",
      "12\n",
      "13\n",
      "14\n",
      "15\n",
      "16\n",
      "17\n",
      "18\n",
      "19\n",
      "20\n"
     ]
    }
   ],
   "source": [
    "numbers = [1, 2, 3, 4, 5, 6, 7, 8, 9, 10, 11, 12, 13, 14, 15, 16, 17, 18, 19, 20]\n",
    "\n",
    "for num in numbers:\n",
    "    print(num)"
   ]
  },
  {
   "cell_type": "markdown",
   "id": "109df6b1-7244-4782-b23c-b530d7816093",
   "metadata": {},
   "source": [
    "range(start, end+1, step)"
   ]
  },
  {
   "cell_type": "code",
   "execution_count": 17,
   "id": "a63be4f8-b34b-4c91-9b2b-6bc98ba17049",
   "metadata": {},
   "outputs": [
    {
     "name": "stdout",
     "output_type": "stream",
     "text": [
      "1\n",
      "2\n",
      "3\n",
      "4\n",
      "5\n",
      "6\n",
      "7\n",
      "8\n",
      "9\n",
      "10\n",
      "11\n",
      "12\n",
      "13\n",
      "14\n",
      "15\n",
      "16\n",
      "17\n",
      "18\n",
      "19\n",
      "20\n"
     ]
    }
   ],
   "source": [
    "numbers = range(1, 20+1, 1)\n",
    "\n",
    "for num in numbers:\n",
    "    print(num)"
   ]
  },
  {
   "cell_type": "code",
   "execution_count": 18,
   "id": "3fc9eeb0-17f4-4b8d-bf21-9202fb869e86",
   "metadata": {},
   "outputs": [
    {
     "name": "stdout",
     "output_type": "stream",
     "text": [
      "1\n",
      "2\n",
      "3\n",
      "4\n",
      "5\n",
      "6\n",
      "7\n",
      "8\n",
      "9\n",
      "10\n",
      "11\n",
      "12\n",
      "13\n",
      "14\n",
      "15\n",
      "16\n",
      "17\n",
      "18\n",
      "19\n",
      "20\n"
     ]
    }
   ],
   "source": [
    "numbers = range(1, 21, 1)\n",
    "\n",
    "for num in numbers:\n",
    "    print(num)"
   ]
  },
  {
   "cell_type": "markdown",
   "id": "a38f5c2c-6118-4860-b862-64e5fce98da2",
   "metadata": {},
   "source": [
    "0, 5, 10, 15, 20, 25, "
   ]
  },
  {
   "cell_type": "code",
   "execution_count": 22,
   "id": "5c47e53e-9005-4488-b383-59ce8883c0ba",
   "metadata": {},
   "outputs": [
    {
     "name": "stdout",
     "output_type": "stream",
     "text": [
      "0\n",
      "5\n",
      "10\n",
      "15\n",
      "20\n",
      "25\n"
     ]
    }
   ],
   "source": [
    "numbers = range(0, 26, 5)\n",
    "\n",
    "for num in numbers:\n",
    "    print(num)"
   ]
  },
  {
   "cell_type": "code",
   "execution_count": 23,
   "id": "a1d66ed0-1916-4122-bde3-8ad9f4fbdc43",
   "metadata": {},
   "outputs": [
    {
     "name": "stdout",
     "output_type": "stream",
     "text": [
      "0\n",
      "5\n",
      "10\n",
      "15\n",
      "20\n",
      "25\n"
     ]
    }
   ],
   "source": [
    "for num in range(0, 26, 5):\n",
    "    print(num)"
   ]
  },
  {
   "cell_type": "code",
   "execution_count": 25,
   "id": "738960d2-8438-4669-98b5-1e7be0c66931",
   "metadata": {},
   "outputs": [
    {
     "ename": "TypeError",
     "evalue": "range expected at least 1 argument, got 0",
     "output_type": "error",
     "traceback": [
      "\u001b[1;31m---------------------------------------------------------------------------\u001b[0m",
      "\u001b[1;31mTypeError\u001b[0m                                 Traceback (most recent call last)",
      "Cell \u001b[1;32mIn[25], line 1\u001b[0m\n\u001b[1;32m----> 1\u001b[0m \u001b[38;5;28;01mfor\u001b[39;00m i \u001b[38;5;129;01min\u001b[39;00m \u001b[38;5;28;43mrange\u001b[39;49m\u001b[43m(\u001b[49m\u001b[43m)\u001b[49m:\n\u001b[0;32m      2\u001b[0m     \u001b[38;5;28mprint\u001b[39m(i)\n",
      "\u001b[1;31mTypeError\u001b[0m: range expected at least 1 argument, got 0"
     ]
    }
   ],
   "source": [
    "for i in range():\n",
    "    print(i)"
   ]
  },
  {
   "cell_type": "markdown",
   "id": "69df2281-9502-4aad-be95-85feca08296d",
   "metadata": {},
   "source": [
    "start < end"
   ]
  },
  {
   "cell_type": "code",
   "execution_count": 26,
   "id": "7a7ff710-efa7-4c9d-8f05-035175d11761",
   "metadata": {},
   "outputs": [],
   "source": [
    "for i in range(5, 5):\n",
    "    print(i)"
   ]
  },
  {
   "cell_type": "code",
   "execution_count": 27,
   "id": "eb277e76-5929-4d75-9cb2-c368f192e1c8",
   "metadata": {},
   "outputs": [],
   "source": [
    "for i in range(25, 5, 1):\n",
    "    print(i)"
   ]
  },
  {
   "cell_type": "code",
   "execution_count": null,
   "id": "bc108fc5-5be1-4c4e-a6a1-24ea006e47aa",
   "metadata": {},
   "outputs": [],
   "source": []
  },
  {
   "cell_type": "raw",
   "id": "89dc754d-71dd-4237-95e3-896b9cce4273",
   "metadata": {},
   "source": [
    "range(start=0,    end+1,    step=1)"
   ]
  },
  {
   "cell_type": "code",
   "execution_count": 24,
   "id": "0715f88a-b689-4be5-93ff-b78042311340",
   "metadata": {},
   "outputs": [
    {
     "name": "stdout",
     "output_type": "stream",
     "text": [
      "0\n",
      "1\n",
      "2\n",
      "3\n",
      "4\n",
      "5\n",
      "6\n",
      "7\n",
      "8\n",
      "9\n",
      "10\n",
      "11\n",
      "12\n",
      "13\n",
      "14\n",
      "15\n",
      "16\n",
      "17\n",
      "18\n",
      "19\n",
      "20\n"
     ]
    }
   ],
   "source": [
    "for i in range(21):\n",
    "    print(i)"
   ]
  },
  {
   "cell_type": "code",
   "execution_count": 34,
   "id": "52e4f26d-b227-453c-b64a-afdc616a260b",
   "metadata": {},
   "outputs": [
    {
     "data": {
      "text/plain": [
       "False"
      ]
     },
     "execution_count": 34,
     "metadata": {},
     "output_type": "execute_result"
    }
   ],
   "source": [
    "\"noor\" in \"hi islam\""
   ]
  },
  {
   "cell_type": "code",
   "execution_count": 40,
   "id": "b3269968-3bec-451a-b5a7-d6dd9e6cd0f0",
   "metadata": {},
   "outputs": [
    {
     "name": "stdout",
     "output_type": "stream",
     "text": [
      "H\n",
      "e\n",
      "l\n",
      "l\n",
      "o\n",
      ",\n",
      " \n",
      "H\n",
      "o\n",
      "w\n",
      " \n",
      "a\n",
      "r\n",
      "e\n",
      " \n",
      "y\n",
      "o\n",
      "u\n",
      "?\n"
     ]
    }
   ],
   "source": [
    "sentence = \"Hello, How are you?\"\n",
    "for boogity in sentence:\n",
    "    print(boogity)\n",
    "    "
   ]
  },
  {
   "cell_type": "markdown",
   "id": "a2ea1b3e-cbdf-4e13-80ea-86429b41b138",
   "metadata": {},
   "source": [
    "EX1: Print all even numbers between 1 and 20 (both inclusive)"
   ]
  },
  {
   "cell_type": "code",
   "execution_count": 43,
   "id": "e13859f5-2fee-4374-91b9-5be5bd2e441e",
   "metadata": {},
   "outputs": [
    {
     "name": "stdout",
     "output_type": "stream",
     "text": [
      "2\n",
      "4\n",
      "6\n",
      "8\n",
      "10\n",
      "12\n",
      "14\n",
      "16\n",
      "18\n",
      "20\n"
     ]
    }
   ],
   "source": [
    "numbers = range(2, 21, 2)\n",
    "for i in numbers:\n",
    "    print(i)"
   ]
  },
  {
   "cell_type": "code",
   "execution_count": 46,
   "id": "2b33eb8c-e4f2-4fac-9255-20431270f653",
   "metadata": {},
   "outputs": [
    {
     "name": "stdout",
     "output_type": "stream",
     "text": [
      "2\n",
      "4\n",
      "6\n",
      "8\n",
      "10\n",
      "12\n",
      "14\n",
      "16\n",
      "18\n",
      "20\n"
     ]
    }
   ],
   "source": [
    "numbers = range(1, 21)\n",
    "for i in numbers:\n",
    "    if i%2 == 0:\n",
    "        print(i)"
   ]
  },
  {
   "cell_type": "markdown",
   "id": "beb279e2-557a-4c83-9703-fdbec597103b",
   "metadata": {},
   "source": [
    "EX2: Print the multiplication table of 5 (e.g., 5 x 1 = 5, 5 x 2 = 10, etc.)"
   ]
  },
  {
   "cell_type": "code",
   "execution_count": 48,
   "id": "e262e680-8213-4ca5-8e11-81ccd5d40d9a",
   "metadata": {},
   "outputs": [
    {
     "name": "stdout",
     "output_type": "stream",
     "text": [
      "5\n",
      "10\n",
      "15\n",
      "20\n",
      "25\n",
      "30\n",
      "35\n",
      "40\n",
      "45\n",
      "50\n"
     ]
    }
   ],
   "source": [
    "numbers = range(1, 11)\n",
    "for i in numbers:\n",
    "    print(5*i)"
   ]
  },
  {
   "cell_type": "code",
   "execution_count": 51,
   "id": "b3343adb-80f9-4e75-9310-fabfeb7c5631",
   "metadata": {},
   "outputs": [
    {
     "name": "stdout",
     "output_type": "stream",
     "text": [
      "5 * 1 = 5\n",
      "5 * 2 = 10\n",
      "5 * 3 = 15\n",
      "5 * 4 = 20\n",
      "5 * 5 = 25\n",
      "5 * 6 = 30\n",
      "5 * 7 = 35\n",
      "5 * 8 = 40\n",
      "5 * 9 = 45\n",
      "5 * 10 = 50\n"
     ]
    }
   ],
   "source": [
    "numbers = range(1, 11)\n",
    "for i in numbers:\n",
    "    print(\"5 *\", i, \"=\", 5*i)"
   ]
  },
  {
   "cell_type": "markdown",
   "id": "d5a37192-e5a9-4785-a339-69a93ea1dfe6",
   "metadata": {},
   "source": [
    "EX3: Ask the user for a string and use a for loop to print all the vowels it contains."
   ]
  },
  {
   "cell_type": "code",
   "execution_count": 52,
   "id": "f3c7084a-bf10-460d-b1d0-5d43e97cac24",
   "metadata": {},
   "outputs": [
    {
     "name": "stdin",
     "output_type": "stream",
     "text": [
      "Enter any string hello\n"
     ]
    },
    {
     "name": "stdout",
     "output_type": "stream",
     "text": [
      "h\n",
      "e\n",
      "l\n",
      "l\n",
      "o\n"
     ]
    }
   ],
   "source": [
    "ans = input(\"Enter any string\")\n",
    "for letter in ans:\n",
    "    print(letter)"
   ]
  },
  {
   "cell_type": "code",
   "execution_count": 55,
   "id": "33413785-7a87-4df2-9601-07cec2b54d7a",
   "metadata": {},
   "outputs": [
    {
     "name": "stdin",
     "output_type": "stream",
     "text": [
      "Enter any string hello\n"
     ]
    },
    {
     "name": "stdout",
     "output_type": "stream",
     "text": [
      "e\n",
      "o\n"
     ]
    }
   ],
   "source": [
    "ans = input(\"Enter any string\")\n",
    "#vowels = \"aeiouAEIOU\"\n",
    "\n",
    "for letter in ans:\n",
    "    if letter in \"aeiou\":\n",
    "        print(letter)"
   ]
  },
  {
   "cell_type": "markdown",
   "id": "42a922f5-c3cb-494f-a1ee-10fffdcee31d",
   "metadata": {},
   "source": [
    "EX4: Given a list of numbers, count how many are even numbers.  "
   ]
  },
  {
   "cell_type": "code",
   "execution_count": 57,
   "id": "38ed08db-a0ac-4744-9b6e-5828ef56a540",
   "metadata": {},
   "outputs": [
    {
     "name": "stdout",
     "output_type": "stream",
     "text": [
      "2\n",
      "4\n",
      "6\n"
     ]
    }
   ],
   "source": [
    "numbers = [1, 2, 3, 4, 5, 6]\n",
    "for num in numbers:\n",
    "    if num%2 == 0:\n",
    "        print(num)"
   ]
  },
  {
   "cell_type": "code",
   "execution_count": 60,
   "id": "a29e79ff-eccd-49a7-b76c-7f1da8fb32fd",
   "metadata": {},
   "outputs": [
    {
     "name": "stdout",
     "output_type": "stream",
     "text": [
      "3\n"
     ]
    }
   ],
   "source": [
    "numbers = [1, 2, 3, 4, 5, 6]\n",
    "count = 0\n",
    "\n",
    "for num in numbers:\n",
    "    if num%2 == 0:\n",
    "        count = count + 1\n",
    "print(count)"
   ]
  },
  {
   "cell_type": "code",
   "execution_count": 64,
   "id": "8bef8fbe-241d-40ab-9de0-b9fa94c383d5",
   "metadata": {},
   "outputs": [
    {
     "name": "stdout",
     "output_type": "stream",
     "text": [
      "even: 2 odd: 3\n"
     ]
    }
   ],
   "source": [
    "numbers = [1, 2, 3, 4, 5]\n",
    "count_even = 0\n",
    "count_odd = 0\n",
    "\n",
    "for num in numbers:\n",
    "    if num%2 == 0:\n",
    "        count_even = count_even + 1\n",
    "    else:\n",
    "        count_odd = count_odd + 1\n",
    "\n",
    "print(\"even:\", count_even, \"odd:\", count_odd)"
   ]
  },
  {
   "cell_type": "code",
   "execution_count": 61,
   "id": "9487a937-22d8-443d-a24c-aeefc8b5d110",
   "metadata": {},
   "outputs": [
    {
     "name": "stdout",
     "output_type": "stream",
     "text": [
      "3\n"
     ]
    }
   ],
   "source": [
    "numbers = [1, 2, 3, 4, 5, 6]\n",
    "hand = 0\n",
    "\n",
    "for num in numbers:\n",
    "    if num%2 == 0:\n",
    "        hand += 1 #hand = hand + 1\n",
    "print(hand)"
   ]
  },
  {
   "cell_type": "raw",
   "id": "77ed42bb-1f61-4e92-ad60-6dfbb345609d",
   "metadata": {},
   "source": [
    "count = 0\n",
    "\n",
    "for i in loop_over:\n",
    "    \n",
    "    count += 1"
   ]
  },
  {
   "cell_type": "markdown",
   "id": "0e042700-8a44-42f6-8475-e0129dadead3",
   "metadata": {},
   "source": [
    "EX5: Ask the user for a sentence and count vowels (a, e, i, o, u) and consonants."
   ]
  },
  {
   "cell_type": "code",
   "execution_count": 19,
   "id": "f045d4f0-3480-4e67-b619-61f6f0e2c618",
   "metadata": {},
   "outputs": [
    {
     "name": "stdin",
     "output_type": "stream",
     "text": [
      "Enter sentence bcbcbciou\n"
     ]
    },
    {
     "name": "stdout",
     "output_type": "stream",
     "text": [
      "3 6\n"
     ]
    }
   ],
   "source": [
    "sen  = input(\"Enter sentence\")\n",
    "count_vowels = 0\n",
    "count_cons = 0\n",
    "for letter in sen:\n",
    "    if letter in 'aeiou':\n",
    "        count_vowels += 1\n",
    "    elif letter in 'bcdfgh':\n",
    "        count_cons += 1\n",
    "print(count_vowels, count_cons)"
   ]
  },
  {
   "cell_type": "markdown",
   "id": "723a1bf8-1f0c-4627-8119-a2e6d2980256",
   "metadata": {},
   "source": [
    "## Loop over multiple list"
   ]
  },
  {
   "cell_type": "code",
   "execution_count": null,
   "id": "c0bc0f1a-c816-4b30-9a19-f8f3afbd156a",
   "metadata": {},
   "outputs": [],
   "source": [
    "names = ['Mohamed', 'Islam', 'Samira']\n",
    "ages  = [20, 22, 21]\n",
    "\n",
    "for n in names:\n",
    "    print(\"My name is\", n)"
   ]
  },
  {
   "cell_type": "code",
   "execution_count": 2,
   "id": "c740478b-1f08-4922-b313-df6bd6e20302",
   "metadata": {},
   "outputs": [
    {
     "name": "stdout",
     "output_type": "stream",
     "text": [
      "My name is Mohamed I am  20\n",
      "My name is Islam I am  22\n",
      "My name is Samira I am  21\n"
     ]
    }
   ],
   "source": [
    "names = ['Mohamed', 'Islam', 'Samira']\n",
    "ages  = [20, 22, 21]\n",
    "\n",
    "for n, a in zip(names, ages):\n",
    "    print(\"My name is\", n, \"I am \", a)"
   ]
  },
  {
   "cell_type": "code",
   "execution_count": 5,
   "id": "6ada291f-402b-4f3f-b96a-756cff9a6fc2",
   "metadata": {},
   "outputs": [
    {
     "name": "stdout",
     "output_type": "stream",
     "text": [
      "My name is Mohamed I am  20\n",
      "My name is Islam I am  22\n",
      "My name is Samira I am  21\n"
     ]
    }
   ],
   "source": [
    "# If the two lists not in the same length, loop over the smallest\n",
    "names = ['Mohamed', 'Islam', 'Samira', 'Isa']\n",
    "ages  = [20, 22, 21]\n",
    "\n",
    "for n, a in zip(names, ages):\n",
    "    print(\"My name is\", n, \"I am \", a)"
   ]
  },
  {
   "cell_type": "code",
   "execution_count": 6,
   "id": "a6111f4e-3a93-4b25-a7d9-4c4681ed2357",
   "metadata": {},
   "outputs": [
    {
     "name": "stdout",
     "output_type": "stream",
     "text": [
      "My name is Mohamed I am  20 I live in Manama\n",
      "My name is Islam I am  22 I live in Mohaqk\n",
      "My name is Samira I am  21 I live in Isa Town\n"
     ]
    }
   ],
   "source": [
    "names = ['Mohamed', 'Islam', 'Samira', 'Isa']\n",
    "ages  = [20, 22, 21]\n",
    "cities = ['Manama', 'Mohaqk', 'Isa Town'] \n",
    "\n",
    "for n, a, c in zip(names, ages, cities):\n",
    "    print(\"My name is\", n, \"I am \", a, \"I live in\", c)"
   ]
  },
  {
   "cell_type": "code",
   "execution_count": 8,
   "id": "e727c99a-f979-4838-9648-522010b176dc",
   "metadata": {},
   "outputs": [
    {
     "name": "stdout",
     "output_type": "stream",
     "text": [
      "My name is Mohamed I am  20 I live in Manama\tMy name is Islam I am  22 I live in Mohaqk\tMy name is Samira I am  21 I live in Isa Town\t"
     ]
    }
   ],
   "source": [
    "names = ['Mohamed', 'Islam', 'Samira', 'Isa']\n",
    "ages  = [20, 22, 21]\n",
    "cities = ['Manama', 'Mohaqk', 'Isa Town'] \n",
    "\n",
    "for n, a, c in zip(names, ages, cities):\n",
    "    print(\"My name is\", n, \"I am \", a, \"I live in\", c, end='\\t')"
   ]
  },
  {
   "cell_type": "code",
   "execution_count": 9,
   "id": "6af1bbe9-c452-423a-ad1d-2f6589c822ef",
   "metadata": {},
   "outputs": [
    {
     "name": "stdout",
     "output_type": "stream",
     "text": [
      "0 Mohamed\n",
      "1 Islam\n",
      "2 Samira\n",
      "3 Isa\n"
     ]
    }
   ],
   "source": [
    "names = ['Mohamed', 'Islam', 'Samira', 'Isa']\n",
    "numbers = [0, 1, 2, 3]\n",
    "\n",
    "for name, num in zip(names, numbers):\n",
    "    print(num, name)"
   ]
  },
  {
   "cell_type": "code",
   "execution_count": 11,
   "id": "c533c82e-848e-44f8-a161-47c996bc474a",
   "metadata": {},
   "outputs": [
    {
     "name": "stdout",
     "output_type": "stream",
     "text": [
      "0 Mohamed\n",
      "1 Islam\n",
      "2 Samira\n",
      "3 Isa\n"
     ]
    }
   ],
   "source": [
    "names = ['Mohamed', 'Islam', 'Samira', 'Isa']\n",
    "numbers = range(0, 4)\n",
    "\n",
    "for name, num in zip(names, numbers):\n",
    "    print(num, name)"
   ]
  },
  {
   "cell_type": "code",
   "execution_count": 12,
   "id": "5c0b9868-cbbb-4a15-9bec-668529b79b52",
   "metadata": {},
   "outputs": [
    {
     "name": "stdout",
     "output_type": "stream",
     "text": [
      "0 Mohamed\n",
      "1 Islam\n",
      "2 Samira\n",
      "3 Isa\n"
     ]
    }
   ],
   "source": [
    "names = ['Mohamed', 'Islam', 'Samira', 'Isa']\n",
    "\n",
    "for num, name in enumerate(names):\n",
    "    print(num, name)"
   ]
  },
  {
   "cell_type": "code",
   "execution_count": 15,
   "id": "b0bf462d-17c1-48a4-a4e6-59436d53a6a7",
   "metadata": {},
   "outputs": [
    {
     "name": "stdout",
     "output_type": "stream",
     "text": [
      "1 Mohamed\n",
      "2 Islam\n",
      "3 Samira\n",
      "4 Isa\n"
     ]
    }
   ],
   "source": [
    "names = ['Mohamed', 'Islam', 'Samira', 'Isa']\n",
    "\n",
    "for idx, name in enumerate(names):\n",
    "    print(idx+1, name)"
   ]
  },
  {
   "cell_type": "markdown",
   "id": "4faf405f-7a62-44ac-8968-032f96aaa466",
   "metadata": {},
   "source": [
    "## Updating Variables"
   ]
  },
  {
   "cell_type": "code",
   "execution_count": 20,
   "id": "57dbec2a-c2c0-46c1-bbdc-45ca446d5646",
   "metadata": {},
   "outputs": [],
   "source": [
    "score = 0"
   ]
  },
  {
   "cell_type": "code",
   "execution_count": 25,
   "id": "3c787ecb-132c-45e9-9b7a-0124fd932a6a",
   "metadata": {},
   "outputs": [],
   "source": [
    "score = score + 1 # new_score = old_score + 1"
   ]
  },
  {
   "cell_type": "code",
   "execution_count": null,
   "id": "50150945-f0b0-426d-b425-b3e379e276df",
   "metadata": {},
   "outputs": [],
   "source": [
    "score += 1"
   ]
  },
  {
   "cell_type": "code",
   "execution_count": 26,
   "id": "9d9688d2-bd09-47dd-8ab2-aac73fba327e",
   "metadata": {},
   "outputs": [
    {
     "name": "stdout",
     "output_type": "stream",
     "text": [
      "3\n"
     ]
    }
   ],
   "source": [
    "print(score)"
   ]
  },
  {
   "cell_type": "markdown",
   "id": "f2c19a2f-6e80-4e24-a379-cf3c27ec8f85",
   "metadata": {},
   "source": [
    "## While loop"
   ]
  },
  {
   "cell_type": "code",
   "execution_count": 29,
   "id": "b8bf8e2d-b172-404a-9220-cda96dab5d4d",
   "metadata": {},
   "outputs": [
    {
     "name": "stdout",
     "output_type": "stream",
     "text": [
      "playing your power is 3\n",
      "playing your power is 2\n",
      "playing your power is 1\n",
      "Game over\n"
     ]
    }
   ],
   "source": [
    "power = 3\n",
    "\n",
    "while power > 0:\n",
    "    print(\"playing your power is\", power)\n",
    "    power = power - 1\n",
    "print(\"Game over\")"
   ]
  },
  {
   "cell_type": "code",
   "execution_count": 30,
   "id": "fa6f1607-958e-435e-8ccc-1375ffafc303",
   "metadata": {},
   "outputs": [
    {
     "name": "stdout",
     "output_type": "stream",
     "text": [
      "power remaning 2\n",
      "power remaning 1\n",
      "power remaning 0\n",
      "Game over\n"
     ]
    }
   ],
   "source": [
    "power = 3\n",
    "\n",
    "while power > 0:\n",
    "    power = power - 1\n",
    "    print(\"power remaning\", power)\n",
    "\n",
    "print(\"Game over\")"
   ]
  },
  {
   "cell_type": "code",
   "execution_count": 33,
   "id": "e900aec2-9d33-4d72-b620-08493283357d",
   "metadata": {
    "tags": []
   },
   "outputs": [
    {
     "name": "stdout",
     "output_type": "stream",
     "text": [
      "0\n",
      "1\n",
      "2\n",
      "3\n",
      "4\n",
      "5\n",
      "You are now in the next level\n"
     ]
    }
   ],
   "source": [
    "score = 0\n",
    "while score <= 5:\n",
    "    print(score)\n",
    "    score = score + 1\n",
    "\n",
    "print(\"You are now in the next level\")"
   ]
  },
  {
   "cell_type": "markdown",
   "id": "78787ebc-4565-405f-9d21-bbcce3c928ad",
   "metadata": {},
   "source": [
    "Pattern\n",
    "- define var\n",
    "\n",
    "- use the var in the condition\n",
    "\n",
    "- update the variable"
   ]
  },
  {
   "cell_type": "markdown",
   "id": "87c7c68e-825f-452b-bfd9-1e4520edf149",
   "metadata": {},
   "source": [
    "## Infiniti loop"
   ]
  },
  {
   "cell_type": "code",
   "execution_count": null,
   "id": "d2c8f5d4-817f-4387-a84b-fd33f88d6138",
   "metadata": {},
   "outputs": [],
   "source": [
    "\n"
   ]
  },
  {
   "cell_type": "code",
   "execution_count": null,
   "id": "26c37da7-e5d6-4e0d-8da6-285b296759f7",
   "metadata": {},
   "outputs": [],
   "source": [
    "elvator = 0\n",
    "while elevator <= 9:\n",
    "    print(\"you are in \", elvator, \"floor\")\n",
    "    # update \n",
    "    #elevator = elevator - 1"
   ]
  },
  {
   "cell_type": "markdown",
   "id": "dd74b3a3-ed2a-4935-8e25-7b91c8dbe3bc",
   "metadata": {},
   "source": [
    "![](data:image/jpeg;base64,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)"
   ]
  },
  {
   "cell_type": "markdown",
   "id": "cc2b6c4a-aead-4763-ae10-60a694137f47",
   "metadata": {},
   "source": [
    "![](https://i.makeagif.com/media/7-20-2015/ik5JKk.gif)"
   ]
  },
  {
   "cell_type": "code",
   "execution_count": 35,
   "id": "2e3e48d6-6343-4286-b7d8-da2bdb89ee30",
   "metadata": {},
   "outputs": [
    {
     "name": "stdout",
     "output_type": "stream",
     "text": [
      "you are in  0 floor\n",
      "you are in  1 floor\n",
      "you are in  2 floor\n",
      "you are in  3 floor\n",
      "you are in  4 floor\n",
      "you are in  5 floor\n",
      "you are in  6 floor\n",
      "you are in  7 floor\n",
      "you are in  8 floor\n",
      "you are in  9 floor\n"
     ]
    }
   ],
   "source": [
    "elevator = 0\n",
    "while elevator <= 9:\n",
    "    print(\"you are in \", elevator, \"floor\")\n",
    "    # update \n",
    "    elevator = elevator + 1"
   ]
  },
  {
   "cell_type": "markdown",
   "id": "e10cff41-49ad-445b-a493-1ba2d47fb39d",
   "metadata": {},
   "source": [
    "## How to break the loop `break`"
   ]
  },
  {
   "cell_type": "code",
   "execution_count": 40,
   "id": "7633f7c2-2b8d-4638-9d15-20f5890ad143",
   "metadata": {},
   "outputs": [
    {
     "data": {
      "text/plain": [
       "True"
      ]
     },
     "execution_count": 40,
     "metadata": {},
     "output_type": "execute_result"
    }
   ],
   "source": [
    "elevetor = 0\n",
    "\n",
    "elevetor < 10"
   ]
  },
  {
   "cell_type": "code",
   "execution_count": null,
   "id": "9cef6ba4-8787-49bd-b3d7-13e1c74f81ce",
   "metadata": {},
   "outputs": [],
   "source": [
    "while True: # run forever\n",
    "    ans = input(\"Enter your name or # to exit\")\n",
    "    if ans == '#':\n",
    "        break # end loop\n",
    "    print(\"Hello\", ans)"
   ]
  },
  {
   "cell_type": "code",
   "execution_count": 36,
   "id": "818bcd4c-450f-44e9-a514-ff0394f3cfe2",
   "metadata": {},
   "outputs": [
    {
     "name": "stdin",
     "output_type": "stream",
     "text": [
      "Enter your name or # to exit Fouz\n"
     ]
    },
    {
     "name": "stdout",
     "output_type": "stream",
     "text": [
      "Hello Fouz\n"
     ]
    },
    {
     "name": "stdin",
     "output_type": "stream",
     "text": [
      "Enter your name or # to exit Rabab\n"
     ]
    },
    {
     "name": "stdout",
     "output_type": "stream",
     "text": [
      "Hello Rabab\n"
     ]
    },
    {
     "name": "stdin",
     "output_type": "stream",
     "text": [
      "Enter your name or # to exit Hassan\n"
     ]
    },
    {
     "name": "stdout",
     "output_type": "stream",
     "text": [
      "Hello Hassan\n"
     ]
    },
    {
     "name": "stdin",
     "output_type": "stream",
     "text": [
      "Enter your name or # to exit Husain\n"
     ]
    },
    {
     "name": "stdout",
     "output_type": "stream",
     "text": [
      "Hello Husain\n"
     ]
    },
    {
     "name": "stdin",
     "output_type": "stream",
     "text": [
      "Enter your name or # to exit Ayah\n"
     ]
    },
    {
     "name": "stdout",
     "output_type": "stream",
     "text": [
      "Hello Ayah\n"
     ]
    },
    {
     "name": "stdin",
     "output_type": "stream",
     "text": [
      "Enter your name or # to exit Zainab\n"
     ]
    },
    {
     "name": "stdout",
     "output_type": "stream",
     "text": [
      "Hello Zainab\n"
     ]
    },
    {
     "name": "stdin",
     "output_type": "stream",
     "text": [
      "Enter your name or # to exit #\n"
     ]
    }
   ],
   "source": [
    "while 1 == 1: # run forever\n",
    "    ans = input(\"Enter your name or # to exit\")\n",
    "    if ans == '#':\n",
    "        break # end loop\n",
    "    print(\"Hello\", ans)"
   ]
  },
  {
   "cell_type": "markdown",
   "id": "35af4baf-15d5-43f6-8e7c-5817eedf1739",
   "metadata": {},
   "source": [
    "![](https://www.programiz.com/sites/tutorial2program/files/working-break-statement-python.png)"
   ]
  },
  {
   "cell_type": "code",
   "execution_count": 44,
   "id": "76516eab-ab62-4bd3-b3e6-df963f6bd8e4",
   "metadata": {},
   "outputs": [
    {
     "name": "stdout",
     "output_type": "stream",
     "text": [
      "1\n",
      "2\n",
      "4\n",
      "5\n"
     ]
    }
   ],
   "source": [
    "i = 0\n",
    "while i < 5:\n",
    "    i = i + 1\n",
    "    if i == 3:\n",
    "        continue # skip and go back to the loop condition\n",
    "    print(i)\n",
    "    "
   ]
  },
  {
   "cell_type": "code",
   "execution_count": null,
   "id": "47c2b717-a5b4-43a7-ac5a-4f696b2e6c63",
   "metadata": {},
   "outputs": [],
   "source": []
  },
  {
   "cell_type": "markdown",
   "id": "4ce03880-dcf2-441c-a8c4-a16fb076882f",
   "metadata": {},
   "source": [
    "![](https://www.programiz.com/sites/tutorial2program/files/working-continue-statement-python.png)"
   ]
  },
  {
   "cell_type": "code",
   "execution_count": null,
   "id": "0777ed5f-7e38-46ea-b160-4f5457d145cb",
   "metadata": {},
   "outputs": [],
   "source": []
  }
 ],
 "metadata": {
  "kernelspec": {
   "display_name": "Python [conda env:base] *",
   "language": "python",
   "name": "conda-base-py"
  },
  "language_info": {
   "codemirror_mode": {
    "name": "ipython",
    "version": 3
   },
   "file_extension": ".py",
   "mimetype": "text/x-python",
   "name": "python",
   "nbconvert_exporter": "python",
   "pygments_lexer": "ipython3",
   "version": "3.13.5"
  }
 },
 "nbformat": 4,
 "nbformat_minor": 5
}
