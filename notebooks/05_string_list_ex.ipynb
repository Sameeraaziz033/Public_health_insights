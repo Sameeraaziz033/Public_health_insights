{
 "cells": [
  {
   "cell_type": "markdown",
   "id": "fa625d0a",
   "metadata": {},
   "source": [
    "# String and List Practice in Python\n",
    "\n",
    "Objective: Practice working with strings and lists in Python.\n",
    "\n",
    "This exercise was prepared by Ali El-kassas"
   ]
  },
  {
   "cell_type": "markdown",
   "id": "0e5593cc",
   "metadata": {},
   "source": [
    "## 🔤 String Exercises"
   ]
  },
  {
   "cell_type": "markdown",
   "id": "c9b177f6",
   "metadata": {},
   "source": [
    "### 1. Count Characters\n",
    "Ask the user for a string and print the number of characters it contains."
   ]
  },
  {
   "cell_type": "code",
   "execution_count": null,
   "id": "6978e865",
   "metadata": {},
   "outputs": [],
   "source": [
    "user "
   ]
  },
  {
   "cell_type": "markdown",
   "id": "2235a037",
   "metadata": {},
   "source": [
    "\n",
    "### 2. Reverse a String\n",
    "Reverse a given string without using slicing."
   ]
  },
  {
   "cell_type": "code",
   "execution_count": null,
   "id": "a50a4987",
   "metadata": {},
   "outputs": [],
   "source": []
  },
  {
   "cell_type": "markdown",
   "id": "92e1b840",
   "metadata": {},
   "source": [
    "### 3. Check for \n",
    "\n",
    "\n",
    "\n",
    "\n",
    "Check if the string is a palindrome.\n",
    "\n",
    "\n"
   ]
  },
  {
   "cell_type": "code",
   "execution_count": null,
   "id": "f5c34417",
   "metadata": {},
   "outputs": [],
   "source": []
  },
  {
   "cell_type": "markdown",
   "id": "e3fdffb8",
   "metadata": {},
   "source": [
    "### 4. Count Vowels\n",
    "Count the number of vowels in a string."
   ]
  },
  {
   "cell_type": "code",
   "execution_count": null,
   "id": "1492a6df",
   "metadata": {},
   "outputs": [],
   "source": []
  },
  {
   "cell_type": "markdown",
   "id": "4e3b494f",
   "metadata": {},
   "source": [
    "### 5. Replace Spaces\n",
    "Replace all spaces in a string with underscores."
   ]
  },
  {
   "cell_type": "code",
   "execution_count": null,
   "id": "d70f106f",
   "metadata": {},
   "outputs": [],
   "source": []
  },
  {
   "cell_type": "markdown",
   "id": "4f8570d2-830f-417a-b464-d278989a3e2a",
   "metadata": {},
   "source": [
    "### 6. Remove Punctuation\n",
    "Remove all punctuation characters from a string (e.g., ., ,, !, ?)."
   ]
  },
  {
   "cell_type": "code",
   "execution_count": null,
   "id": "959f8a74-08af-45bb-8ad7-c36a4b556741",
   "metadata": {},
   "outputs": [],
   "source": []
  },
  {
   "cell_type": "markdown",
   "id": "06a5b8e2-4ac7-4573-baa4-09604dba3dee",
   "metadata": {},
   "source": [
    "### 7. Password Strength Checker\n",
    "\n",
    "Ask for a password. Check if it’s at least 8 characters, contains both letters and numbers."
   ]
  },
  {
   "cell_type": "code",
   "execution_count": null,
   "id": "9511d354-5472-4964-b5a7-99adf75a8cdc",
   "metadata": {},
   "outputs": [],
   "source": []
  },
  {
   "cell_type": "markdown",
   "id": "fec71c7c-14e1-44e7-80a6-e5b08b46089f",
   "metadata": {},
   "source": [
    "### 8. Longest Word\n",
    "Find the longest word in a sentence (ignore punctuation).\n",
    "Example Input: `\"Hello, how are you?\"` → Output: `\"Hello\"`"
   ]
  },
  {
   "cell_type": "code",
   "execution_count": null,
   "id": "e6a3b8fe-92b5-4de2-8699-71862efe5108",
   "metadata": {},
   "outputs": [],
   "source": []
  },
  {
   "cell_type": "markdown",
   "id": "e4110432",
   "metadata": {},
   "source": [
    "## 📋 List Exercises"
   ]
  },
  {
   "cell_type": "markdown",
   "id": "d5ac0465",
   "metadata": {},
   "source": [
    "### 1. Sum of Numbers\n",
    "Given a list of numbers, print the sum."
   ]
  },
  {
   "cell_type": "code",
   "execution_count": 2,
   "id": "318b35ba",
   "metadata": {},
   "outputs": [
    {
     "name": "stdout",
     "output_type": "stream",
     "text": [
      "the sum is: 45\n"
     ]
    }
   ],
   "source": [
    "numbers = [10, 25, 3, 7]\n",
    "total = sum(numbers)\n",
    "print(\"the sum is:\",total)"
   ]
  },
  {
   "cell_type": "markdown",
   "id": "fd296f90",
   "metadata": {},
   "source": [
    "### 2. Find the Maximum\n",
    "Find the largest number in a list."
   ]
  },
  {
   "cell_type": "code",
   "execution_count": 3,
   "id": "58dc5af6",
   "metadata": {},
   "outputs": [
    {
     "name": "stdout",
     "output_type": "stream",
     "text": [
      "Maximum: 25\n"
     ]
    }
   ],
   "source": [
    "numbers = [10, 25, 3, 7]\n",
    "print(\"Maximum:\", max(numbers))"
   ]
  },
  {
   "cell_type": "markdown",
   "id": "ca1dea25",
   "metadata": {},
   "source": [
    "### 3. Count Words\n",
    "Count how many words are in a sentence."
   ]
  },
  {
   "cell_type": "code",
   "execution_count": null,
   "id": "689d1350",
   "metadata": {},
   "outputs": [],
   "source": []
  },
  {
   "cell_type": "markdown",
   "id": "666ddc09",
   "metadata": {},
   "source": [
    "### 4. Multiply All Elements\n",
    "Task: Multiply all the numbers in a list.\n",
    "\n",
    "```\n",
    "# Input: [2, 3, 4]\n",
    "# Output: 24\n",
    "```"
   ]
  },
  {
   "cell_type": "code",
   "execution_count": 9,
   "id": "b676f22d",
   "metadata": {},
   "outputs": [
    {
     "name": "stdout",
     "output_type": "stream",
     "text": [
      "24\n"
     ]
    }
   ],
   "source": [
    "numbers = [2,3,4]\n",
    "result = 1\n",
    "for num in numbers:\n",
    "    result *= num\n",
    "\n",
    "print(result)"
   ]
  },
  {
   "cell_type": "markdown",
   "id": "c57cb148",
   "metadata": {},
   "source": [
    "### 5. List of Even Numbers\n",
    "Return only the even numbers from a list."
   ]
  },
  {
   "cell_type": "code",
   "execution_count": null,
   "id": "0be4185a",
   "metadata": {},
   "outputs": [],
   "source": []
  },
  {
   "cell_type": "markdown",
   "id": "3ec5b46c",
   "metadata": {},
   "source": [
    "### 6. Word Lengths\n",
    "Create a list of word lengths from a sentence."
   ]
  },
  {
   "cell_type": "code",
   "execution_count": null,
   "id": "c6cf328c",
   "metadata": {},
   "outputs": [],
   "source": [
    "sentence"
   ]
  },
  {
   "cell_type": "markdown",
   "id": "e50d54f9",
   "metadata": {},
   "source": [
    "### 7. Split and Sort Words\n",
    "Sort all words in a sentence alphabetically."
   ]
  },
  {
   "cell_type": "code",
   "execution_count": null,
   "id": "9d048d1f",
   "metadata": {},
   "outputs": [],
   "source": []
  },
  {
   "cell_type": "markdown",
   "id": "de145cd9-293a-41ca-8940-0faddff5021e",
   "metadata": {},
   "source": [
    "### 8. Survey Data Analyzer\n",
    "\n",
    "Given a list like [\"yes\", \"no\", \"Yes\", \"YES\", \"No\"], count how many said \"yes\"."
   ]
  },
  {
   "cell_type": "code",
   "execution_count": 1,
   "id": "d9e07065-b52a-46dd-9efe-25df1a7685ec",
   "metadata": {},
   "outputs": [],
   "source": [
    "responses = [\"yes\", \"no\", \"Yes\", \"YES\", \"No\"]\n"
   ]
  },
  {
   "cell_type": "code",
   "execution_count": null,
   "id": "a6bbc489-83a8-4d30-ad92-3074c98d7dcd",
   "metadata": {},
   "outputs": [],
   "source": []
  }
 ],
 "metadata": {
  "kernelspec": {
   "display_name": "Python [conda env:base] *",
   "language": "python",
   "name": "conda-base-py"
  },
  "language_info": {
   "codemirror_mode": {
    "name": "ipython",
    "version": 3
   },
   "file_extension": ".py",
   "mimetype": "text/x-python",
   "name": "python",
   "nbconvert_exporter": "python",
   "pygments_lexer": "ipython3",
   "version": "3.13.5"
  }
 },
 "nbformat": 4,
 "nbformat_minor": 5
}
