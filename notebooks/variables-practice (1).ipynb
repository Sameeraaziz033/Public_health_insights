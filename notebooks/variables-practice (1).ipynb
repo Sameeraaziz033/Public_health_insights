{
 "cells": [
  {
   "cell_type": "markdown",
   "metadata": {},
   "source": [
    "### ![](https://ga-dash.s3.amazonaws.com/production/assets/logo-9f88ae6c9c3871690e33280fcf557f33.png)\n",
    "\n",
    "# Variables Lab\n",
    "\n",
    "## Overview\n",
    "\n",
    "Over the course of six labs, we'll build a weather forecasting application. \n",
    "This application will read in historical weather data, process that data, and make a current weather forecast based on the date a user enters.\n",
    "\n",
    "### Goal \n",
    "\n",
    "Your goal for this lab is to write some variables, declare their values, and print them out. \n"
   ]
  },
  {
   "cell_type": "markdown",
   "metadata": {},
   "source": [
    "<hr>"
   ]
  },
  {
   "cell_type": "markdown",
   "metadata": {},
   "source": [
    "### Strings"
   ]
  },
  {
   "cell_type": "markdown",
   "metadata": {},
   "source": [
    "- Define a variable, `project_title`.\n",
    "  - Set the value as equal to `\"Weather Forecast Application\"`.\n",
    "  - Print the variable."
   ]
  },
  {
   "cell_type": "code",
   "execution_count": 2,
   "metadata": {
    "tags": []
   },
   "outputs": [
    {
     "name": "stdout",
     "output_type": "stream",
     "text": [
      "project_title\n"
     ]
    }
   ],
   "source": [
    "# Enter your code below:\n",
    "print(\"project_title\")\n"
   ]
  },
  {
   "cell_type": "markdown",
   "metadata": {},
   "source": [
    "- Assign a new string value to your `project_title` variable and print the new value."
   ]
  },
  {
   "cell_type": "code",
   "execution_count": 3,
   "metadata": {
    "tags": []
   },
   "outputs": [
    {
     "name": "stdout",
     "output_type": "stream",
     "text": [
      "weather forecast application\n"
     ]
    }
   ],
   "source": [
    "# Enter your code below:\n",
    "project_title = \"weather forecast application\"\n",
    "print(\"weather forecast application\")"
   ]
  },
  {
   "cell_type": "markdown",
   "metadata": {},
   "source": [
    "- Create a new variable, `message`.\n",
    "- Set the value of `message` as equal to the string `\"Your weather forecast\"`.\n",
    "- Print the `message` variable."
   ]
  },
  {
   "cell_type": "raw",
   "metadata": {
    "tags": []
   },
   "source": [
    "message = \"your weather forecast\"\n",
    "print(\"message\")"
   ]
  },
  {
   "cell_type": "markdown",
   "metadata": {},
   "source": [
    "- Create a new variable called `day_of_week`. Assign it the string value `for today is: `.\n",
    "  \n",
    "- Create a new variable called `message_to_user`.\n",
    "  - Set its value to the concatenated string of `message` and `day_of_week`.\n",
    "\n",
    "- Then, print the result of `message_to_user`."
   ]
  },
  {
   "cell_type": "code",
   "execution_count": 8,
   "metadata": {
    "tags": []
   },
   "outputs": [
    {
     "name": "stdout",
     "output_type": "stream",
     "text": [
      "your weather forecastfor today is\n"
     ]
    }
   ],
   "source": [
    "# Enter your code below:\n",
    "message = \"your weather forecast\"\n",
    "day_of_week = \"for today is\"\n",
    "message_to_user = message+day_of_week\n",
    "print(message_to_user)\n"
   ]
  },
  {
   "cell_type": "markdown",
   "metadata": {},
   "source": [
    "Next, we want to print the following statement:\n",
    "\n",
    "> Your weather forecast for today is: Partly cloudy with a chance of thunderstorms.\n",
    "\n",
    "- Create a new variable, `todays_forecast`.\n",
    "  - Set this variable to `\"Partly cloudy with a chance of thunderstorms\"`.\n",
    "  - Print the variables `message_to_user` and `todays_forecast`."
   ]
  },
  {
   "cell_type": "code",
   "execution_count": 11,
   "metadata": {
    "scrolled": true,
    "tags": []
   },
   "outputs": [
    {
     "name": "stdout",
     "output_type": "stream",
     "text": [
      "your weather forecastfor today isPartly cloudy with a chance of thunderstorms\n"
     ]
    }
   ],
   "source": [
    "# Enter your code below:\n",
    "todays_forecast = \"Partly cloudy with a chance of thunderstorms\"\n",
    "print(message_to_user + todays_forecast)"
   ]
  },
  {
   "cell_type": "markdown",
   "metadata": {},
   "source": [
    "<hr>"
   ]
  },
  {
   "cell_type": "markdown",
   "metadata": {},
   "source": [
    "### Numbers\n",
    "\n",
    "Now, set a new variable, `ten_year_avg_daily_highs`, as equal to a value of `68`."
   ]
  },
  {
   "cell_type": "code",
   "execution_count": 14,
   "metadata": {
    "tags": []
   },
   "outputs": [],
   "source": [
    "# Enter your cod\n",
    "ten_year_avg_daily_highs = 68"
   ]
  },
  {
   "cell_type": "markdown",
   "metadata": {},
   "source": [
    "Create a new variable, `total_number_of_days_of_weather_data`, with a value of `87578`."
   ]
  },
  {
   "cell_type": "code",
   "execution_count": 15,
   "metadata": {
    "tags": []
   },
   "outputs": [],
   "source": [
    "# Enter your code below:\n",
    "total_number_of_days_of_weather_data =87578"
   ]
  },
  {
   "cell_type": "markdown",
   "metadata": {},
   "source": [
    "The high temperature for today is 85 and the low is 69. Create a new variable, `todays_range`, which is the result of `todays_low` subtracted from `todays_high`. Print the result of `todays_range`."
   ]
  },
  {
   "cell_type": "code",
   "execution_count": 2,
   "metadata": {
    "tags": []
   },
   "outputs": [
    {
     "name": "stdout",
     "output_type": "stream",
     "text": [
      "16\n"
     ]
    }
   ],
   "source": [
    "todays_high = 85\n",
    "todays_low = 69\n",
    "\n",
    "# Enter your code below:\n",
    "todays_range = todays_high -todays_low\n",
    "print(todays_range)\n"
   ]
  },
  {
   "cell_type": "markdown",
   "metadata": {},
   "source": [
    "When we calculate the chance of precipitation, we'll get the result in decimal form. We want to display this as a percentage to the user. \n",
    "\n",
    "- Convert `chance_of_precipitation` from a decimal to a percentage by multiplying it by 100.\n",
    "  - Print the result."
   ]
  },
  {
   "cell_type": "code",
   "execution_count": 6,
   "metadata": {
    "scrolled": true,
    "tags": []
   },
   "outputs": [
    {
     "ename": "NameError",
     "evalue": "name 'result' is not defined",
     "output_type": "error",
     "traceback": [
      "\u001b[1;31m---------------------------------------------------------------------------\u001b[0m",
      "\u001b[1;31mNameError\u001b[0m                                 Traceback (most recent call last)",
      "Cell \u001b[1;32mIn[6], line 5\u001b[0m\n\u001b[0;32m      3\u001b[0m \u001b[38;5;66;03m# Enter your code below:\u001b[39;00m\n\u001b[0;32m      4\u001b[0m user\u001b[38;5;241m=\u001b[39m\u001b[38;5;241m0.15\u001b[39m\u001b[38;5;241m*\u001b[39m\u001b[38;5;241m100\u001b[39m\n\u001b[1;32m----> 5\u001b[0m \u001b[38;5;28mprint\u001b[39m(result)\n",
      "\u001b[1;31mNameError\u001b[0m: name 'result' is not defined"
     ]
    }
   ],
   "source": [
    "chance_of_precipitation = 0.15\n",
    "\n",
    "# Enter your code below:\n",
    "user=0.15*100\n",
    "print(result)"
   ]
  },
  {
   "cell_type": "markdown",
   "metadata": {},
   "source": [
    "Set `avg_daily_high` as equal to the average high for the week using the variables below, then print the result."
   ]
  },
  {
   "cell_type": "code",
   "execution_count": null,
   "metadata": {
    "tags": []
   },
   "outputs": [],
   "source": [
    "mondays_high = 89\n",
    "tuesdays_high = 87\n",
    "wednesdays_high = 88\n",
    "thursdays_high = 92\n",
    "fridays_high = 94\n",
    "\n",
    "# Enter your code below:\n"
   ]
  },
  {
   "cell_type": "markdown",
   "metadata": {},
   "source": [
    "<hr>"
   ]
  },
  {
   "cell_type": "code",
   "execution_count": 2,
   "metadata": {
    "tags": []
   },
   "outputs": [],
   "source": [
    "# Enter your code below:\n",
    "project_title = \"Python project\"\n",
    "total_number_of_days_of_weather_data  = 17\n",
    "\n"
   ]
  },
  {
   "cell_type": "code",
   "execution_count": 5,
   "metadata": {},
   "outputs": [
    {
     "name": "stdout",
     "output_type": "stream",
     "text": [
      "The name of the project is Python project the number of days in the data is 17\n"
     ]
    }
   ],
   "source": [
    "print(f\"The name of the project is {project_title} the number of days in the data is {total_number_of_days_of_weather_data}\")"
   ]
  },
  {
   "cell_type": "markdown",
   "metadata": {},
   "source": [
    "- Print the following output in a single line of code using the following four variables:\n",
    "\n",
    "  - `message_to_user`\n",
    "  - `todays_high`\n",
    "  - `todays_low`\n",
    "  - `chance_of_precipitation` \n",
    "\n",
    "> Your weather forecast for today is: High of 85, low of 69, with a 15% chance of precipitation."
   ]
  },
  {
   "cell_type": "code",
   "execution_count": null,
   "metadata": {
    "collapsed": true,
    "jupyter": {
     "outputs_hidden": true
    }
   },
   "outputs": [],
   "source": [
    "# Enter your code below:\n"
   ]
  },
  {
   "cell_type": "markdown",
   "metadata": {},
   "source": [
    "<hr>"
   ]
  },
  {
   "cell_type": "markdown",
   "metadata": {},
   "source": [
    "### Well done!"
   ]
  }
 ],
 "metadata": {
  "kernelspec": {
   "display_name": "Python [conda env:base] *",
   "language": "python",
   "name": "conda-base-py"
  },
  "language_info": {
   "codemirror_mode": {
    "name": "ipython",
    "version": 3
   },
   "file_extension": ".py",
   "mimetype": "text/x-python",
   "name": "python",
   "nbconvert_exporter": "python",
   "pygments_lexer": "ipython3",
   "version": "3.13.5"
  }
 },
 "nbformat": 4,
 "nbformat_minor": 4
}
