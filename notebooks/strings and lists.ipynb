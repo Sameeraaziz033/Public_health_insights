{
 "cells": [
  {
   "cell_type": "markdown",
   "id": "8181b76f-70b9-40bb-ba91-83cb4a98cc7a",
   "metadata": {},
   "source": [
    "# Strings"
   ]
  },
  {
   "cell_type": "markdown",
   "id": "1db22f2f-ff82-4088-ab40-8d68922fff8d",
   "metadata": {},
   "source": [
    "Question1: Write a word and print its reverse.\n",
    "If the input is apple, the output should be elppa."
   ]
  },
  {
   "cell_type": "code",
   "execution_count": 17,
   "id": "406bf387-85c3-4dd1-9014-4c5419b8abbd",
   "metadata": {
    "scrolled": true
   },
   "outputs": [
    {
     "ename": "IndexError",
     "evalue": "string index out of range",
     "output_type": "error",
     "traceback": [
      "\u001b[1;31m---------------------------------------------------------------------------\u001b[0m",
      "\u001b[1;31mIndexError\u001b[0m                                Traceback (most recent call last)",
      "Cell \u001b[1;32mIn[17], line 2\u001b[0m\n\u001b[0;32m      1\u001b[0m name \u001b[38;5;241m=\u001b[39m \u001b[38;5;124m\"\u001b[39m\u001b[38;5;124mapple\u001b[39m\u001b[38;5;124m\"\u001b[39m\n\u001b[1;32m----> 2\u001b[0m \u001b[38;5;28mprint\u001b[39m(name[\u001b[38;5;241m5\u001b[39m])\n\u001b[0;32m      3\u001b[0m \u001b[38;5;28mprint\u001b[39m(name[\u001b[38;5;241m4\u001b[39m])\n\u001b[0;32m      4\u001b[0m \u001b[38;5;28mprint\u001b[39m(name[\u001b[38;5;241m3\u001b[39m])\n",
      "\u001b[1;31mIndexError\u001b[0m: string index out of range"
     ]
    }
   ],
   "source": [
    "name = \"apple\"\n",
    "print(name[5])\n",
    "print(name[4])\n",
    "print(name[3])\n",
    "print(name[2])\n",
    "print(name[1])\n",
    "print(name[0])\n"
   ]
  },
  {
   "cell_type": "markdown",
   "id": "d7e054ec-af75-4c19-9fdf-8395dc93ea23",
   "metadata": {},
   "source": [
    "Question2: Write a sentence and count how many times the letter \"a\" appears."
   ]
  },
  {
   "cell_type": "code",
   "execution_count": null,
   "id": "33c74171-3ba9-4f70-90d8-1a4d4ca5546f",
   "metadata": {},
   "outputs": [],
   "source": [
    "sen = \"A banana always attracts a curious animal\"\n"
   ]
  },
  {
   "cell_type": "markdown",
   "id": "c6abf54a-95e4-4d3a-9f64-cb3b325b7f5e",
   "metadata": {},
   "source": [
    "Question3: Write a sentence and remove all the spaces."
   ]
  },
  {
   "cell_type": "code",
   "execution_count": 18,
   "id": "2bd66bff-4676-44fa-acd9-9b631a583c6c",
   "metadata": {},
   "outputs": [
    {
     "data": {
      "text/plain": [
       "'Abananaalwaysattractsacuriousanimal'"
      ]
     },
     "execution_count": 18,
     "metadata": {},
     "output_type": "execute_result"
    }
   ],
   "source": [
    "sen = \"A banana always attracts a curious animal\"\n",
    "sen.replace(\" \",\"\")\n"
   ]
  },
  {
   "cell_type": "markdown",
   "id": "3d14bbf5-3dfe-494d-a724-4194a8b40a58",
   "metadata": {},
   "source": [
    "Question4:\n",
    "Use the sentence to answer the following questions:\n"
   ]
  },
  {
   "cell_type": "code",
   "execution_count": 9,
   "id": "cf55f9c1-17d8-421b-8aa6-0da3b280988c",
   "metadata": {
    "scrolled": true
   },
   "outputs": [
    {
     "name": "stdout",
     "output_type": "stream",
     "text": [
      "Data analysis and Python are amazing!\n"
     ]
    }
   ],
   "source": [
    "sentence = \"Data analysis and Python are amazing!\"\n",
    "print (sentence)"
   ]
  },
  {
   "cell_type": "markdown",
   "id": "490e5c90-e623-49f3-b8e6-57722d69a4b6",
   "metadata": {},
   "source": [
    "A. Find the index of the first occurrence of the letter \"a\"."
   ]
  },
  {
   "cell_type": "code",
   "execution_count": 20,
   "id": "b2683eb5-2521-41f1-8c8d-a94be5d0ede2",
   "metadata": {
    "scrolled": true
   },
   "outputs": [
    {
     "data": {
      "text/plain": [
       "1"
      ]
     },
     "execution_count": 20,
     "metadata": {},
     "output_type": "execute_result"
    }
   ],
   "source": [
    "1"
   ]
  },
  {
   "cell_type": "markdown",
   "id": "1d1e0b89-a798-4865-8dc2-fed629241a67",
   "metadata": {},
   "source": [
    "B. Find the index of the second space \" \" in the sentence."
   ]
  },
  {
   "cell_type": "code",
   "execution_count": 21,
   "id": "4d4e4a24-d947-45d2-846b-be574edfcc40",
   "metadata": {},
   "outputs": [
    {
     "data": {
      "text/plain": [
       "4"
      ]
     },
     "execution_count": 21,
     "metadata": {},
     "output_type": "execute_result"
    }
   ],
   "source": [
    "4"
   ]
  },
  {
   "cell_type": "markdown",
   "id": "9f8de468-6cf1-4483-b4f7-b875772eb25f",
   "metadata": {},
   "source": [
    "C. Print all the indexes where the letter \"a\" appears."
   ]
  },
  {
   "cell_type": "code",
   "execution_count": null,
   "id": "e5307a68-58d6-49e6-9ff0-692458fc1c35",
   "metadata": {},
   "outputs": [],
   "source": [
    "sentence = \"Data analysis and Python are amazing!\"\n",
    "index = 0\n",
    "for i in sentence:\n",
    "    if i =='a':\n",
    "        print(index)\n",
    "    index+= 1"
   ]
  },
  {
   "cell_type": "markdown",
   "id": "146aaa0c-0d49-4c75-99ec-6fd58978a05b",
   "metadata": {},
   "source": [
    "## The Wait List\n",
    "You will have to research some new methods to use for these challenges\n",
    "You can use print statements to investigate whether your changes have succeeded as expected"
   ]
  },
  {
   "cell_type": "code",
   "execution_count": 11,
   "id": "e72d37c9-c436-42e8-9526-3294ab48c22b",
   "metadata": {
    "scrolled": true
   },
   "outputs": [
    {
     "name": "stdout",
     "output_type": "stream",
     "text": [
      "['Alice', 'Boris', 'Carmen']\n"
     ]
    }
   ],
   "source": [
    "candidates = [\"Alice\", \"Boris\", \"Carmen\"]\n",
    "print(candidates)"
   ]
  },
  {
   "cell_type": "markdown",
   "id": "56d8591f-46f2-45c8-a60a-92e6465dea02",
   "metadata": {},
   "source": [
    "A. A promising new applicant, Diego, needs to be added to the end of the list"
   ]
  },
  {
   "cell_type": "code",
   "execution_count": null,
   "id": "ec16eccb-b22d-4902-a32b-3246d1241012",
   "metadata": {},
   "outputs": [],
   "source": []
  },
  {
   "cell_type": "markdown",
   "id": "3e49d2d2-5193-4281-97fb-4ed0cde34699",
   "metadata": {},
   "source": [
    "B. Alice has informed us of a typo on their application: change their name to \"Alyce\""
   ]
  },
  {
   "cell_type": "code",
   "execution_count": null,
   "id": "92411431-e1ff-4183-88c9-1a7c890fc788",
   "metadata": {},
   "outputs": [],
   "source": []
  },
  {
   "cell_type": "markdown",
   "id": "c938cab6-4a62-4bf5-a120-43fbb846beea",
   "metadata": {},
   "source": [
    "C. One of our generous donors has a nephew, Aaron, who should be added to the very front of the list"
   ]
  },
  {
   "cell_type": "code",
   "execution_count": null,
   "id": "d6b20d79-d4aa-4662-ba55-290542ecf8f1",
   "metadata": {},
   "outputs": [],
   "source": []
  },
  {
   "cell_type": "markdown",
   "id": "24aed1ac-3e90-4f36-baee-fa89cb4a6a05",
   "metadata": {},
   "source": [
    "D. Boris's parents are concerned. Use the .index() method to print a message explaining Boris's place in the list"
   ]
  },
  {
   "cell_type": "code",
   "execution_count": null,
   "id": "8d06e593-7ae3-47fb-b3b0-ecd17fa52781",
   "metadata": {},
   "outputs": [],
   "source": []
  },
  {
   "cell_type": "markdown",
   "id": "8ff1b585-dcdd-4800-9c43-b2ac01a115b3",
   "metadata": {},
   "source": [
    "E. Carmen is upset by the priority given to relatives of donors, and has withdrawn their application.\n",
    "Use the .remove() method to remove them from the list."
   ]
  },
  {
   "cell_type": "code",
   "execution_count": null,
   "id": "d7c5696a-6ea7-4f97-b75a-2bed2435cc6c",
   "metadata": {},
   "outputs": [],
   "source": []
  },
  {
   "cell_type": "markdown",
   "id": "da512248-8681-40d1-911b-a0b57ed923ab",
   "metadata": {},
   "source": [
    "F. Use a method to remove the very first student in the list, as they have now been accepted!"
   ]
  },
  {
   "cell_type": "code",
   "execution_count": null,
   "id": "c00303c6-ecd9-477e-9d34-1c59f507a52b",
   "metadata": {},
   "outputs": [],
   "source": []
  },
  {
   "cell_type": "markdown",
   "id": "64242376-4eed-43c8-843b-b339c106dffa",
   "metadata": {},
   "source": [
    "G. DeSean has submitted an impressive personal statement. Place them at index 1 by using .insert()"
   ]
  },
  {
   "cell_type": "code",
   "execution_count": null,
   "id": "10218af4-9ea6-4ff1-ad9f-90f6d581d751",
   "metadata": {},
   "outputs": [],
   "source": []
  },
  {
   "cell_type": "markdown",
   "id": "63bbe2c1-af5c-4bf0-9071-9e1f4c73b6e7",
   "metadata": {},
   "source": [
    "H. We've been audited by the Board for Educational Fairness! Print the list of candidates.\n",
    "It should look like this: [\"Alyce\", \"DeSean\", Boris\", \"Diego\"]"
   ]
  },
  {
   "cell_type": "code",
   "execution_count": null,
   "id": "f8b28abf-13ea-4e75-bde7-d389b3184b26",
   "metadata": {},
   "outputs": [],
   "source": []
  },
  {
   "cell_type": "markdown",
   "id": "14a9a4db-4ffb-45bc-ae60-93fbc4d15e86",
   "metadata": {},
   "source": [
    "## Colors of the Rainbow"
   ]
  },
  {
   "cell_type": "markdown",
   "id": "7b09945a-222c-4f5e-852c-d45e68bb58f0",
   "metadata": {},
   "source": [
    " A. Make a list called colors that stores 7 strings, each a color of the rainbow"
   ]
  },
  {
   "cell_type": "code",
   "execution_count": null,
   "id": "e602aca8-34a4-4ec4-810d-267a7ca428c7",
   "metadata": {},
   "outputs": [],
   "source": []
  },
  {
   "cell_type": "markdown",
   "id": "b24b51c7-fe72-43a3-a703-e7fb543db613",
   "metadata": {},
   "source": [
    "B. Then, print the following string, using list indices to access the specific colors:\n",
    "\"The colors of the rainbow are red, orange, yellow, green, blue, indigo, and violet\""
   ]
  },
  {
   "cell_type": "code",
   "execution_count": null,
   "id": "37845e73-e819-4c4a-ab49-9e998be6f5b2",
   "metadata": {},
   "outputs": [],
   "source": []
  },
  {
   "cell_type": "markdown",
   "id": "af610ba2-6ad4-49c6-8ef5-4420c2668304",
   "metadata": {},
   "source": [
    "C. Change two of the colors to more descriptive names, such as \"Lightning Yellow\" or \"Deep Sea Blue\""
   ]
  },
  {
   "cell_type": "code",
   "execution_count": null,
   "id": "48375531-60b1-4462-a879-0005bba34535",
   "metadata": {},
   "outputs": [],
   "source": []
  },
  {
   "cell_type": "markdown",
   "id": "6a33c15d-7f35-449f-bfdf-0f3ddfddaebc",
   "metadata": {},
   "source": [
    "D. Print the two new color names using list indices to access them"
   ]
  },
  {
   "cell_type": "code",
   "execution_count": null,
   "id": "c9fb6236-78e1-4013-8414-05ea65f99fa8",
   "metadata": {},
   "outputs": [],
   "source": []
  },
  {
   "cell_type": "markdown",
   "id": "272612fe-22e4-47ab-a180-bc8e894bbe48",
   "metadata": {},
   "source": [
    " E. Print the colors variable to see the difference between printing a specific item and printing the list itself"
   ]
  },
  {
   "cell_type": "code",
   "execution_count": null,
   "id": "3965b3ca-ac5c-49d3-93fe-f4b4d2291706",
   "metadata": {},
   "outputs": [],
   "source": []
  }
 ],
 "metadata": {
  "kernelspec": {
   "display_name": "Python [conda env:base] *",
   "language": "python",
   "name": "conda-base-py"
  },
  "language_info": {
   "codemirror_mode": {
    "name": "ipython",
    "version": 3
   },
   "file_extension": ".py",
   "mimetype": "text/x-python",
   "name": "python",
   "nbconvert_exporter": "python",
   "pygments_lexer": "ipython3",
   "version": "3.13.5"
  }
 },
 "nbformat": 4,
 "nbformat_minor": 5
}
