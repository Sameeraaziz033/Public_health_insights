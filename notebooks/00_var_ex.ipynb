{
 "cells": [
  {
   "cell_type": "markdown",
   "id": "a47aef2f-2889-41fc-81d9-2f95f1eee57b",
   "metadata": {},
   "source": [
    "# Practice with Types, Expressions, and Printing\n",
    "\n",
    "These exercises will help you build Python skills covered in the lectures. Try coding yourself to truly understand how it works! These exercises are optional - spend as much time as you need based on your Python familiarity.\n",
    "\n",
    "---\n",
    "\n",
    "## Exercise 1: Math Operations in Python\n",
    "\n",
    "Let's use Python as a calculator!\n",
    "\n",
    "### 1. Add the numbers 10 and 15  \n",
    "**Code to write:** `print(10 + 15)`  \n",
    "*(Tip: Put your calculation inside print() to display the output)*\n"
   ]
  },
  {
   "cell_type": "code",
   "execution_count": 11,
   "id": "b8efff7a-f43b-4093-81c7-0b2d230ff567",
   "metadata": {},
   "outputs": [
    {
     "name": "stdout",
     "output_type": "stream",
     "text": [
      "25\n"
     ]
    }
   ],
   "source": [
    "print(10+15)\n",
    "    "
   ]
  },
  {
   "cell_type": "code",
   "execution_count": null,
   "id": "84cae51e-ac24-461f-ad0b-2de27827f4d3",
   "metadata": {},
   "outputs": [],
   "source": [
    "### 2. Divide the number 15 by 3  "
   ]
  },
  {
   "cell_type": "code",
   "execution_count": 1,
   "id": "6d6b89fc-2551-4cde-9045-d9be00fe4a21",
   "metadata": {},
   "outputs": [
    {
     "data": {
      "text/plain": [
       "5.0"
      ]
     },
     "execution_count": 1,
     "metadata": {},
     "output_type": "execute_result"
    }
   ],
   "source": [
    "15/3"
   ]
  },
  {
   "cell_type": "markdown",
   "id": "1b8b6312-dc97-4358-9e9e-7f89c72f6aa1",
   "metadata": {},
   "source": [
    "\n",
    "### 3. Multiply 1.5 and 2.1  "
   ]
  },
  {
   "cell_type": "code",
   "execution_count": 4,
   "id": "a8127e22-42a4-4252-8ae8-5f4950385115",
   "metadata": {},
   "outputs": [
    {
     "data": {
      "text/plain": [
       "3.1500000000000004"
      ]
     },
     "execution_count": 4,
     "metadata": {},
     "output_type": "execute_result"
    }
   ],
   "source": [
    "1.5*2.1"
   ]
  },
  {
   "cell_type": "markdown",
   "id": "155bad79-3991-41f3-9284-08ca42ae9421",
   "metadata": {},
   "source": [
    "### 4. Try adding the strings \"Hello\" and \"World\"  "
   ]
  },
  {
   "cell_type": "code",
   "execution_count": 8,
   "id": "06adc40d-20fc-4b98-9d89-dc3aa8e7b448",
   "metadata": {},
   "outputs": [
    {
     "data": {
      "text/plain": [
       "'hello world'"
      ]
     },
     "execution_count": 8,
     "metadata": {},
     "output_type": "execute_result"
    }
   ],
   "source": [
    "(\"hello world\")"
   ]
  },
  {
   "cell_type": "markdown",
   "id": "2051f766-9926-42b3-9b23-214d0bc1ae03",
   "metadata": {},
   "source": [
    "## Exercise 2: Printing\n",
    "\n",
    "### 1. Print the text \"I'm starting my Python journey!\"  \n"
   ]
  },
  {
   "cell_type": "code",
   "execution_count": 12,
   "id": "46b9a072-43bd-40fd-85df-18a779fb19b4",
   "metadata": {},
   "outputs": [
    {
     "name": "stdout",
     "output_type": "stream",
     "text": [
      "Im starting my Python journey!\n"
     ]
    }
   ],
   "source": [
    "print(\"Im starting my Python journey!\")"
   ]
  },
  {
   "cell_type": "markdown",
   "id": "f23be67d-3223-4ddc-bad9-972ae22d1726",
   "metadata": {},
   "source": [
    "### 2. Print the text \"5+2 is \" and the result of adding 5 and 2  "
   ]
  },
  {
   "cell_type": "code",
   "execution_count": 15,
   "id": "9e42a179-8544-448a-90e3-f4acd65d6b63",
   "metadata": {},
   "outputs": [
    {
     "name": "stdout",
     "output_type": "stream",
     "text": [
      "5+2 is 7\n"
     ]
    }
   ],
   "source": [
    "print(\"5+2 is\",5+2)"
   ]
  },
  {
   "cell_type": "code",
   "execution_count": null,
   "id": "e1a3018a-83ad-4e9c-9e6a-25db81d879d8",
   "metadata": {},
   "outputs": [],
   "source": [
    "grade = 88\n",
    "\n",
    "100-90  A\n",
    "90-80   B\n",
    "80-70   c\n",
    "70-60   D\n",
    "  60    f"
   ]
  },
  {
   "cell_type": "code",
   "execution_count": null,
   "id": "745d8705-fa94-4546-b315-89c93ee1f291",
   "metadata": {},
   "outputs": [],
   "source": []
  },
  {
   "cell_type": "code",
   "execution_count": null,
   "id": "dd878788-9e68-4d23-82fd-d3ae7b0d58c0",
   "metadata": {},
   "outputs": [],
   "source": []
  }
 ],
 "metadata": {
  "kernelspec": {
   "display_name": "Python [conda env:base] *",
   "language": "python",
   "name": "conda-base-py"
  },
  "language_info": {
   "codemirror_mode": {
    "name": "ipython",
    "version": 3
   },
   "file_extension": ".py",
   "mimetype": "text/x-python",
   "name": "python",
   "nbconvert_exporter": "python",
   "pygments_lexer": "ipython3",
   "version": "3.13.5"
  }
 },
 "nbformat": 4,
 "nbformat_minor": 5
}
