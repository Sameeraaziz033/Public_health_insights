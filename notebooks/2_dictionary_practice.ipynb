{
 "cells": [
  {
   "cell_type": "markdown",
   "metadata": {
    "id": "YTjIAnZiDRBW"
   },
   "source": [
    "<img src=\"http://imgur.com/1ZcRyrc.png\" style=\"float: left; margin: 20px; height: 55px\">\n",
    "\n",
    "### Independent practice: Python dictionaries\n",
    "\n",
    "---"
   ]
  },
  {
   "cell_type": "code",
   "execution_count": null,
   "metadata": {
    "id": "5esyy9V-DV8L"
   },
   "outputs": [],
   "source": []
  },
  {
   "cell_type": "markdown",
   "metadata": {
    "id": "snFjKu63DRBX"
   },
   "source": [
    "Create a dictionary of 5 `key:value` pairs of your choice, then complete the problems.\n",
    "\n",
    "There are some methods mentioned that we have not covered in class.  Experiment with them (remember you can use `Shift + Tab` inside the bracket of a method to see the Docstrings, which will tell you how the method works.  Or you can google it)."
   ]
  },
  {
   "cell_type": "markdown",
   "metadata": {
    "id": "A_-cPhv-DRBY"
   },
   "source": [
    "##### 1. Create a dictionary with 5 `key:value` pairs"
   ]
  },
  {
   "cell_type": "code",
   "execution_count": null,
   "metadata": {
    "id": "QunXqMzADRBZ"
   },
   "outputs": [],
   "source": []
  },
  {
   "cell_type": "markdown",
   "metadata": {
    "id": "B-mqAn_lDRBZ"
   },
   "source": [
    "##### 2. Remove one of the `key:value` pairs from your dictionary by using `.pop()`"
   ]
  },
  {
   "cell_type": "code",
   "execution_count": null,
   "metadata": {
    "id": "sX3OKJT3DRBZ"
   },
   "outputs": [],
   "source": []
  },
  {
   "cell_type": "markdown",
   "metadata": {
    "id": "y1GaywG5DRBa"
   },
   "source": [
    "##### 3. Remove another variable using `.pop()`, and assign it to a variable.  As well as removing the pair from the dictionary the new variable has the value (but not the key) that you removed"
   ]
  },
  {
   "cell_type": "code",
   "execution_count": null,
   "metadata": {
    "id": "wsscuZFVDRBa"
   },
   "outputs": [],
   "source": []
  },
  {
   "cell_type": "markdown",
   "metadata": {
    "id": "TF0vcSuEDRBa"
   },
   "source": [
    "##### 4. We have so far learnt to access values in a dictionary by using the syntax `dict['key']`.  But there is another useful method to access keys: `.get()`\n",
    "\n",
    "If the key you are looking for does not exist in the dictionary, you get an error (a KeyError).  This may be what you want, but if you'd rather that your program carries on if the key isn't found, you can use the `.get()` method.\n",
    "\n",
    "Try it with your dictionary.  Access the value(s) for a key using both methods: `dict['key']` and `dict.get('key')`.  Try it for a key that you know doesn't exist in the dictionary by changing the capitalisation of the key you are searching for."
   ]
  },
  {
   "cell_type": "code",
   "execution_count": null,
   "metadata": {
    "id": "qWHlX_MnDRBb"
   },
   "outputs": [],
   "source": []
  },
  {
   "cell_type": "markdown",
   "metadata": {
    "id": "13wPOrewDRBb"
   },
   "source": [
    "##### 5. Check if the key `jessie` is in the dictionary"
   ]
  },
  {
   "cell_type": "code",
   "execution_count": null,
   "metadata": {
    "id": "-Le7X_8WDRBb"
   },
   "outputs": [],
   "source": []
  },
  {
   "cell_type": "markdown",
   "metadata": {
    "id": "9AkjooSDDRBc"
   },
   "source": [
    "##### 6. Print the keys in the dictionary with the `.keys()` function"
   ]
  },
  {
   "cell_type": "code",
   "execution_count": null,
   "metadata": {
    "id": "ZesCv3NvDRBc"
   },
   "outputs": [],
   "source": []
  },
  {
   "cell_type": "markdown",
   "metadata": {
    "id": "ulkridANDRBc"
   },
   "source": [
    "###### 7. Print the key:value pairs in the dictionary with the `.items()` function"
   ]
  },
  {
   "cell_type": "code",
   "execution_count": null,
   "metadata": {
    "id": "sQEEd8raDRBc"
   },
   "outputs": [],
   "source": []
  },
  {
   "cell_type": "markdown",
   "metadata": {
    "id": "fkRB1OJfDRBc"
   },
   "source": [
    "##### 8. Join another dictionary with your dictionary using the `.update()` function.\n",
    "\n",
    "Note: you'll need to create another dictionary first.  Also, the update function takes the dictionary you want to merge in as a variable."
   ]
  },
  {
   "cell_type": "code",
   "execution_count": null,
   "metadata": {
    "id": "tDLvLT4pDRBc"
   },
   "outputs": [],
   "source": []
  },
  {
   "cell_type": "markdown",
   "metadata": {
    "id": "r_v6vHe0DRBd"
   },
   "source": [
    "##### 9. Clear all the key:value pairs from the dictionary using `.clear()`"
   ]
  },
  {
   "cell_type": "code",
   "execution_count": null,
   "metadata": {
    "id": "uWoKHKJzDRBd"
   },
   "outputs": [],
   "source": []
  }
 ],
 "metadata": {
  "anaconda-cloud": {},
  "colab": {
   "provenance": []
  },
  "kernelspec": {
   "display_name": "Python [conda env:base] *",
   "language": "python",
   "name": "conda-base-py"
  },
  "language_info": {
   "codemirror_mode": {
    "name": "ipython",
    "version": 3
   },
   "file_extension": ".py",
   "mimetype": "text/x-python",
   "name": "python",
   "nbconvert_exporter": "python",
   "pygments_lexer": "ipython3",
   "version": "3.13.5"
  },
  "toc": {
   "base_numbering": 1,
   "nav_menu": {},
   "number_sections": false,
   "sideBar": true,
   "skip_h1_title": true,
   "title_cell": "Table of Contents",
   "title_sidebar": "Contents",
   "toc_cell": false,
   "toc_position": {},
   "toc_section_display": "block",
   "toc_window_display": false
  }
 },
 "nbformat": 4,
 "nbformat_minor": 4
}
