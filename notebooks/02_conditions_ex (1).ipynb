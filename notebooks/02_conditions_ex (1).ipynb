{
 "cells": [
  {
   "cell_type": "markdown",
   "id": "5bd0289d-8c85-43bb-b7e2-761a145185a5",
   "metadata": {},
   "source": [
    "# Condtional Statement"
   ]
  },
  {
   "cell_type": "markdown",
   "id": "633b6373-f139-47a9-b926-05e512c7c7e1",
   "metadata": {},
   "source": [
    "**Exercise 1: Greeting Bot**\n",
    "\n",
    "\n",
    "\n",
    "- Asks the user for their name (store in a variable)\n",
    "\n",
    "- Asks for the current time (e.g., \"morning\"/\"afternoon\"/\"evening\")\n",
    "\n",
    "- Prints a personalized greeting like:\n",
    "\n",
    "        If time is \"morning\" → \"Good morning, [name]!\"\n",
    "\n",
    "        If \"afternoon\" → \"Good afternoon, [name]!\"\n",
    "\n",
    "        Else → \"Hello, [name]!\"\n",
    "\n"
   ]
  },
  {
   "cell_type": "code",
   "execution_count": 18,
   "id": "17968efb-dca7-4463-b2e6-9114ad868921",
   "metadata": {
    "scrolled": true
   },
   "outputs": [
    {
     "name": "stdin",
     "output_type": "stream",
     "text": [
      "What's your name? Sameera\n",
      "What time of day is it? (morning/afternoon/evening)  morning\n"
     ]
    },
    {
     "name": "stdout",
     "output_type": "stream",
     "text": [
      "Good morning, Sameera!\n"
     ]
    }
   ],
   "source": [
    "name = input(\"What's your name?\")\n",
    "time_of_day = input(\"What time of day is it? (morning/afternoon/evening) \")\n",
    "\n",
    "\n",
    "if time_of_day == \"morning\":\n",
    "    print(f\"Good morning, {name}!\")\n",
    "elif time_of_day == \"afternoon\":\n",
    "    print(f\"Good afternoon, {name}!\")\n",
    "else:\n",
    "    print(f\"Hello, {name}!\")"
   ]
  },
  {
   "cell_type": "markdown",
   "id": "a1d70644-c3eb-4a4b-8f28-d757f0009394",
   "metadata": {},
   "source": [
    "**Exercise 2: Simple Login Check**  \n",
    "\n",
    "- Set a correct_password = \"python123\" (hardcoded variable)\n",
    "\n",
    "- Ask the user to enter a password (store input in a variable)\n",
    "\n",
    "- Print \"Access granted\" if their input matches the correct password, else \"Access denied\"."
   ]
  },
  {
   "cell_type": "code",
   "execution_count": 21,
   "id": "80b3ec77-656d-428c-a4a3-dff56002fbbb",
   "metadata": {},
   "outputs": [
    {
     "name": "stdin",
     "output_type": "stream",
     "text": [
      "enter your password: python123\n"
     ]
    },
    {
     "name": "stdout",
     "output_type": "stream",
     "text": [
      "access granted\n"
     ]
    }
   ],
   "source": [
    "correct_password = \"python123\"\n",
    "typed_password = input(\"enter your password:\")\n",
    "if typed_password ==correct_password:\n",
    "    print(\"access granted\")\n",
    "else : \"access denied\""
   ]
  },
  {
   "cell_type": "code",
   "execution_count": null,
   "id": "bc39a6f7-14a3-460b-9b91-3e1d1e61a678",
   "metadata": {},
   "outputs": [],
   "source": []
  },
  {
   "cell_type": "markdown",
   "id": "97a8f18b-eaf8-48f2-98ab-057a2379cbdb",
   "metadata": {},
   "source": [
    "**Exercise 3: Age Checker**\n",
    "\n",
    "\n",
    "- Ask the user for their age (store as integer)\n",
    "\n",
    "- Use conditions to print:\n",
    "\n",
    "    - \"Child\" if age < 13\n",
    "\n",
    "    - \"Teen\" if 13 <= age < 20\n",
    "\n",
    "    - \"Adult\" otherwise"
   ]
  },
  {
   "cell_type": "code",
   "execution_count": 6,
   "id": "7e7ec75e-f778-45b2-af9a-ff39d91d8aea",
   "metadata": {},
   "outputs": [
    {
     "name": "stdin",
     "output_type": "stream",
     "text": [
      "enter your age? 22\n"
     ]
    },
    {
     "name": "stdout",
     "output_type": "stream",
     "text": [
      "adult\n"
     ]
    }
   ],
   "source": [
    "age = int(input(\"enter your age?\"))\n",
    "\n",
    "if age<13:\n",
    "          print('child')       \n",
    "elif age>=13 and age<20:\n",
    "    print(\"teen\")\n",
    "else:\n",
    "    print(\"adult\")\n",
    "          "
   ]
  },
  {
   "cell_type": "markdown",
   "id": "bbb585e4-acff-4737-931d-f992ce279d2f",
   "metadata": {},
   "source": [
    "**Exercise 4: Discount Calculator**\n",
    "\n",
    "\n",
    "- Set a price = 100 (variable)\n",
    "\n",
    "- Ask the user if they have a membership (yes/no → store as boolean)\n",
    "\n",
    "- If membership is \"yes\", apply a 20% discount and print the new price. Else, print the original price."
   ]
  },
  {
   "cell_type": "code",
   "execution_count": 28,
   "id": "15b6931a-e8da-4c9f-bd6e-c0dbb8492da1",
   "metadata": {},
   "outputs": [
    {
     "name": "stdin",
     "output_type": "stream",
     "text": [
      "Do you have a membership? (yes/no):  100\n"
     ]
    },
    {
     "name": "stdout",
     "output_type": "stream",
     "text": [
      "No discount. Price is: 100\n"
     ]
    }
   ],
   "source": [
    "price = 100\n",
    "membership = input(\"Do you have a membership? (yes/no): \")\n",
    "if membership == \"yes\":\n",
    "    discount = price * 0.20  \n",
    "    final_price = price - discount\n",
    "    print(\"You get a 20% discount! Final price is:\", final_price)\n",
    "else:\n",
    "    print(\"No discount. Price is:\", price)"
   ]
  },
  {
   "cell_type": "markdown",
   "id": "da5ffdbf-c5f1-495b-89d3-5f131dc7913d",
   "metadata": {},
   "source": [
    "**Exercise 5: Number Analyzer**\n",
    "\n",
    "\n",
    "- Ask the user to input a number (store as integer)\n",
    "\n",
    "- Check and print:\n",
    "\n",
    "    - If the number is positive/negative/zero\n",
    "\n",
    "    - If it’s even or odd (use %)\n",
    "\n"
   ]
  },
  {
   "cell_type": "code",
   "execution_count": 4,
   "id": "10bdc763-1c28-4a95-b9f6-c0df12054d7a",
   "metadata": {},
   "outputs": [
    {
     "name": "stdin",
     "output_type": "stream",
     "text": [
      "Enter any number:  0\n"
     ]
    },
    {
     "name": "stdout",
     "output_type": "stream",
     "text": [
      "The number is zero.\n",
      "It is even.\n"
     ]
    }
   ],
   "source": [
    "num = int(input(\"Enter any number: \"))\n",
    "\n",
    "if num > 0:\n",
    "    print(\"The number is positive.\")\n",
    "elif num < 0:\n",
    "    print(\"The number is negative.\")\n",
    "else:\n",
    "    print(\"The number is zero.\")\n",
    "if num % 2 == 0:\n",
    "    print(\"It is even.\")\n",
    "else:\n",
    "    print(\"It is odd.\")"
   ]
  },
  {
   "cell_type": "markdown",
   "id": "69fbc92b-3500-4eec-8add-2954ab2b7a88",
   "metadata": {},
   "source": [
    "**Exercise 6: Weather Advisor**\n",
    "\n",
    "- Ask for the current temperature (number)\n",
    "\n",
    "- Suggest clothing:\n",
    "\n",
    "    - \"Wear a jacket!\" if below 15°C\n",
    "\n",
    "    - \"T-shirt weather!\" if 15-25°C\n",
    "\n",
    "    - \"Stay cool indoors!\" if above 25°C\n",
    "\n",
    "Bonus: Add a is_raining (yes/no) check for umbrella advice."
   ]
  },
  {
   "cell_type": "code",
   "execution_count": 13,
   "id": "668f30b5-5c6e-47ad-9ef3-04e781a30b53",
   "metadata": {},
   "outputs": [
    {
     "name": "stdin",
     "output_type": "stream",
     "text": [
      "Enter the current temperature in °C:  23\n"
     ]
    },
    {
     "name": "stdout",
     "output_type": "stream",
     "text": [
      "T-shirt weather!\n"
     ]
    },
    {
     "name": "stdin",
     "output_type": "stream",
     "text": [
      "Is it raining? (yes/no):  yes\n"
     ]
    },
    {
     "name": "stdout",
     "output_type": "stream",
     "text": [
      "Don't forget your umbrella!\n"
     ]
    }
   ],
   "source": [
    "temperature = float(input(\"Enter the current temperature in °C: \"))\n",
    "\n",
    "if temperature < 15:\n",
    "    print(\"Wear a jacket!\")\n",
    "elif temperature <= 25:\n",
    "    print(\"T-shirt weather!\")\n",
    "else:\n",
    "    print(\"Stay cool indoors!\")\n",
    "raining = input(\"Is it raining? (yes/no): \")\n",
    "\n",
    "if raining == \"yes\":\n",
    "    print(\"Don't forget your umbrella!\")"
   ]
  },
  {
   "cell_type": "markdown",
   "id": "19549401-0a36-459c-81c4-2cc6447f59cf",
   "metadata": {},
   "source": [
    "**Exercise 7: Pizza Toppings**\n",
    "\n",
    "\n",
    "- Set `available_toppings = [\"pepperoni\", \"mushroom\", \"olive\"]`\n",
    "\n",
    "- Ask the user for their desired topping (store in a variable)\n",
    "\n",
    "- Print \"Added!\" if available, else \"Not available.\"\n",
    "\n"
   ]
  },
  {
   "cell_type": "code",
   "execution_count": 11,
   "id": "4f2ce8a7-faca-4745-84dd-cd4a77b1dde3",
   "metadata": {},
   "outputs": [
    {
     "name": "stdin",
     "output_type": "stream",
     "text": [
      "Enter your desired pizza topping: olive\n"
     ]
    },
    {
     "name": "stdout",
     "output_type": "stream",
     "text": [
      "Added!\n"
     ]
    }
   ],
   "source": [
    "available_toppings = [\"pepperoni\", \"mushroom\", \"olive\"]\n",
    "topping = input(\"Enter your desired pizza topping:\")\n",
    "if topping in available_toppings:\n",
    "    print(\"Added!\")\n",
    "else:\n",
    "    print(\"Not available.\")"
   ]
  },
  {
   "cell_type": "markdown",
   "id": "1973dc95-1074-435c-a21b-930ebaf381ef",
   "metadata": {},
   "source": [
    "**Exercise 8: Time Converter**\n",
    "\n",
    "\n",
    "- Ask for seconds (integer)\n",
    "\n",
    "- Convert to minutes+seconds (e.g., 125 → \"2m 5s\")\n",
    "\n",
    "    - Only show minutes if ≥60 seconds\n",
    "\n",
    "    - Only show seconds if <60"
   ]
  },
  {
   "cell_type": "code",
   "execution_count": 15,
   "id": "85a35d7a-9bad-4c76-a8e1-4c8d1350bde4",
   "metadata": {},
   "outputs": [
    {
     "name": "stdin",
     "output_type": "stream",
     "text": [
      "Enter time in seconds:  120\n"
     ]
    },
    {
     "name": "stdout",
     "output_type": "stream",
     "text": [
      "2m 0s\n"
     ]
    }
   ],
   "source": [
    "seconds = int(input(\"Enter time in seconds: \"))\n",
    "if seconds >= 60:\n",
    "    minutes = seconds // 60   \n",
    "    remaining_seconds = seconds % 60  \n",
    "    print(f\"{minutes}m {remaining_seconds}s\")\n",
    "else:\n",
    "    print(f\"{seconds}s\")"
   ]
  },
  {
   "cell_type": "markdown",
   "id": "b2be1417-ccab-45df-8e5f-bc665927a347",
   "metadata": {},
   "source": [
    "**Exercise 9: Discount Tier**\n",
    "\n",
    "\n",
    "- Ask for purchase_amount\n",
    "\n",
    "- Apply discounts:\n",
    "\n",
    "    - 5% if ≥100, 10% if ≥500, 15% if ≥1000\n",
    "\n",
    "    - Print final price.\n",
    "\n"
   ]
  },
  {
   "cell_type": "code",
   "execution_count": 24,
   "id": "96a8f68c-5d03-4449-bc68-428093fc9ae4",
   "metadata": {},
   "outputs": [
    {
     "name": "stdin",
     "output_type": "stream",
     "text": [
      "Enter your purchase amount:  1000\n"
     ]
    },
    {
     "name": "stdout",
     "output_type": "stream",
     "text": [
      "Final price after discount is:\n"
     ]
    },
    {
     "data": {
      "text/plain": [
       "(None, 850.0)"
      ]
     },
     "execution_count": 24,
     "metadata": {},
     "output_type": "execute_result"
    }
   ],
   "source": [
    "purchase_amount = float(input(\"Enter your purchase amount: \"))\n",
    "if purchase_amount >= 1000:\n",
    "    discount = 0.15\n",
    "elif purchase_amount >= 500:\n",
    "    discount = 0.10\n",
    "elif purchase_amount >= 100:\n",
    "    discount = 0.05\n",
    "else:\n",
    "    discount = 0\n",
    "final_price = purchase_amount - (purchase_amount * discount)\n",
    "print(\"Final price after discount is:\"), final_price\n"
   ]
  },
  {
   "cell_type": "code",
   "execution_count": null,
   "id": "bec6748c-865a-4eef-adba-42a63a7f3401",
   "metadata": {},
   "outputs": [],
   "source": []
  },
  {
   "cell_type": "code",
   "execution_count": null,
   "id": "a8f64905-2b68-4adf-bce0-0450d9b9c2cc",
   "metadata": {},
   "outputs": [],
   "source": []
  }
 ],
 "metadata": {
  "kernelspec": {
   "display_name": "Python [conda env:base] *",
   "language": "python",
   "name": "conda-base-py"
  },
  "language_info": {
   "codemirror_mode": {
    "name": "ipython",
    "version": 3
   },
   "file_extension": ".py",
   "mimetype": "text/x-python",
   "name": "python",
   "nbconvert_exporter": "python",
   "pygments_lexer": "ipython3",
   "version": "3.13.5"
  }
 },
 "nbformat": 4,
 "nbformat_minor": 5
}
