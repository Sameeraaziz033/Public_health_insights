{
 "cells": [
  {
   "cell_type": "markdown",
   "id": "dfddbd3c",
   "metadata": {},
   "source": [
    "# Python Loop Exercises \n",
    "\n",
    "Objective: Practice working with strings and lists in Python.\n",
    "\n",
    "This exercise was prepared by Ali El-kassas"
   ]
  },
  {
   "cell_type": "markdown",
   "id": "847d0e7c",
   "metadata": {},
   "source": [
    "## Print Even Numbers from 0 to 100 with while loop"
   ]
  },
  {
   "cell_type": "code",
   "execution_count": 1,
   "id": "9aa54818",
   "metadata": {},
   "outputs": [
    {
     "name": "stdout",
     "output_type": "stream",
     "text": [
      "0\n",
      "2\n",
      "4\n",
      "6\n",
      "8\n",
      "10\n",
      "12\n",
      "14\n",
      "16\n",
      "18\n",
      "20\n",
      "22\n",
      "24\n",
      "26\n",
      "28\n",
      "30\n",
      "32\n",
      "34\n",
      "36\n",
      "38\n",
      "40\n",
      "42\n",
      "44\n",
      "46\n",
      "48\n",
      "50\n",
      "52\n",
      "54\n",
      "56\n",
      "58\n",
      "60\n",
      "62\n",
      "64\n",
      "66\n",
      "68\n",
      "70\n",
      "72\n",
      "74\n",
      "76\n",
      "78\n",
      "80\n",
      "82\n",
      "84\n",
      "86\n",
      "88\n",
      "90\n",
      "92\n",
      "94\n",
      "96\n",
      "98\n",
      "100\n"
     ]
    }
   ],
   "source": [
    "number = 0\n",
    "\n",
    "while number <= 100:\n",
    "    if number % 2 == 0:\n",
    "        print(number)\n",
    "    number += 1"
   ]
  },
  {
   "cell_type": "markdown",
   "id": "d5157ba3",
   "metadata": {},
   "source": [
    "## Countdown from 10 to 1"
   ]
  },
  {
   "cell_type": "code",
   "execution_count": 2,
   "id": "d2e6ecca",
   "metadata": {},
   "outputs": [
    {
     "name": "stdout",
     "output_type": "stream",
     "text": [
      "10\n",
      "9\n",
      "8\n",
      "7\n",
      "6\n",
      "5\n",
      "4\n",
      "3\n",
      "2\n",
      "1\n"
     ]
    }
   ],
   "source": [
    "for i in range(10, 0, -1):\n",
    "    print(i)"
   ]
  },
  {
   "cell_type": "markdown",
   "id": "73f482a0",
   "metadata": {},
   "source": [
    "## Password Checker\n",
    "Store a correct password (e.g., \"P\"). Ask the user to enter a password until they get it right."
   ]
  },
  {
   "cell_type": "code",
   "execution_count": 3,
   "id": "8f03c5f3",
   "metadata": {
    "collapsed": true,
    "jupyter": {
     "outputs_hidden": true
    }
   },
   "outputs": [
    {
     "name": "stdin",
     "output_type": "stream",
     "text": [
      "Enter the password:  p\n"
     ]
    },
    {
     "name": "stdout",
     "output_type": "stream",
     "text": [
      "Incorrect password. Try again.\n"
     ]
    },
    {
     "name": "stdin",
     "output_type": "stream",
     "text": [
      "Enter the password:  pas123\n"
     ]
    },
    {
     "name": "stdout",
     "output_type": "stream",
     "text": [
      "Incorrect password. Try again.\n"
     ]
    },
    {
     "name": "stdin",
     "output_type": "stream",
     "text": [
      "Enter the password:  p\n"
     ]
    },
    {
     "name": "stdout",
     "output_type": "stream",
     "text": [
      "Incorrect password. Try again.\n"
     ]
    },
    {
     "name": "stdin",
     "output_type": "stream",
     "text": [
      "Enter the password:  p\n"
     ]
    },
    {
     "name": "stdout",
     "output_type": "stream",
     "text": [
      "Incorrect password. Try again.\n"
     ]
    },
    {
     "name": "stdin",
     "output_type": "stream",
     "text": [
      "Enter the password:  P\n"
     ]
    },
    {
     "name": "stdout",
     "output_type": "stream",
     "text": [
      "Access granted!\n"
     ]
    }
   ],
   "source": [
    "correct_password = \"P\"\n",
    "\n",
    "while True:\n",
    "    entered_password = input(\"Enter the password: \")\n",
    "    if entered_password == correct_password:\n",
    "        print(\"Access granted!\")\n",
    "        break\n",
    "    else:\n",
    "        print(\"Incorrect password. Try again.\")"
   ]
  },
  {
   "cell_type": "markdown",
   "id": "37fb4394",
   "metadata": {},
   "source": [
    "## Ask for numbers until total is 50 or more"
   ]
  },
  {
   "cell_type": "code",
   "execution_count": 10,
   "id": "67ce8cb5",
   "metadata": {},
   "outputs": [
    {
     "name": "stdin",
     "output_type": "stream",
     "text": [
      "Enter a number:  10\n",
      "Enter a number:  15\n",
      "Enter a number:  25\n"
     ]
    },
    {
     "name": "stdout",
     "output_type": "stream",
     "text": [
      "Total is now: 50\n"
     ]
    }
   ],
   "source": [
    "total = 0\n",
    "\n",
    "while total < 50:\n",
    "    number = int(input(\"Enter a number: \"))\n",
    "    total += number\n",
    "\n",
    "print(\"Total is now:\", total)"
   ]
  },
  {
   "cell_type": "markdown",
   "id": "d8c4cc44",
   "metadata": {},
   "source": [
    "## Ask for age until a valid (positive) number is entered"
   ]
  },
  {
   "cell_type": "code",
   "execution_count": 12,
   "id": "446e45dc",
   "metadata": {},
   "outputs": [
    {
     "name": "stdin",
     "output_type": "stream",
     "text": [
      "Enter your age:  -4\n"
     ]
    },
    {
     "name": "stdout",
     "output_type": "stream",
     "text": [
      "Please enter a valid (positive) number.\n"
     ]
    },
    {
     "name": "stdin",
     "output_type": "stream",
     "text": [
      "Enter your age:  1\n"
     ]
    },
    {
     "name": "stdout",
     "output_type": "stream",
     "text": [
      "Your age is: 1\n"
     ]
    }
   ],
   "source": [
    "while True:\n",
    "    age = int(input(\"Enter your age: \"))\n",
    "    if age > 0:\n",
    "        break\n",
    "    else:\n",
    "        print(\"Please enter a valid (positive) number.\")\n",
    "\n",
    "print(\"Your age is:\", age)"
   ]
  },
  {
   "cell_type": "markdown",
   "id": "ab35aaf1",
   "metadata": {},
   "source": [
    "## Guess the secret word"
   ]
  },
  {
   "cell_type": "code",
   "execution_count": null,
   "id": "aca1a803",
   "metadata": {},
   "outputs": [],
   "source": [
    "secret = \"banana\"\n",
    "\n",
    "while True:\n",
    "    guess = input(\"Guess the secret word: \")\n",
    "    if guess == secret_word:\n",
    "        print(\"Correct! You guessed the secret word.\")\n",
    "        break\n",
    "    else:\n",
    "        print(\"Wrong guess. Try again\")"
   ]
  },
  {
   "cell_type": "markdown",
   "id": "fcba5acf",
   "metadata": {},
   "source": [
    "## Print even numbers from 2 to 20"
   ]
  },
  {
   "cell_type": "code",
   "execution_count": 4,
   "id": "ff51cc11",
   "metadata": {},
   "outputs": [
    {
     "name": "stdout",
     "output_type": "stream",
     "text": [
      "2\n",
      "4\n",
      "6\n",
      "8\n",
      "10\n",
      "12\n",
      "14\n",
      "16\n",
      "18\n",
      "20\n"
     ]
    }
   ],
   "source": [
    "i = 2\n",
    "while i <= 20:\n",
    "    print(i)\n",
    "    i += 2"
   ]
  },
  {
   "cell_type": "markdown",
   "id": "63b2e15b",
   "metadata": {},
   "source": [
    "## Ask for names until the user types 'done'"
   ]
  },
  {
   "cell_type": "code",
   "execution_count": null,
   "id": "640fabe6",
   "metadata": {},
   "outputs": [],
   "source": []
  },
  {
   "cell_type": "code",
   "execution_count": 5,
   "id": "891c290e",
   "metadata": {
    "scrolled": true
   },
   "outputs": [
    {
     "name": "stdout",
     "output_type": "stream",
     "text": [
      "3\n",
      "6\n",
      "9\n",
      "12\n",
      "15\n",
      "18\n"
     ]
    }
   ],
   "source": []
  },
  {
   "cell_type": "markdown",
   "id": "12e5ccb6",
   "metadata": {},
   "source": [
    "## Repeat your name 4 times"
   ]
  },
  {
   "cell_type": "code",
   "execution_count": 7,
   "id": "1bedf97b",
   "metadata": {},
   "outputs": [
    {
     "name": "stdin",
     "output_type": "stream",
     "text": [
      "Enter your name:  Sameera\n"
     ]
    },
    {
     "name": "stdout",
     "output_type": "stream",
     "text": [
      "Sameera\n",
      "Sameera\n",
      "Sameera\n",
      "Sameera\n"
     ]
    }
   ],
   "source": [
    "name = input(\"Enter your name: \")\n",
    "\n",
    "for i in range(4):\n",
    "    print(name)\n",
    "  "
   ]
  },
  {
   "cell_type": "markdown",
   "id": "1479ae01",
   "metadata": {},
   "source": [
    "## Sum numbers from 1 to N (user input)\n",
    "\n",
    "Input: 3\n",
    "Output: 6 which is (1+2+3)"
   ]
  },
  {
   "cell_type": "code",
   "execution_count": 8,
   "id": "8b0c4f0f",
   "metadata": {},
   "outputs": [
    {
     "name": "stdin",
     "output_type": "stream",
     "text": [
      "Enter a number:  3\n"
     ]
    },
    {
     "name": "stdout",
     "output_type": "stream",
     "text": [
      "The sum is: 6\n"
     ]
    }
   ],
   "source": [
    "n = int(input(\"Enter a number: \"))\n",
    "total = 0\n",
    "\n",
    "for i in range(1, n + 1):\n",
    "    total += i\n",
    "\n",
    "print(\"The sum is:\", total)"
   ]
  },
  {
   "cell_type": "markdown",
   "id": "da3ee42c-08d0-482a-a53c-84a956250e2b",
   "metadata": {},
   "source": [
    "## Login Simulation with Maximum 3 Attempts\n",
    "The user must enter the correct password. They only have 3 chances.\n",
    "- If the password is correct, show a success message.\n",
    "- If they fail all 3 attempts, show an error message."
   ]
  },
  {
   "cell_type": "code",
   "execution_count": null,
   "id": "7e2889ce-5f43-433d-b9c0-b1ac9cf0de35",
   "metadata": {},
   "outputs": [],
   "source": [
    "correct_username = \"user\"\n",
    "correct_password = \"pasword123\"\n",
    " while"
   ]
  },
  {
   "cell_type": "markdown",
   "id": "a13df5e0-7eec-4907-8d7a-17bfa4bb117a",
   "metadata": {},
   "source": [
    "### ATM Simulation\n",
    "\n",
    "Create a simple Python program that simulates an ATM. The program should:\n",
    "- Ask the user how much money they want to withdraw.\n",
    "- Print a confirmation message showing the amount withdrawn.\n",
    "- After each withdrawal, ask the user whether they want to:\n",
    "    - Withdraw more money\n",
    "    - Exit the ATM\n",
    "Your program must use a while loop and include both break and continue statements appropriately.\n",
    "\n",
    "```\n",
    "Example:\n",
    "\n",
    "Welcome to the ATM!\n",
    "\n",
    "How much would you like to withdraw? 100\n",
    "You have withdrawn $100.\n",
    "\n",
    "Do you need another service? (yes/no): yes\n",
    "\n",
    "How much would you like to withdraw? 250\n",
    "You have withdrawn $250.\n",
    "\n",
    "Do you need another service? (yes/no): no\n",
    "Thank you for using the ATM. Goodbye!\n",
    "```"
   ]
  },
  {
   "cell_type": "code",
   "execution_count": null,
   "id": "16c81f84-ce93-43be-a532-16a99dd4ac45",
   "metadata": {},
   "outputs": [],
   "source": []
  }
 ],
 "metadata": {
  "kernelspec": {
   "display_name": "Python [conda env:base] *",
   "language": "python",
   "name": "conda-base-py"
  },
  "language_info": {
   "codemirror_mode": {
    "name": "ipython",
    "version": 3
   },
   "file_extension": ".py",
   "mimetype": "text/x-python",
   "name": "python",
   "nbconvert_exporter": "python",
   "pygments_lexer": "ipython3",
   "version": "3.13.5"
  }
 },
 "nbformat": 4,
 "nbformat_minor": 5
}
