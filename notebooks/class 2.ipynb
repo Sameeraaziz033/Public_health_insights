{
 "cells": [
  {
   "cell_type": "markdown",
   "id": "a24192bc-9d94-482b-96c0-4411925d2d1a",
   "metadata": {},
   "source": [
    "# Variables"
   ]
  },
  {
   "cell_type": "markdown",
   "id": "044fef5f-6884-400d-9990-d9cc54cc7d86",
   "metadata": {},
   "source": [
    "## First program"
   ]
  },
  {
   "cell_type": "code",
   "execution_count": 1,
   "id": "4ae3610d-e2b3-4247-9d2e-2057c1027d45",
   "metadata": {},
   "outputs": [
    {
     "name": "stdout",
     "output_type": "stream",
     "text": [
      "Hello world\n"
     ]
    }
   ],
   "source": [
    "print(\"Hello world\")"
   ]
  },
  {
   "cell_type": "code",
   "execution_count": 6,
   "id": "f41b9295-f3bc-490c-9f5a-7a9ace1ce8c5",
   "metadata": {},
   "outputs": [
    {
     "ename": "SyntaxError",
     "evalue": "incomplete input (1028029194.py, line 1)",
     "output_type": "error",
     "traceback": [
      "\u001b[1;36m  Cell \u001b[1;32mIn[6], line 1\u001b[1;36m\u001b[0m\n\u001b[1;33m    print(\"hello world\"\u001b[0m\n\u001b[1;37m                       ^\u001b[0m\n\u001b[1;31mSyntaxError\u001b[0m\u001b[1;31m:\u001b[0m incomplete input\n"
     ]
    }
   ],
   "source": [
    "print(\"hello world\""
   ]
  },
  {
   "cell_type": "code",
   "execution_count": null,
   "id": "cc15a28b-4d70-48af-9516-ad2976a332d0",
   "metadata": {},
   "outputs": [],
   "source": []
  },
  {
   "cell_type": "code",
   "execution_count": 7,
   "id": "9d27b6ad-5efa-4a0b-9f00-2ded2d171de1",
   "metadata": {
    "scrolled": true
   },
   "outputs": [
    {
     "ename": "SyntaxError",
     "evalue": "invalid syntax. Perhaps you forgot a comma? (2497053111.py, line 1)",
     "output_type": "error",
     "traceback": [
      "\u001b[1;36m  Cell \u001b[1;32mIn[7], line 1\u001b[1;36m\u001b[0m\n\u001b[1;33m    print(hello world)\u001b[0m\n\u001b[1;37m          ^\u001b[0m\n\u001b[1;31mSyntaxError\u001b[0m\u001b[1;31m:\u001b[0m invalid syntax. Perhaps you forgot a comma?\n"
     ]
    }
   ],
   "source": [
    "print(hello world)"
   ]
  },
  {
   "cell_type": "code",
   "execution_count": 5,
   "id": "ae856b68-8ced-466b-9a63-2d31370cff34",
   "metadata": {},
   "outputs": [
    {
     "ename": "NameError",
     "evalue": "name 'PRINT' is not defined",
     "output_type": "error",
     "traceback": [
      "\u001b[1;31m---------------------------------------------------------------------------\u001b[0m",
      "\u001b[1;31mNameError\u001b[0m                                 Traceback (most recent call last)",
      "Cell \u001b[1;32mIn[5], line 1\u001b[0m\n\u001b[1;32m----> 1\u001b[0m \u001b[43mPRINT\u001b[49m(\u001b[38;5;124m\"\u001b[39m\u001b[38;5;124mHello world\u001b[39m\u001b[38;5;124m\"\u001b[39m)\n",
      "\u001b[1;31mNameError\u001b[0m: name 'PRINT' is not defined"
     ]
    }
   ],
   "source": [
    "PRINT(\"Hello world\")"
   ]
  },
  {
   "cell_type": "code",
   "execution_count": 4,
   "id": "cfb49724-6ef5-4bed-b593-125cf876d075",
   "metadata": {},
   "outputs": [
    {
     "ename": "NameError",
     "evalue": "name 'Print' is not defined",
     "output_type": "error",
     "traceback": [
      "\u001b[1;31m---------------------------------------------------------------------------\u001b[0m",
      "\u001b[1;31mNameError\u001b[0m                                 Traceback (most recent call last)",
      "Cell \u001b[1;32mIn[4], line 1\u001b[0m\n\u001b[1;32m----> 1\u001b[0m \u001b[43mPrint\u001b[49m(\u001b[38;5;124m\"\u001b[39m\u001b[38;5;124mHello world\u001b[39m\u001b[38;5;124m\"\u001b[39m)\n",
      "\u001b[1;31mNameError\u001b[0m: name 'Print' is not defined"
     ]
    }
   ],
   "source": [
    "Print(\"Hello world\")"
   ]
  },
  {
   "cell_type": "code",
   "execution_count": 3,
   "id": "cd847f9f-f5cc-42fd-9de0-d83e43a582f2",
   "metadata": {},
   "outputs": [
    {
     "ename": "NameError",
     "evalue": "name 'show' is not defined",
     "output_type": "error",
     "traceback": [
      "\u001b[1;31m---------------------------------------------------------------------------\u001b[0m",
      "\u001b[1;31mNameError\u001b[0m                                 Traceback (most recent call last)",
      "Cell \u001b[1;32mIn[3], line 1\u001b[0m\n\u001b[1;32m----> 1\u001b[0m \u001b[43mshow\u001b[49m(\u001b[38;5;124m\"\u001b[39m\u001b[38;5;124mhello world\u001b[39m\u001b[38;5;124m\"\u001b[39m)\n",
      "\u001b[1;31mNameError\u001b[0m: name 'show' is not defined"
     ]
    }
   ],
   "source": [
    "show(\"hello world\")"
   ]
  },
  {
   "cell_type": "markdown",
   "id": "1f84c54e-1a68-43f5-8b4a-0cafe7b49214",
   "metadata": {},
   "source": [
    "## Values"
   ]
  },
  {
   "cell_type": "code",
   "execution_count": 8,
   "id": "4c56e256-cfe0-456d-a816-76c3037f4371",
   "metadata": {},
   "outputs": [
    {
     "name": "stdout",
     "output_type": "stream",
     "text": [
      "9\n"
     ]
    }
   ],
   "source": [
    "print(9)"
   ]
  },
  {
   "cell_type": "code",
   "execution_count": 11,
   "id": "f31f82ee-c197-46f3-8f0a-df11992a8ec0",
   "metadata": {},
   "outputs": [
    {
     "data": {
      "text/plain": [
       "int"
      ]
     },
     "execution_count": 11,
     "metadata": {},
     "output_type": "execute_result"
    }
   ],
   "source": [
    "type(9)"
   ]
  },
  {
   "cell_type": "code",
   "execution_count": 12,
   "id": "cc23c2cb-fed7-459a-a782-da89fe0b183e",
   "metadata": {},
   "outputs": [
    {
     "name": "stdout",
     "output_type": "stream",
     "text": [
      "text\n"
     ]
    }
   ],
   "source": [
    "print('text')"
   ]
  },
  {
   "cell_type": "code",
   "execution_count": 13,
   "id": "40b34572-b1c9-453e-9967-a7407c393202",
   "metadata": {},
   "outputs": [
    {
     "data": {
      "text/plain": [
       "str"
      ]
     },
     "execution_count": 13,
     "metadata": {},
     "output_type": "execute_result"
    }
   ],
   "source": [
    "type(\"text\")"
   ]
  },
  {
   "cell_type": "code",
   "execution_count": 18,
   "id": "fd4f9183-c8af-4da2-97ed-6bcb28ba90ce",
   "metadata": {},
   "outputs": [
    {
     "data": {
      "text/plain": [
       "str"
      ]
     },
     "execution_count": 18,
     "metadata": {},
     "output_type": "execute_result"
    }
   ],
   "source": [
    "type('9')"
   ]
  },
  {
   "cell_type": "code",
   "execution_count": 15,
   "id": "e14d7c83-4d05-472d-8618-4b006267289f",
   "metadata": {},
   "outputs": [
    {
     "name": "stdout",
     "output_type": "stream",
     "text": [
      "12.34\n"
     ]
    }
   ],
   "source": [
    "print(12.34)"
   ]
  },
  {
   "cell_type": "code",
   "execution_count": 16,
   "id": "08ca0c72-2ade-45b6-be7a-ce63fb5fb3b7",
   "metadata": {},
   "outputs": [
    {
     "data": {
      "text/plain": [
       "float"
      ]
     },
     "execution_count": 16,
     "metadata": {},
     "output_type": "execute_result"
    }
   ],
   "source": [
    "type(12.34)"
   ]
  },
  {
   "cell_type": "code",
   "execution_count": 17,
   "id": "b42cae08-a191-4375-ac53-43d9e1ca39a4",
   "metadata": {},
   "outputs": [
    {
     "data": {
      "text/plain": [
       "float"
      ]
     },
     "execution_count": 17,
     "metadata": {},
     "output_type": "execute_result"
    }
   ],
   "source": [
    "type(12.0)"
   ]
  },
  {
   "cell_type": "code",
   "execution_count": 14,
   "id": "1922cc22-58ad-4258-b08c-d3eeb3502a4e",
   "metadata": {},
   "outputs": [
    {
     "ename": "NameError",
     "evalue": "name 'Type' is not defined",
     "output_type": "error",
     "traceback": [
      "\u001b[1;31m---------------------------------------------------------------------------\u001b[0m",
      "\u001b[1;31mNameError\u001b[0m                                 Traceback (most recent call last)",
      "Cell \u001b[1;32mIn[14], line 1\u001b[0m\n\u001b[1;32m----> 1\u001b[0m \u001b[43mType\u001b[49m(\u001b[38;5;124m\"\u001b[39m\u001b[38;5;124mjhhjvc\u001b[39m\u001b[38;5;124m\"\u001b[39m)\n",
      "\u001b[1;31mNameError\u001b[0m: name 'Type' is not defined"
     ]
    }
   ],
   "source": [
    "Type(\"jhhjvc\")"
   ]
  },
  {
   "cell_type": "code",
   "execution_count": 19,
   "id": "c75f4759-1b31-4b1f-b041-6b335f24ad3e",
   "metadata": {},
   "outputs": [
    {
     "data": {
      "text/plain": [
       "100"
      ]
     },
     "execution_count": 19,
     "metadata": {},
     "output_type": "execute_result"
    }
   ],
   "source": [
    "10 * 10"
   ]
  },
  {
   "cell_type": "code",
   "execution_count": 20,
   "id": "ab6adac7-a2ae-4c9e-b23b-ec853cafbb32",
   "metadata": {},
   "outputs": [
    {
     "data": {
      "text/plain": [
       "25"
      ]
     },
     "execution_count": 20,
     "metadata": {},
     "output_type": "execute_result"
    }
   ],
   "source": [
    "5 + 20"
   ]
  },
  {
   "cell_type": "code",
   "execution_count": 21,
   "id": "e5b88944-544f-4a83-aa35-acdf531b07af",
   "metadata": {},
   "outputs": [
    {
     "data": {
      "text/plain": [
       "52"
      ]
     },
     "execution_count": 21,
     "metadata": {},
     "output_type": "execute_result"
    }
   ],
   "source": [
    "100 - 50 + 2"
   ]
  },
  {
   "cell_type": "markdown",
   "id": "d4ce410a-9d57-482f-84ed-7066366e1a6b",
   "metadata": {},
   "source": [
    "## Variables"
   ]
  },
  {
   "cell_type": "code",
   "execution_count": 22,
   "id": "9b8b4191-13f8-45bb-81fb-3028f67832f2",
   "metadata": {},
   "outputs": [
    {
     "name": "stdout",
     "output_type": "stream",
     "text": [
      "Mohamed\n"
     ]
    }
   ],
   "source": [
    "name = \"Mohamed\"\n",
    "\n",
    "print(name)"
   ]
  },
  {
   "cell_type": "markdown",
   "id": "3aeb7db9-9d4d-45da-9f86-1e3f8d13ba48",
   "metadata": {},
   "source": [
    "print 'name' litraly"
   ]
  },
  {
   "cell_type": "code",
   "execution_count": 24,
   "id": "f8b30d31-03cb-42c9-b946-be5178a18733",
   "metadata": {},
   "outputs": [
    {
     "name": "stdout",
     "output_type": "stream",
     "text": [
      "name\n"
     ]
    }
   ],
   "source": [
    "print(\"name\")"
   ]
  },
  {
   "cell_type": "code",
   "execution_count": 25,
   "id": "4d2dcbd5-0562-47b8-b4fb-af59ffad82a2",
   "metadata": {},
   "outputs": [
    {
     "ename": "NameError",
     "evalue": "name 'first_name' is not defined",
     "output_type": "error",
     "traceback": [
      "\u001b[1;31m---------------------------------------------------------------------------\u001b[0m",
      "\u001b[1;31mNameError\u001b[0m                                 Traceback (most recent call last)",
      "Cell \u001b[1;32mIn[25], line 1\u001b[0m\n\u001b[1;32m----> 1\u001b[0m \u001b[38;5;28mprint\u001b[39m(\u001b[43mfirst_name\u001b[49m)\n",
      "\u001b[1;31mNameError\u001b[0m: name 'first_name' is not defined"
     ]
    }
   ],
   "source": [
    "print(first_name)"
   ]
  },
  {
   "cell_type": "code",
   "execution_count": 27,
   "id": "70e31cbe-7bf7-40fc-a050-ce79edd59d41",
   "metadata": {},
   "outputs": [
    {
     "ename": "NameError",
     "evalue": "name 'first_name' is not defined",
     "output_type": "error",
     "traceback": [
      "\u001b[1;31m---------------------------------------------------------------------------\u001b[0m",
      "\u001b[1;31mNameError\u001b[0m                                 Traceback (most recent call last)",
      "Cell \u001b[1;32mIn[27], line 1\u001b[0m\n\u001b[1;32m----> 1\u001b[0m \u001b[38;5;28mprint\u001b[39m(\u001b[43mfirst_name\u001b[49m)\n\u001b[0;32m      2\u001b[0m first_name \u001b[38;5;241m=\u001b[39m \u001b[38;5;124m\"\u001b[39m\u001b[38;5;124mRawan\u001b[39m\u001b[38;5;124m\"\u001b[39m\n",
      "\u001b[1;31mNameError\u001b[0m: name 'first_name' is not defined"
     ]
    }
   ],
   "source": [
    "print(first_name)\n",
    "first_name = \"Rawan\""
   ]
  },
  {
   "cell_type": "code",
   "execution_count": 28,
   "id": "dcc42ba5-c970-42b1-806c-8d069e5eef19",
   "metadata": {},
   "outputs": [
    {
     "name": "stdout",
     "output_type": "stream",
     "text": [
      "Rawan\n"
     ]
    }
   ],
   "source": [
    "first_name = \"Rawan\"\n",
    "print(first_name)"
   ]
  },
  {
   "cell_type": "code",
   "execution_count": 29,
   "id": "b21f0297-d71c-4373-a421-40fa2848dd48",
   "metadata": {},
   "outputs": [
    {
     "name": "stdout",
     "output_type": "stream",
     "text": [
      "100\n"
     ]
    }
   ],
   "source": [
    "first_name = 100\n",
    "print(first_name)"
   ]
  },
  {
   "cell_type": "code",
   "execution_count": 33,
   "id": "d0572ce1-e501-4c92-b196-e4dfdcfd7ad7",
   "metadata": {},
   "outputs": [
    {
     "name": "stdout",
     "output_type": "stream",
     "text": [
      "Rawan Jalel\n"
     ]
    }
   ],
   "source": [
    "first_name = \"Rawan\"\n",
    "last_name = \"Jalel\"\n",
    "print(first_name, last_name)"
   ]
  },
  {
   "cell_type": "code",
   "execution_count": 37,
   "id": "65670e80-7b9d-4b6a-b57c-b0730daa05f9",
   "metadata": {},
   "outputs": [
    {
     "name": "stdout",
     "output_type": "stream",
     "text": [
      "1000000\n"
     ]
    }
   ],
   "source": [
    "print(1000000)"
   ]
  },
  {
   "cell_type": "code",
   "execution_count": 36,
   "id": "9682aa3d-3fba-40fb-aeac-4158bd06117c",
   "metadata": {},
   "outputs": [
    {
     "name": "stdout",
     "output_type": "stream",
     "text": [
      "1 0 0\n"
     ]
    }
   ],
   "source": [
    "print(1,000,000)"
   ]
  },
  {
   "cell_type": "code",
   "execution_count": 34,
   "id": "544a459e-b637-4d83-bfb9-44359123fce1",
   "metadata": {},
   "outputs": [
    {
     "data": {
      "text/plain": [
       "str"
      ]
     },
     "execution_count": 34,
     "metadata": {},
     "output_type": "execute_result"
    }
   ],
   "source": [
    "type(first_name)"
   ]
  },
  {
   "cell_type": "code",
   "execution_count": 35,
   "id": "ff84acb1-0166-4666-8077-9309869c2824",
   "metadata": {},
   "outputs": [
    {
     "data": {
      "text/plain": [
       "int"
      ]
     },
     "execution_count": 35,
     "metadata": {},
     "output_type": "execute_result"
    }
   ],
   "source": [
    "age = 30\n",
    "\n",
    "type(age)"
   ]
  },
  {
   "cell_type": "code",
   "execution_count": 53,
   "id": "22ba2872-f551-41cb-a9e1-480710f42752",
   "metadata": {},
   "outputs": [],
   "source": [
    "first_name = \"Rawan2000\""
   ]
  },
  {
   "cell_type": "code",
   "execution_count": 39,
   "id": "15b57390-f042-4dae-be7c-b94cd62c3127",
   "metadata": {},
   "outputs": [],
   "source": [
    "last_name = \"Jalel\""
   ]
  },
  {
   "cell_type": "code",
   "execution_count": 54,
   "id": "4bcd882d-8849-4e50-8452-af483f98dd2a",
   "metadata": {},
   "outputs": [
    {
     "name": "stdout",
     "output_type": "stream",
     "text": [
      "Rawan2000 Jalel\n"
     ]
    }
   ],
   "source": [
    "print(first_name, last_name)"
   ]
  },
  {
   "cell_type": "markdown",
   "id": "fe17edf7-5b7f-46e7-8c8c-a506d761b50d",
   "metadata": {},
   "source": [
    "## Variable names"
   ]
  },
  {
   "cell_type": "markdown",
   "id": "dc2f44df-f962-45be-b1ce-5fd7ee187060",
   "metadata": {},
   "source": [
    "- AZaz09 (usually we use lower case)\n",
    "- arabic(not recommended)\n",
    "- Can't start with numbers\n",
    "- Can't have spaces\n",
    "- Only symple that we can use is _ (underscore)\n",
    "- Don't use any python reserved words"
   ]
  },
  {
   "cell_type": "code",
   "execution_count": 41,
   "id": "ced564e9-1049-4b80-aeb6-f937bdb0eb8a",
   "metadata": {},
   "outputs": [
    {
     "ename": "SyntaxError",
     "evalue": "invalid syntax (3524199301.py, line 1)",
     "output_type": "error",
     "traceback": [
      "\u001b[1;36m  Cell \u001b[1;32mIn[41], line 1\u001b[1;36m\u001b[0m\n\u001b[1;33m    first name= \"Hassan\"\u001b[0m\n\u001b[1;37m          ^\u001b[0m\n\u001b[1;31mSyntaxError\u001b[0m\u001b[1;31m:\u001b[0m invalid syntax\n"
     ]
    }
   ],
   "source": [
    "first name= \"Hassan\""
   ]
  },
  {
   "cell_type": "code",
   "execution_count": 42,
   "id": "89098d01-2793-4aaa-9988-f488ee1b4747",
   "metadata": {},
   "outputs": [],
   "source": [
    "first_name = \"Hassan\"\n",
    "firstName  = \"Hassan\""
   ]
  },
  {
   "cell_type": "code",
   "execution_count": 43,
   "id": "06a74e12-2f4c-4c3b-a12a-c81cb46b2f64",
   "metadata": {},
   "outputs": [
    {
     "ename": "SyntaxError",
     "evalue": "invalid decimal literal (2217777362.py, line 1)",
     "output_type": "error",
     "traceback": [
      "\u001b[1;36m  Cell \u001b[1;32mIn[43], line 1\u001b[1;36m\u001b[0m\n\u001b[1;33m    1name = \"mona\"\u001b[0m\n\u001b[1;37m    ^\u001b[0m\n\u001b[1;31mSyntaxError\u001b[0m\u001b[1;31m:\u001b[0m invalid decimal literal\n"
     ]
    }
   ],
   "source": [
    "1name = \"mona\""
   ]
  },
  {
   "cell_type": "code",
   "execution_count": 44,
   "id": "8bfbae0c-2c43-413f-9566-e0fb72404ede",
   "metadata": {},
   "outputs": [],
   "source": [
    "name1 = \"mona\""
   ]
  },
  {
   "cell_type": "code",
   "execution_count": 45,
   "id": "5d8261cc-a6ac-4457-9850-13220ca7baee",
   "metadata": {},
   "outputs": [
    {
     "ename": "SyntaxError",
     "evalue": "invalid syntax (656577203.py, line 1)",
     "output_type": "error",
     "traceback": [
      "\u001b[1;36m  Cell \u001b[1;32mIn[45], line 1\u001b[1;36m\u001b[0m\n\u001b[1;33m    for = \"hjtgfhvj\"\u001b[0m\n\u001b[1;37m        ^\u001b[0m\n\u001b[1;31mSyntaxError\u001b[0m\u001b[1;31m:\u001b[0m invalid syntax\n"
     ]
    }
   ],
   "source": [
    "for = \"hjtgfhvj\""
   ]
  },
  {
   "cell_type": "code",
   "execution_count": 46,
   "id": "e3603b4d-5638-4617-a33d-436368fcb5c0",
   "metadata": {},
   "outputs": [
    {
     "ename": "SyntaxError",
     "evalue": "invalid syntax (1927611958.py, line 1)",
     "output_type": "error",
     "traceback": [
      "\u001b[1;36m  Cell \u001b[1;32mIn[46], line 1\u001b[1;36m\u001b[0m\n\u001b[1;33m    class = \"jghd\"\u001b[0m\n\u001b[1;37m          ^\u001b[0m\n\u001b[1;31mSyntaxError\u001b[0m\u001b[1;31m:\u001b[0m invalid syntax\n"
     ]
    }
   ],
   "source": [
    "class = \"jghd\""
   ]
  },
  {
   "cell_type": "markdown",
   "id": "8291dce4-126b-4df8-8d88-996750ea5038",
   "metadata": {},
   "source": [
    "Not recommended to use capital letter"
   ]
  },
  {
   "cell_type": "code",
   "execution_count": 49,
   "id": "9f38416a-14a8-4d0e-950b-0b0dade6e976",
   "metadata": {},
   "outputs": [],
   "source": [
    "AGE = 20"
   ]
  },
  {
   "cell_type": "code",
   "execution_count": 48,
   "id": "9f5d2933-c91d-462c-b1e5-dc4859b7623f",
   "metadata": {},
   "outputs": [],
   "source": [
    "age = 20"
   ]
  },
  {
   "cell_type": "markdown",
   "id": "836539a0-8533-45d7-a6a0-763b245ba9f9",
   "metadata": {},
   "source": [
    "## Statements"
   ]
  },
  {
   "cell_type": "markdown",
   "id": "0758a800-bf53-42c8-8859-5a8295da54f1",
   "metadata": {},
   "source": [
    "print statement"
   ]
  },
  {
   "cell_type": "code",
   "execution_count": 55,
   "id": "46b6b20f-59d0-4d22-beb1-59020faf28f7",
   "metadata": {},
   "outputs": [
    {
     "name": "stdout",
     "output_type": "stream",
     "text": [
      "Hello world\n"
     ]
    }
   ],
   "source": [
    "print(\"Hello world\")"
   ]
  },
  {
   "cell_type": "markdown",
   "id": "f8c4770a-602c-4ae7-a22a-472cc5966612",
   "metadata": {},
   "source": [
    "assignment statement"
   ]
  },
  {
   "cell_type": "code",
   "execution_count": 58,
   "id": "e58a20b8-48d2-4ac4-83c5-f129473a0b10",
   "metadata": {},
   "outputs": [],
   "source": [
    "x = 5"
   ]
  },
  {
   "cell_type": "code",
   "execution_count": 59,
   "id": "00b44640-efe5-4e61-ba23-7541e75012ec",
   "metadata": {},
   "outputs": [
    {
     "name": "stdout",
     "output_type": "stream",
     "text": [
      "5\n"
     ]
    }
   ],
   "source": [
    "print(x)"
   ]
  },
  {
   "cell_type": "code",
   "execution_count": 60,
   "id": "5b95d75b-ee0e-4e2c-931c-e6ba88af723b",
   "metadata": {},
   "outputs": [
    {
     "name": "stdout",
     "output_type": "stream",
     "text": [
      "hello\n",
      "Mariam\n"
     ]
    }
   ],
   "source": [
    "print(\"hello\")\n",
    "name= \"Mariam\"\n",
    "print(name)"
   ]
  },
  {
   "cell_type": "markdown",
   "id": "63b68e61-0912-4d1e-927a-31ca8f0b5bc8",
   "metadata": {},
   "source": [
    "## Operators and Operands"
   ]
  },
  {
   "cell_type": "code",
   "execution_count": 61,
   "id": "f248c0c5-841f-447a-91bb-6887e50da702",
   "metadata": {},
   "outputs": [
    {
     "data": {
      "text/plain": [
       "10"
      ]
     },
     "execution_count": 61,
     "metadata": {},
     "output_type": "execute_result"
    }
   ],
   "source": [
    "5 + 5"
   ]
  },
  {
   "cell_type": "code",
   "execution_count": 63,
   "id": "5ce49564-6dcc-4998-9b2b-3663f66994da",
   "metadata": {},
   "outputs": [
    {
     "data": {
      "text/plain": [
       "35"
      ]
     },
     "execution_count": 63,
     "metadata": {},
     "output_type": "execute_result"
    }
   ],
   "source": [
    "num1 = 10\n",
    "num2 = 20\n",
    "\n",
    "num1 + num2 + 5"
   ]
  },
  {
   "cell_type": "code",
   "execution_count": 73,
   "id": "1cb504ec-3354-462a-a25f-e0ba2343a75f",
   "metadata": {},
   "outputs": [
    {
     "data": {
      "text/plain": [
       "20"
      ]
     },
     "execution_count": 73,
     "metadata": {},
     "output_type": "execute_result"
    }
   ],
   "source": [
    "10 * 2"
   ]
  },
  {
   "cell_type": "markdown",
   "id": "ee84d241-f0d5-4ccf-8dcf-b9d5c23739a3",
   "metadata": {},
   "source": [
    "float division"
   ]
  },
  {
   "cell_type": "code",
   "execution_count": 64,
   "id": "34ddd71b-ee9a-412a-a644-a619d5de004f",
   "metadata": {},
   "outputs": [
    {
     "data": {
      "text/plain": [
       "2.5"
      ]
     },
     "execution_count": 64,
     "metadata": {},
     "output_type": "execute_result"
    }
   ],
   "source": [
    "5/2"
   ]
  },
  {
   "cell_type": "markdown",
   "id": "dec18080-6223-49df-b379-0bdf5d0f1cfd",
   "metadata": {},
   "source": [
    "Intger division"
   ]
  },
  {
   "cell_type": "code",
   "execution_count": 65,
   "id": "b273455c-a7b4-4b2b-90a0-fc253114b033",
   "metadata": {},
   "outputs": [
    {
     "data": {
      "text/plain": [
       "2"
      ]
     },
     "execution_count": 65,
     "metadata": {},
     "output_type": "execute_result"
    }
   ],
   "source": [
    "5//2"
   ]
  },
  {
   "cell_type": "code",
   "execution_count": 66,
   "id": "75256bc6-8918-4b71-a0fe-efd12438e273",
   "metadata": {},
   "outputs": [
    {
     "data": {
      "text/plain": [
       "2.95"
      ]
     },
     "execution_count": 66,
     "metadata": {},
     "output_type": "execute_result"
    }
   ],
   "source": [
    "5.9/2"
   ]
  },
  {
   "cell_type": "code",
   "execution_count": 67,
   "id": "c3585fcb-7da7-45c7-9ba1-5537903d8c6f",
   "metadata": {},
   "outputs": [
    {
     "data": {
      "text/plain": [
       "2.0"
      ]
     },
     "execution_count": 67,
     "metadata": {},
     "output_type": "execute_result"
    }
   ],
   "source": [
    "5.9//2"
   ]
  },
  {
   "cell_type": "markdown",
   "id": "020a0fd8-03ce-4a65-9ece-000d583eab8f",
   "metadata": {},
   "source": [
    "power"
   ]
  },
  {
   "cell_type": "code",
   "execution_count": 72,
   "id": "fdd3ad3b-604d-44ff-9500-3d06ebb56a36",
   "metadata": {},
   "outputs": [
    {
     "data": {
      "text/plain": [
       "625"
      ]
     },
     "execution_count": 72,
     "metadata": {},
     "output_type": "execute_result"
    }
   ],
   "source": [
    "5 ** 4"
   ]
  },
  {
   "cell_type": "code",
   "execution_count": null,
   "id": "9d203d4b-6524-4102-aeed-4edab6e67659",
   "metadata": {},
   "outputs": [],
   "source": []
  },
  {
   "cell_type": "code",
   "execution_count": 68,
   "id": "dc480691-e651-4ee2-af10-b440d0253f6b",
   "metadata": {},
   "outputs": [
    {
     "data": {
      "text/plain": [
       "2"
      ]
     },
     "execution_count": 68,
     "metadata": {},
     "output_type": "execute_result"
    }
   ],
   "source": [
    "round(1.9)"
   ]
  },
  {
   "cell_type": "markdown",
   "id": "e2deaa3f-9716-4434-9d16-7014529f37a9",
   "metadata": {},
   "source": [
    "## Expressioon"
   ]
  },
  {
   "cell_type": "markdown",
   "id": "9bd971a2-fce6-4c9d-8b52-aedf902092bf",
   "metadata": {},
   "source": [
    "Combination of values, variables, and opreators"
   ]
  },
  {
   "cell_type": "code",
   "execution_count": 75,
   "id": "23a74db6-f730-42ae-86ff-73ae7dcc49bb",
   "metadata": {},
   "outputs": [
    {
     "data": {
      "text/plain": [
       "10"
      ]
     },
     "execution_count": 75,
     "metadata": {},
     "output_type": "execute_result"
    }
   ],
   "source": [
    "num1 "
   ]
  },
  {
   "cell_type": "code",
   "execution_count": 74,
   "id": "3a6316fb-6c75-48ec-9ff0-36834ab5f45b",
   "metadata": {},
   "outputs": [
    {
     "data": {
      "text/plain": [
       "30"
      ]
     },
     "execution_count": 74,
     "metadata": {},
     "output_type": "execute_result"
    }
   ],
   "source": [
    "num1 + 10 * 2"
   ]
  },
  {
   "cell_type": "code",
   "execution_count": null,
   "id": "8410f858-ec65-419c-9ccb-4ed67ced858a",
   "metadata": {},
   "outputs": [],
   "source": []
  },
  {
   "cell_type": "markdown",
   "id": "abab3c32-09e9-4ccb-8673-6be03071ea26",
   "metadata": {},
   "source": [
    "## Order of operations (PEMDAS)"
   ]
  },
  {
   "cell_type": "markdown",
   "id": "8792922b-c02b-4b02-aa31-83cdc246350f",
   "metadata": {},
   "source": [
    "1. Paranthathese\n",
    "2. Power\n",
    "3. Mul and Div\n",
    "4. addition and subtraction"
   ]
  },
  {
   "cell_type": "code",
   "execution_count": 76,
   "id": "01809fc7-a3a4-4308-9671-3ec403df9d5b",
   "metadata": {},
   "outputs": [
    {
     "data": {
      "text/plain": [
       "55"
      ]
     },
     "execution_count": 76,
     "metadata": {},
     "output_type": "execute_result"
    }
   ],
   "source": [
    "10 + (2 + 1)**2 * 5"
   ]
  },
  {
   "cell_type": "code",
   "execution_count": 77,
   "id": "35214d12-621b-45c8-a8ea-088dd82ad141",
   "metadata": {},
   "outputs": [
    {
     "data": {
      "text/plain": [
       "2.0"
      ]
     },
     "execution_count": 77,
     "metadata": {},
     "output_type": "execute_result"
    }
   ],
   "source": [
    "5 / 5 * 2"
   ]
  },
  {
   "cell_type": "code",
   "execution_count": 78,
   "id": "c2de044f-7afc-4a65-8d35-2b6eea81fd5a",
   "metadata": {},
   "outputs": [
    {
     "data": {
      "text/plain": [
       "12.5"
      ]
     },
     "execution_count": 78,
     "metadata": {},
     "output_type": "execute_result"
    }
   ],
   "source": [
    "5 * 5 / 2"
   ]
  },
  {
   "cell_type": "markdown",
   "id": "b4402cf3-b8fa-4bd1-82a5-bb8e236de448",
   "metadata": {},
   "source": [
    "## Modulus Operator"
   ]
  },
  {
   "cell_type": "code",
   "execution_count": 79,
   "id": "a6322f7f-2535-4978-8180-645a2e9568b5",
   "metadata": {},
   "outputs": [
    {
     "data": {
      "text/plain": [
       "1"
      ]
     },
     "execution_count": 79,
     "metadata": {},
     "output_type": "execute_result"
    }
   ],
   "source": [
    "3 % 2"
   ]
  },
  {
   "cell_type": "markdown",
   "id": "1adf70d9-d110-4214-888a-f2b5e17337b9",
   "metadata": {},
   "source": [
    "## String Operations"
   ]
  },
  {
   "cell_type": "code",
   "execution_count": 80,
   "id": "4fd2602b-c37b-4f34-a93b-d67beb8b6604",
   "metadata": {},
   "outputs": [
    {
     "data": {
      "text/plain": [
       "5"
      ]
     },
     "execution_count": 80,
     "metadata": {},
     "output_type": "execute_result"
    }
   ],
   "source": [
    "3 + 2"
   ]
  },
  {
   "cell_type": "code",
   "execution_count": 81,
   "id": "63fba021-3260-4560-adb0-6b6593a5985f",
   "metadata": {},
   "outputs": [
    {
     "data": {
      "text/plain": [
       "'RawanJalil'"
      ]
     },
     "execution_count": 81,
     "metadata": {},
     "output_type": "execute_result"
    }
   ],
   "source": [
    "\"Rawan\" + \"Jalil\""
   ]
  },
  {
   "cell_type": "code",
   "execution_count": 84,
   "id": "37afd33e-5f13-4a82-9c95-7f7712e88c7f",
   "metadata": {},
   "outputs": [
    {
     "data": {
      "text/plain": [
       "'32'"
      ]
     },
     "execution_count": 84,
     "metadata": {},
     "output_type": "execute_result"
    }
   ],
   "source": [
    "'3' + '2'"
   ]
  },
  {
   "cell_type": "code",
   "execution_count": 85,
   "id": "a4c58a4d-bc94-45fc-a2b4-573cafa59fa1",
   "metadata": {},
   "outputs": [
    {
     "ename": "TypeError",
     "evalue": "can only concatenate str (not \"int\") to str",
     "output_type": "error",
     "traceback": [
      "\u001b[1;31m---------------------------------------------------------------------------\u001b[0m",
      "\u001b[1;31mTypeError\u001b[0m                                 Traceback (most recent call last)",
      "Cell \u001b[1;32mIn[85], line 1\u001b[0m\n\u001b[1;32m----> 1\u001b[0m \u001b[38;5;124;43m'\u001b[39;49m\u001b[38;5;124;43mIslam\u001b[39;49m\u001b[38;5;124;43m'\u001b[39;49m\u001b[43m \u001b[49m\u001b[38;5;241;43m+\u001b[39;49m\u001b[43m  \u001b[49m\u001b[38;5;241;43m10\u001b[39;49m\n",
      "\u001b[1;31mTypeError\u001b[0m: can only concatenate str (not \"int\") to str"
     ]
    }
   ],
   "source": [
    "'Islam' +  10"
   ]
  },
  {
   "cell_type": "code",
   "execution_count": 86,
   "id": "0be328e2-aa28-43fc-b39e-0c9155929a07",
   "metadata": {},
   "outputs": [
    {
     "data": {
      "text/plain": [
       "'Islam10'"
      ]
     },
     "execution_count": 86,
     "metadata": {},
     "output_type": "execute_result"
    }
   ],
   "source": [
    "'Islam' +  '10'"
   ]
  },
  {
   "cell_type": "code",
   "execution_count": 87,
   "id": "db358bc5-3bc1-456a-9d77-f5c0672148f1",
   "metadata": {},
   "outputs": [
    {
     "data": {
      "text/plain": [
       "9"
      ]
     },
     "execution_count": 87,
     "metadata": {},
     "output_type": "execute_result"
    }
   ],
   "source": [
    "3 * 3"
   ]
  },
  {
   "cell_type": "code",
   "execution_count": 88,
   "id": "92ef0591-0675-4b11-8b2c-bc8414950429",
   "metadata": {},
   "outputs": [
    {
     "data": {
      "text/plain": [
       "'NoorNoorNoor'"
      ]
     },
     "execution_count": 88,
     "metadata": {},
     "output_type": "execute_result"
    }
   ],
   "source": [
    "\"Noor\" * 3"
   ]
  },
  {
   "cell_type": "code",
   "execution_count": 89,
   "id": "2c331f7c-c98c-46e0-81b2-1eed6b85d0ef",
   "metadata": {
    "collapsed": true,
    "jupyter": {
     "outputs_hidden": true
    },
    "tags": []
   },
   "outputs": [
    {
     "ename": "TypeError",
     "evalue": "unsupported operand type(s) for /: 'str' and 'int'",
     "output_type": "error",
     "traceback": [
      "\u001b[1;31m---------------------------------------------------------------------------\u001b[0m",
      "\u001b[1;31mTypeError\u001b[0m                                 Traceback (most recent call last)",
      "Cell \u001b[1;32mIn[89], line 1\u001b[0m\n\u001b[1;32m----> 1\u001b[0m \u001b[38;5;124;43m'\u001b[39;49m\u001b[38;5;124;43mNoor\u001b[39;49m\u001b[38;5;124;43m'\u001b[39;49m\u001b[38;5;241;43m/\u001b[39;49m\u001b[38;5;241;43m2\u001b[39;49m\n",
      "\u001b[1;31mTypeError\u001b[0m: unsupported operand type(s) for /: 'str' and 'int'"
     ]
    }
   ],
   "source": [
    "'Noor'/2"
   ]
  },
  {
   "cell_type": "code",
   "execution_count": 91,
   "id": "f7457d97-e666-4bbe-a074-e2e0f4d5bcc8",
   "metadata": {},
   "outputs": [
    {
     "data": {
      "text/plain": [
       "2"
      ]
     },
     "execution_count": 91,
     "metadata": {},
     "output_type": "execute_result"
    }
   ],
   "source": [
    "5 * 5\n",
    "2 + 2\n",
    "1 + 1"
   ]
  },
  {
   "cell_type": "code",
   "execution_count": 92,
   "id": "e9de45c3-7d91-4949-be41-7a234c0e4e0a",
   "metadata": {},
   "outputs": [
    {
     "name": "stdout",
     "output_type": "stream",
     "text": [
      "25\n",
      "4\n",
      "2\n"
     ]
    }
   ],
   "source": [
    "print(5 * 5)\n",
    "print(2 + 2)\n",
    "print(1 + 1)"
   ]
  },
  {
   "cell_type": "markdown",
   "id": "3f600ba2-de24-4a6e-b3e8-cd52d3d3f327",
   "metadata": {},
   "source": [
    "## Ask for input"
   ]
  },
  {
   "cell_type": "code",
   "execution_count": 93,
   "id": "83077668-6adb-41c2-87bd-36f905d00a3d",
   "metadata": {},
   "outputs": [
    {
     "name": "stdout",
     "output_type": "stream",
     "text": [
      "Hello Maram\n"
     ]
    }
   ],
   "source": [
    "name = \"Maram\"\n",
    "print(\"Hello\", name)"
   ]
  },
  {
   "cell_type": "code",
   "execution_count": 99,
   "id": "c5f21178-ceae-413b-abbc-8f9b9ca827f8",
   "metadata": {},
   "outputs": [
    {
     "name": "stdin",
     "output_type": "stream",
     "text": [
      "What's your name? 2040\n"
     ]
    },
    {
     "name": "stdout",
     "output_type": "stream",
     "text": [
      "Hello 2040\n"
     ]
    }
   ],
   "source": [
    "name = input(\"What's your name?\")\n",
    "print(\"Hello\", name)"
   ]
  },
  {
   "cell_type": "code",
   "execution_count": 98,
   "id": "7fbee99f-fb31-422e-ac9c-37fb3cce8e3a",
   "metadata": {},
   "outputs": [],
   "source": [
    "x = 2"
   ]
  },
  {
   "cell_type": "markdown",
   "id": "7837ae50-d558-44f9-84bb-7ef861a57a5e",
   "metadata": {},
   "source": [
    "## Comment"
   ]
  },
  {
   "cell_type": "markdown",
   "id": "f54d7ec6-3461-444e-9c73-a78ae30952e4",
   "metadata": {},
   "source": []
  },
  {
   "cell_type": "code",
   "execution_count": 101,
   "id": "14bd8eac-1cbf-4651-b4fc-ba49b62d6a9b",
   "metadata": {},
   "outputs": [],
   "source": [
    "# this to caculate salary per week\n",
    "weeks= 10 \n",
    "time = 10 # seconds"
   ]
  },
  {
   "cell_type": "code",
   "execution_count": null,
   "id": "dd57cf61-2298-4461-9cca-67b4ba45996a",
   "metadata": {},
   "outputs": [],
   "source": [
    "mohamed = 20\n",
    "x = 10\n",
    "y = 3"
   ]
  },
  {
   "cell_type": "markdown",
   "id": "a64f8d5f-fc64-463d-90c6-13f312a04b0a",
   "metadata": {},
   "source": [
    "## Choosing mnemonic variable names"
   ]
  },
  {
   "cell_type": "code",
   "execution_count": 102,
   "id": "b2e2b837-fc3f-46af-9cbc-9da3603912d6",
   "metadata": {},
   "outputs": [
    {
     "name": "stdout",
     "output_type": "stream",
     "text": [
      "437.5\n"
     ]
    }
   ],
   "source": [
    "a = 35.0\n",
    "b = 12.50\n",
    "c = a * b\n",
    "print(c)"
   ]
  },
  {
   "cell_type": "code",
   "execution_count": 103,
   "id": "ae48e81e-7159-4ca6-8ea8-460b9d459fff",
   "metadata": {},
   "outputs": [
    {
     "name": "stdout",
     "output_type": "stream",
     "text": [
      "437.5\n"
     ]
    }
   ],
   "source": [
    "hours_per_week = 35.0\n",
    "rate_bd = 12.50\n",
    "pay = hours_per_week * rate_bd\n",
    "print(pay)"
   ]
  },
  {
   "cell_type": "code",
   "execution_count": 104,
   "id": "fd0c0742-3109-44f1-b43a-7a320180dfc7",
   "metadata": {},
   "outputs": [
    {
     "name": "stdout",
     "output_type": "stream",
     "text": [
      "437.5\n"
     ]
    }
   ],
   "source": [
    "x1q3z9ahd = 35.0\n",
    "x1q3z9afd = 12.50\n",
    "x1q3p9afd = x1q3z9ahd * x1q3z9afd\n",
    "print(x1q3p9afd)"
   ]
  },
  {
   "cell_type": "code",
   "execution_count": null,
   "id": "8dc88be8-32fc-4e66-848d-1feaa81af5ca",
   "metadata": {},
   "outputs": [],
   "source": []
  }
 ],
 "metadata": {
  "kernelspec": {
   "display_name": "Python [conda env:base] *",
   "language": "python",
   "name": "conda-base-py"
  },
  "language_info": {
   "codemirror_mode": {
    "name": "ipython",
    "version": 3
   },
   "file_extension": ".py",
   "mimetype": "text/x-python",
   "name": "python",
   "nbconvert_exporter": "python",
   "pygments_lexer": "ipython3",
   "version": "3.13.5"
  }
 },
 "nbformat": 4,
 "nbformat_minor": 5
}
